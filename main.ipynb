{
 "cells": [
  {
   "cell_type": "markdown",
   "id": "16d30a17",
   "metadata": {},
   "source": [
    "# ADM - HW2\n",
    "\n"
   ]
  },
  {
   "cell_type": "code",
   "execution_count": 145,
   "id": "c597b82d",
   "metadata": {},
   "outputs": [],
   "source": [
    "import pandas as pd\n",
    "import numpy as np\n",
    "import matplotlib.pyplot as plt\n",
    "import seaborn as sns"
   ]
  },
  {
   "cell_type": "code",
   "execution_count": 81,
   "id": "fb76bb8a",
   "metadata": {},
   "outputs": [],
   "source": [
    "df_locations = pd.read_csv('instagram_locations.csv', delimiter = '\\t')"
   ]
  },
  {
   "cell_type": "code",
   "execution_count": 3,
   "id": "8d053f18",
   "metadata": {},
   "outputs": [],
   "source": [
    "df_profiles = pd.read_csv('instagram_profiles.csv', delimiter = '\\t')"
   ]
  },
  {
   "cell_type": "markdown",
   "id": "6cf69891",
   "metadata": {},
   "source": [
    "## Research questions"
   ]
  },
  {
   "cell_type": "markdown",
   "id": "8481a1b9",
   "metadata": {},
   "source": [
    "### RQ1 - Exploratory Analysis"
   ]
  },
  {
   "cell_type": "markdown",
   "id": "4656b38b",
   "metadata": {},
   "source": [
    "##### Data_Locations"
   ]
  },
  {
   "cell_type": "code",
   "execution_count": 4,
   "id": "e1de0ab1",
   "metadata": {},
   "outputs": [
    {
     "data": {
      "text/html": [
       "<div>\n",
       "<style scoped>\n",
       "    .dataframe tbody tr th:only-of-type {\n",
       "        vertical-align: middle;\n",
       "    }\n",
       "\n",
       "    .dataframe tbody tr th {\n",
       "        vertical-align: top;\n",
       "    }\n",
       "\n",
       "    .dataframe thead th {\n",
       "        text-align: right;\n",
       "    }\n",
       "</style>\n",
       "<table border=\"1\" class=\"dataframe\">\n",
       "  <thead>\n",
       "    <tr style=\"text-align: right;\">\n",
       "      <th></th>\n",
       "      <th>sid</th>\n",
       "      <th>id</th>\n",
       "      <th>name</th>\n",
       "      <th>street</th>\n",
       "      <th>zip</th>\n",
       "      <th>city</th>\n",
       "      <th>region</th>\n",
       "      <th>cd</th>\n",
       "      <th>phone</th>\n",
       "      <th>aj_exact_city_match</th>\n",
       "      <th>...</th>\n",
       "      <th>dir_city_name</th>\n",
       "      <th>dir_city_slug</th>\n",
       "      <th>dir_country_id</th>\n",
       "      <th>dir_country_name</th>\n",
       "      <th>lat</th>\n",
       "      <th>lng</th>\n",
       "      <th>primary_alias_on_fb</th>\n",
       "      <th>slug</th>\n",
       "      <th>website</th>\n",
       "      <th>cts</th>\n",
       "    </tr>\n",
       "  </thead>\n",
       "  <tbody>\n",
       "    <tr>\n",
       "      <th>0</th>\n",
       "      <td>719981</td>\n",
       "      <td>110296492939207</td>\n",
       "      <td>Playa de Daimuz - Valencia, España</td>\n",
       "      <td>NaN</td>\n",
       "      <td>NaN</td>\n",
       "      <td>NaN</td>\n",
       "      <td>NaN</td>\n",
       "      <td>NaN</td>\n",
       "      <td>NaN</td>\n",
       "      <td>False</td>\n",
       "      <td>...</td>\n",
       "      <td>NaN</td>\n",
       "      <td>NaN</td>\n",
       "      <td>NaN</td>\n",
       "      <td>NaN</td>\n",
       "      <td>-0.139475</td>\n",
       "      <td>38.974391</td>\n",
       "      <td>daimuzplaya</td>\n",
       "      <td>playa-de-daimuz-valencia-espana</td>\n",
       "      <td>https://es.wikipedia.org/wiki/Daimuz</td>\n",
       "      <td>2019-05-29 01:21:29.987</td>\n",
       "    </tr>\n",
       "    <tr>\n",
       "      <th>1</th>\n",
       "      <td>719983</td>\n",
       "      <td>274391278</td>\n",
       "      <td>Nová Vieska</td>\n",
       "      <td>NaN</td>\n",
       "      <td>NaN</td>\n",
       "      <td>Nová Vieska</td>\n",
       "      <td>NaN</td>\n",
       "      <td>SK</td>\n",
       "      <td>NaN</td>\n",
       "      <td>True</td>\n",
       "      <td>...</td>\n",
       "      <td>Kis-Újfalu</td>\n",
       "      <td>kis-ujfalu</td>\n",
       "      <td>SK</td>\n",
       "      <td>Slovakia</td>\n",
       "      <td>18.466667</td>\n",
       "      <td>47.866667</td>\n",
       "      <td>NaN</td>\n",
       "      <td>nova-vieska</td>\n",
       "      <td>NaN</td>\n",
       "      <td>2019-05-29 01:21:38.037</td>\n",
       "    </tr>\n",
       "    <tr>\n",
       "      <th>2</th>\n",
       "      <td>719985</td>\n",
       "      <td>148885595789195</td>\n",
       "      <td>Everest Today</td>\n",
       "      <td>Himalayas</td>\n",
       "      <td>+977</td>\n",
       "      <td>Kathmandu, Nepal</td>\n",
       "      <td>NaN</td>\n",
       "      <td>NP</td>\n",
       "      <td>NaN</td>\n",
       "      <td>False</td>\n",
       "      <td>...</td>\n",
       "      <td>Pasupati</td>\n",
       "      <td>pasupati</td>\n",
       "      <td>NP</td>\n",
       "      <td>Nepal</td>\n",
       "      <td>85.330150</td>\n",
       "      <td>27.701960</td>\n",
       "      <td>EverestToday</td>\n",
       "      <td>everest-today</td>\n",
       "      <td>NaN</td>\n",
       "      <td>2019-05-29 01:21:46.295</td>\n",
       "    </tr>\n",
       "    <tr>\n",
       "      <th>3</th>\n",
       "      <td>719987</td>\n",
       "      <td>263258277</td>\n",
       "      <td>BULAC - Bibliothèque universitaire des langues...</td>\n",
       "      <td>65, rue des Grands-Moulins</td>\n",
       "      <td>75013</td>\n",
       "      <td>Paris, France</td>\n",
       "      <td>NaN</td>\n",
       "      <td>FR</td>\n",
       "      <td>01 81 69 18 00</td>\n",
       "      <td>False</td>\n",
       "      <td>...</td>\n",
       "      <td>13ème Arrondissement Paris</td>\n",
       "      <td>13eme-arrondissement-paris</td>\n",
       "      <td>FR</td>\n",
       "      <td>France</td>\n",
       "      <td>2.375995</td>\n",
       "      <td>48.827240</td>\n",
       "      <td>BULAC.Paris</td>\n",
       "      <td>bulac-bibliotheque-universitaire-des-langues-e...</td>\n",
       "      <td>www.bulac.fr</td>\n",
       "      <td>2019-05-29 01:21:54.355</td>\n",
       "    </tr>\n",
       "    <tr>\n",
       "      <th>4</th>\n",
       "      <td>326443</td>\n",
       "      <td>406147529857708</td>\n",
       "      <td>ABC Cable Networks Group</td>\n",
       "      <td>3800 W Alameda Ave</td>\n",
       "      <td>91505</td>\n",
       "      <td>Burbank, California</td>\n",
       "      <td>NaN</td>\n",
       "      <td>US</td>\n",
       "      <td>(818) 569-7500</td>\n",
       "      <td>False</td>\n",
       "      <td>...</td>\n",
       "      <td>NaN</td>\n",
       "      <td>NaN</td>\n",
       "      <td>NaN</td>\n",
       "      <td>NaN</td>\n",
       "      <td>-118.341864</td>\n",
       "      <td>34.153265</td>\n",
       "      <td>NaN</td>\n",
       "      <td>abc-cable-networks-group</td>\n",
       "      <td>NaN</td>\n",
       "      <td>2019-04-02 15:22:55.703</td>\n",
       "    </tr>\n",
       "  </tbody>\n",
       "</table>\n",
       "<p>5 rows × 23 columns</p>\n",
       "</div>"
      ],
      "text/plain": [
       "      sid               id                                               name  \\\n",
       "0  719981  110296492939207                 Playa de Daimuz - Valencia, España   \n",
       "1  719983        274391278                                        Nová Vieska   \n",
       "2  719985  148885595789195                                      Everest Today   \n",
       "3  719987        263258277  BULAC - Bibliothèque universitaire des langues...   \n",
       "4  326443  406147529857708                           ABC Cable Networks Group   \n",
       "\n",
       "                       street    zip                 city region   cd  \\\n",
       "0                         NaN    NaN                  NaN    NaN  NaN   \n",
       "1                         NaN    NaN          Nová Vieska    NaN   SK   \n",
       "2                   Himalayas   +977     Kathmandu, Nepal    NaN   NP   \n",
       "3  65, rue des Grands-Moulins  75013        Paris, France    NaN   FR   \n",
       "4          3800 W Alameda Ave  91505  Burbank, California    NaN   US   \n",
       "\n",
       "            phone aj_exact_city_match  ...               dir_city_name  \\\n",
       "0             NaN               False  ...                         NaN   \n",
       "1             NaN                True  ...                  Kis-Újfalu   \n",
       "2             NaN               False  ...                    Pasupati   \n",
       "3  01 81 69 18 00               False  ...  13ème Arrondissement Paris   \n",
       "4  (818) 569-7500               False  ...                         NaN   \n",
       "\n",
       "                dir_city_slug dir_country_id dir_country_name         lat  \\\n",
       "0                         NaN            NaN              NaN   -0.139475   \n",
       "1                  kis-ujfalu             SK         Slovakia   18.466667   \n",
       "2                    pasupati             NP            Nepal   85.330150   \n",
       "3  13eme-arrondissement-paris             FR           France    2.375995   \n",
       "4                         NaN            NaN              NaN -118.341864   \n",
       "\n",
       "         lng primary_alias_on_fb  \\\n",
       "0  38.974391         daimuzplaya   \n",
       "1  47.866667                 NaN   \n",
       "2  27.701960        EverestToday   \n",
       "3  48.827240         BULAC.Paris   \n",
       "4  34.153265                 NaN   \n",
       "\n",
       "                                                slug  \\\n",
       "0                    playa-de-daimuz-valencia-espana   \n",
       "1                                        nova-vieska   \n",
       "2                                      everest-today   \n",
       "3  bulac-bibliotheque-universitaire-des-langues-e...   \n",
       "4                           abc-cable-networks-group   \n",
       "\n",
       "                                website                      cts  \n",
       "0  https://es.wikipedia.org/wiki/Daimuz  2019-05-29 01:21:29.987  \n",
       "1                                   NaN  2019-05-29 01:21:38.037  \n",
       "2                                   NaN  2019-05-29 01:21:46.295  \n",
       "3                          www.bulac.fr  2019-05-29 01:21:54.355  \n",
       "4                                   NaN  2019-04-02 15:22:55.703  \n",
       "\n",
       "[5 rows x 23 columns]"
      ]
     },
     "execution_count": 4,
     "metadata": {},
     "output_type": "execute_result"
    }
   ],
   "source": [
    "df_locations.head()"
   ]
  },
  {
   "cell_type": "code",
   "execution_count": 5,
   "id": "bcc240c0",
   "metadata": {},
   "outputs": [
    {
     "data": {
      "text/plain": [
       "(1022658, 23)"
      ]
     },
     "execution_count": 5,
     "metadata": {},
     "output_type": "execute_result"
    }
   ],
   "source": [
    "df_locations.shape"
   ]
  },
  {
   "cell_type": "code",
   "execution_count": 6,
   "id": "16a46991",
   "metadata": {},
   "outputs": [
    {
     "data": {
      "text/plain": [
       "Index(['sid', 'id', 'name', 'street', 'zip', 'city', 'region', 'cd', 'phone',\n",
       "       'aj_exact_city_match', 'aj_exact_country_match', 'blurb', 'dir_city_id',\n",
       "       'dir_city_name', 'dir_city_slug', 'dir_country_id', 'dir_country_name',\n",
       "       'lat', 'lng', 'primary_alias_on_fb', 'slug', 'website', 'cts'],\n",
       "      dtype='object')"
      ]
     },
     "execution_count": 6,
     "metadata": {},
     "output_type": "execute_result"
    }
   ],
   "source": [
    "df_locations.columns"
   ]
  },
  {
   "cell_type": "code",
   "execution_count": 7,
   "id": "32fde803",
   "metadata": {},
   "outputs": [
    {
     "name": "stdout",
     "output_type": "stream",
     "text": [
      "<class 'pandas.core.frame.DataFrame'>\n",
      "RangeIndex: 1022658 entries, 0 to 1022657\n",
      "Data columns (total 23 columns):\n",
      " #   Column                  Non-Null Count    Dtype  \n",
      "---  ------                  --------------    -----  \n",
      " 0   sid                     1022658 non-null  int64  \n",
      " 1   id                      1022658 non-null  int64  \n",
      " 2   name                    1022658 non-null  object \n",
      " 3   street                  715704 non-null   object \n",
      " 4   zip                     715579 non-null   object \n",
      " 5   city                    937166 non-null   object \n",
      " 6   region                  1760 non-null     object \n",
      " 7   cd                      939010 non-null   object \n",
      " 8   phone                   601688 non-null   object \n",
      " 9   aj_exact_city_match     1000510 non-null  object \n",
      " 10  aj_exact_country_match  1000510 non-null  object \n",
      " 11  blurb                   406705 non-null   object \n",
      " 12  dir_city_id             495698 non-null   object \n",
      " 13  dir_city_name           495698 non-null   object \n",
      " 14  dir_city_slug           495221 non-null   object \n",
      " 15  dir_country_id          495628 non-null   object \n",
      " 16  dir_country_name        495698 non-null   object \n",
      " 17  lat                     1016495 non-null  float64\n",
      " 18  lng                     1016495 non-null  float64\n",
      " 19  primary_alias_on_fb     425531 non-null   object \n",
      " 20  slug                    941668 non-null   object \n",
      " 21  website                 623262 non-null   object \n",
      " 22  cts                     1022658 non-null  object \n",
      "dtypes: float64(2), int64(2), object(19)\n",
      "memory usage: 179.5+ MB\n"
     ]
    }
   ],
   "source": [
    "df_locations.info()"
   ]
  },
  {
   "cell_type": "code",
   "execution_count": 8,
   "id": "f4b7838c",
   "metadata": {},
   "outputs": [
    {
     "data": {
      "text/plain": [
       "sid                             0\n",
       "id                              0\n",
       "name                            0\n",
       "street                     306954\n",
       "zip                        307079\n",
       "city                        85492\n",
       "region                    1020898\n",
       "cd                          83648\n",
       "phone                      420970\n",
       "aj_exact_city_match         22148\n",
       "aj_exact_country_match      22148\n",
       "blurb                      615953\n",
       "dir_city_id                526960\n",
       "dir_city_name              526960\n",
       "dir_city_slug              527437\n",
       "dir_country_id             527030\n",
       "dir_country_name           526960\n",
       "lat                          6163\n",
       "lng                          6163\n",
       "primary_alias_on_fb        597127\n",
       "slug                        80990\n",
       "website                    399396\n",
       "cts                             0\n",
       "dtype: int64"
      ]
     },
     "execution_count": 8,
     "metadata": {},
     "output_type": "execute_result"
    }
   ],
   "source": [
    "# check for NaN values\n",
    "df_locations.isna().sum()"
   ]
  },
  {
   "cell_type": "code",
   "execution_count": 9,
   "id": "b65303ca",
   "metadata": {},
   "outputs": [
    {
     "data": {
      "text/plain": [
       "sid                        0.000000\n",
       "id                         0.000000\n",
       "name                       0.000000\n",
       "street                    30.015313\n",
       "zip                       30.027536\n",
       "city                       8.359784\n",
       "region                    99.827899\n",
       "cd                         8.179470\n",
       "phone                     41.164299\n",
       "aj_exact_city_match        2.165729\n",
       "aj_exact_country_match     2.165729\n",
       "blurb                     60.230595\n",
       "dir_city_id               51.528468\n",
       "dir_city_name             51.528468\n",
       "dir_city_slug             51.575111\n",
       "dir_country_id            51.535313\n",
       "dir_country_name          51.528468\n",
       "lat                        0.602645\n",
       "lng                        0.602645\n",
       "primary_alias_on_fb       58.389706\n",
       "slug                       7.919559\n",
       "website                   39.054699\n",
       "cts                        0.000000\n",
       "dtype: float64"
      ]
     },
     "execution_count": 9,
     "metadata": {},
     "output_type": "execute_result"
    }
   ],
   "source": [
    "# check the percentage of missing values for each column\n",
    "df_locations.isnull().sum() / df_locations.shape[0] * 100"
   ]
  },
  {
   "cell_type": "markdown",
   "id": "0525d859",
   "metadata": {},
   "source": [
    "We can see that for some of the columns more than half of the observations have NaN values. For example, 'region' has 99.8% missing values. Therefore, we can drop this feature when analyzing the dataset.\n",
    "\n",
    "'blurb', 'dir_city_id', 'dir_city_name', 'dir_city_slug', 'dir_country_id', 'dir_country_name', 'primary_alias_on_fb' have around half of the observations missing. => We can further analyze those features and decide whether they are important and whether we should include them or drop them in our analysis."
   ]
  },
  {
   "cell_type": "code",
   "execution_count": 10,
   "id": "e815e6d8",
   "metadata": {},
   "outputs": [],
   "source": [
    "# fill in the missing values with \"\" for some of the columns (cols that we might need when analyzing the data)\n",
    "\n",
    "df_locations[['street', 'zip', 'city', 'phone', 'dir_city_id', 'dir_city_name', 'dir_city_slug', 'dir_country_id', 'dir_country_name',\n",
    "       'lat', 'lng', 'primary_alias_on_fb', 'website']] = df_locations[['street', 'zip', 'city', 'phone', 'dir_city_id', 'dir_city_name', 'dir_city_slug', 'dir_country_id', 'dir_country_name',\n",
    "       'lat', 'lng', 'primary_alias_on_fb', 'website']].fillna(value = \"\")\n"
   ]
  },
  {
   "cell_type": "code",
   "execution_count": 11,
   "id": "26046ff5",
   "metadata": {},
   "outputs": [
    {
     "data": {
      "text/plain": [
       "sid                             0\n",
       "id                              0\n",
       "name                            0\n",
       "street                          0\n",
       "zip                             0\n",
       "city                            0\n",
       "region                    1020898\n",
       "cd                          83648\n",
       "phone                           0\n",
       "aj_exact_city_match         22148\n",
       "aj_exact_country_match      22148\n",
       "blurb                      615953\n",
       "dir_city_id                     0\n",
       "dir_city_name                   0\n",
       "dir_city_slug                   0\n",
       "dir_country_id                  0\n",
       "dir_country_name                0\n",
       "lat                             0\n",
       "lng                             0\n",
       "primary_alias_on_fb             0\n",
       "slug                        80990\n",
       "website                         0\n",
       "cts                             0\n",
       "dtype: int64"
      ]
     },
     "execution_count": 11,
     "metadata": {},
     "output_type": "execute_result"
    }
   ],
   "source": [
    "# check for NaN values\n",
    "df_locations.isna().sum()"
   ]
  },
  {
   "cell_type": "code",
   "execution_count": 12,
   "id": "f7e59dc3",
   "metadata": {},
   "outputs": [
    {
     "data": {
      "text/plain": [
       "0"
      ]
     },
     "execution_count": 12,
     "metadata": {},
     "output_type": "execute_result"
    }
   ],
   "source": [
    "# check for duplicates\n",
    "df_locations.duplicated().sum()"
   ]
  },
  {
   "cell_type": "code",
   "execution_count": 13,
   "id": "0659438b",
   "metadata": {},
   "outputs": [],
   "source": [
    "# convert 'cts' to a Datetime format\n",
    "df_locations.cts = pd.to_datetime(df_locations.cts)"
   ]
  },
  {
   "cell_type": "code",
   "execution_count": 14,
   "id": "f7a2f0cf",
   "metadata": {},
   "outputs": [],
   "source": [
    "# change the type of the variables\n",
    "df_locations.sid = df_locations.sid.astype('int')\n",
    "df_locations.id = df_locations.id.astype('int')\n",
    "df_locations.name = df_locations.name.astype('str')\n",
    "df_locations.street = df_locations.street.astype('str')\n",
    "df_locations.zip = df_locations.zip.astype('str')\n",
    "df_locations.city = df_locations.city.astype('str')\n",
    "df_locations.cd = df_locations.cd.astype('str')\n",
    "df_locations.phone = df_locations.phone.astype('str')\n",
    "df_locations.dir_city_id = df_locations.dir_city_id.astype('str')\n",
    "df_locations.dir_city_name = df_locations.dir_city_name.astype('str')\n",
    "df_locations.dir_city_slug = df_locations.dir_city_slug.astype('str')\n",
    "df_locations.dir_country_id = df_locations.dir_country_id.astype('str')\n",
    "df_locations.dir_country_name = df_locations.dir_country_name.astype('str')\n",
    "df_locations.website = df_locations.website.astype('str')"
   ]
  },
  {
   "cell_type": "code",
   "execution_count": null,
   "id": "52ec335a",
   "metadata": {},
   "outputs": [],
   "source": []
  },
  {
   "cell_type": "code",
   "execution_count": 15,
   "id": "0ba4b5df",
   "metadata": {
    "scrolled": true
   },
   "outputs": [
    {
     "data": {
      "text/plain": [
       "121685"
      ]
     },
     "execution_count": 15,
     "metadata": {},
     "output_type": "execute_result"
    }
   ],
   "source": [
    "# number of unique cities (excluding the empty '' string)\n",
    "len(df_locations.dir_city_id.unique()) - 1"
   ]
  },
  {
   "cell_type": "code",
   "execution_count": 16,
   "id": "0d8074ca",
   "metadata": {},
   "outputs": [
    {
     "data": {
      "text/plain": [
       "234"
      ]
     },
     "execution_count": 16,
     "metadata": {},
     "output_type": "execute_result"
    }
   ],
   "source": [
    "# number of unique countries (excluding the empty '' string)\n",
    "len(df_locations.dir_country_id.unique()) - 1"
   ]
  },
  {
   "cell_type": "code",
   "execution_count": null,
   "id": "7c969182",
   "metadata": {},
   "outputs": [],
   "source": []
  },
  {
   "cell_type": "markdown",
   "id": "f9f85e70",
   "metadata": {},
   "source": [
    "#### Data_profiles"
   ]
  },
  {
   "cell_type": "code",
   "execution_count": 17,
   "id": "20a94c88",
   "metadata": {
    "scrolled": true
   },
   "outputs": [
    {
     "data": {
      "text/html": [
       "<div>\n",
       "<style scoped>\n",
       "    .dataframe tbody tr th:only-of-type {\n",
       "        vertical-align: middle;\n",
       "    }\n",
       "\n",
       "    .dataframe tbody tr th {\n",
       "        vertical-align: top;\n",
       "    }\n",
       "\n",
       "    .dataframe thead th {\n",
       "        text-align: right;\n",
       "    }\n",
       "</style>\n",
       "<table border=\"1\" class=\"dataframe\">\n",
       "  <thead>\n",
       "    <tr style=\"text-align: right;\">\n",
       "      <th></th>\n",
       "      <th>sid</th>\n",
       "      <th>profile_id</th>\n",
       "      <th>profile_name</th>\n",
       "      <th>firstname_lastname</th>\n",
       "      <th>description</th>\n",
       "      <th>following</th>\n",
       "      <th>followers</th>\n",
       "      <th>n_posts</th>\n",
       "      <th>url</th>\n",
       "      <th>cts</th>\n",
       "      <th>is_business_account</th>\n",
       "    </tr>\n",
       "  </thead>\n",
       "  <tbody>\n",
       "    <tr>\n",
       "      <th>0</th>\n",
       "      <td>4184446</td>\n",
       "      <td>4.721050e+09</td>\n",
       "      <td>jphillip033</td>\n",
       "      <td>John Pierce</td>\n",
       "      <td>\"Document Everything Always\"</td>\n",
       "      <td>250.0</td>\n",
       "      <td>146.0</td>\n",
       "      <td>170.0</td>\n",
       "      <td>NaN</td>\n",
       "      <td>2019-08-01 14:38:55.394 -0400</td>\n",
       "      <td>False</td>\n",
       "    </tr>\n",
       "    <tr>\n",
       "      <th>1</th>\n",
       "      <td>4184457</td>\n",
       "      <td>5.905830e+08</td>\n",
       "      <td>mama_haas</td>\n",
       "      <td>Deanna</td>\n",
       "      <td>Trying to enjoy the simple things in life. Kni...</td>\n",
       "      <td>534.0</td>\n",
       "      <td>1145.0</td>\n",
       "      <td>2878.0</td>\n",
       "      <td>www.etsy.com/shop/MamaHaas69</td>\n",
       "      <td>2019-08-01 14:39:36.526 -0400</td>\n",
       "      <td>False</td>\n",
       "    </tr>\n",
       "    <tr>\n",
       "      <th>2</th>\n",
       "      <td>4184460</td>\n",
       "      <td>1.074147e+09</td>\n",
       "      <td>yellowlightbreen</td>\n",
       "      <td>Eliza Gray</td>\n",
       "      <td>Maine is for Lovers</td>\n",
       "      <td>469.0</td>\n",
       "      <td>324.0</td>\n",
       "      <td>431.0</td>\n",
       "      <td>elizajanegray.com</td>\n",
       "      <td>2019-08-01 14:39:54.407 -0400</td>\n",
       "      <td>False</td>\n",
       "    </tr>\n",
       "  </tbody>\n",
       "</table>\n",
       "</div>"
      ],
      "text/plain": [
       "       sid    profile_id      profile_name firstname_lastname  \\\n",
       "0  4184446  4.721050e+09       jphillip033        John Pierce   \n",
       "1  4184457  5.905830e+08         mama_haas             Deanna   \n",
       "2  4184460  1.074147e+09  yellowlightbreen         Eliza Gray   \n",
       "\n",
       "                                         description  following  followers  \\\n",
       "0                       \"Document Everything Always\"      250.0      146.0   \n",
       "1  Trying to enjoy the simple things in life. Kni...      534.0     1145.0   \n",
       "2                                Maine is for Lovers      469.0      324.0   \n",
       "\n",
       "   n_posts                           url                            cts  \\\n",
       "0    170.0                           NaN  2019-08-01 14:38:55.394 -0400   \n",
       "1   2878.0  www.etsy.com/shop/MamaHaas69  2019-08-01 14:39:36.526 -0400   \n",
       "2    431.0             elizajanegray.com  2019-08-01 14:39:54.407 -0400   \n",
       "\n",
       "  is_business_account  \n",
       "0               False  \n",
       "1               False  \n",
       "2               False  "
      ]
     },
     "execution_count": 17,
     "metadata": {},
     "output_type": "execute_result"
    }
   ],
   "source": [
    "df_profiles.head(3)"
   ]
  },
  {
   "cell_type": "code",
   "execution_count": 18,
   "id": "c3605b99",
   "metadata": {},
   "outputs": [
    {
     "data": {
      "text/plain": [
       "(4509586, 11)"
      ]
     },
     "execution_count": 18,
     "metadata": {},
     "output_type": "execute_result"
    }
   ],
   "source": [
    "df_profiles.shape"
   ]
  },
  {
   "cell_type": "code",
   "execution_count": 19,
   "id": "ec865071",
   "metadata": {},
   "outputs": [
    {
     "data": {
      "text/plain": [
       "Index(['sid', 'profile_id', 'profile_name', 'firstname_lastname',\n",
       "       'description', 'following', 'followers', 'n_posts', 'url', 'cts',\n",
       "       'is_business_account'],\n",
       "      dtype='object')"
      ]
     },
     "execution_count": 19,
     "metadata": {},
     "output_type": "execute_result"
    }
   ],
   "source": [
    "df_profiles.columns"
   ]
  },
  {
   "cell_type": "code",
   "execution_count": 20,
   "id": "e3efd909",
   "metadata": {},
   "outputs": [
    {
     "data": {
      "text/plain": [
       "0"
      ]
     },
     "execution_count": 20,
     "metadata": {},
     "output_type": "execute_result"
    }
   ],
   "source": [
    "# check for duplicates\n",
    "df_profiles.duplicated().sum()"
   ]
  },
  {
   "cell_type": "markdown",
   "id": "8b098d2a",
   "metadata": {},
   "source": [
    "There are no duplicates based on all features, including the \"sid\" feature."
   ]
  },
  {
   "cell_type": "code",
   "execution_count": 21,
   "id": "309273ee",
   "metadata": {
    "scrolled": true
   },
   "outputs": [
    {
     "name": "stdout",
     "output_type": "stream",
     "text": [
      "There are 338 duplicates in the dataset.\n"
     ]
    }
   ],
   "source": [
    "# check for duplicates while ignoring the index feature (\"sid\" = sequence id)\n",
    "n_duplicates = df_profiles.drop(labels=[\"sid\"], axis=1).duplicated().sum()\n",
    "print(f\"There are {n_duplicates} duplicates in the dataset.\")"
   ]
  },
  {
   "cell_type": "code",
   "execution_count": 22,
   "id": "af769714",
   "metadata": {},
   "outputs": [
    {
     "data": {
      "text/html": [
       "<div>\n",
       "<style scoped>\n",
       "    .dataframe tbody tr th:only-of-type {\n",
       "        vertical-align: middle;\n",
       "    }\n",
       "\n",
       "    .dataframe tbody tr th {\n",
       "        vertical-align: top;\n",
       "    }\n",
       "\n",
       "    .dataframe thead th {\n",
       "        text-align: right;\n",
       "    }\n",
       "</style>\n",
       "<table border=\"1\" class=\"dataframe\">\n",
       "  <thead>\n",
       "    <tr style=\"text-align: right;\">\n",
       "      <th></th>\n",
       "      <th>sid</th>\n",
       "      <th>profile_id</th>\n",
       "      <th>profile_name</th>\n",
       "      <th>firstname_lastname</th>\n",
       "      <th>description</th>\n",
       "      <th>following</th>\n",
       "      <th>followers</th>\n",
       "      <th>n_posts</th>\n",
       "      <th>url</th>\n",
       "      <th>cts</th>\n",
       "      <th>is_business_account</th>\n",
       "    </tr>\n",
       "  </thead>\n",
       "  <tbody>\n",
       "    <tr>\n",
       "      <th>3969686</th>\n",
       "      <td>3644732</td>\n",
       "      <td>272366.0</td>\n",
       "      <td>rkrkrk</td>\n",
       "      <td>R̸K̸</td>\n",
       "      <td>NaN</td>\n",
       "      <td>NaN</td>\n",
       "      <td>NaN</td>\n",
       "      <td>NaN</td>\n",
       "      <td>NaN</td>\n",
       "      <td>2019-06-29 18:00:18.777 -0400</td>\n",
       "      <td>NaN</td>\n",
       "    </tr>\n",
       "    <tr>\n",
       "      <th>3969875</th>\n",
       "      <td>3644730</td>\n",
       "      <td>272366.0</td>\n",
       "      <td>rkrkrk</td>\n",
       "      <td>R̸K̸</td>\n",
       "      <td>NaN</td>\n",
       "      <td>NaN</td>\n",
       "      <td>NaN</td>\n",
       "      <td>NaN</td>\n",
       "      <td>NaN</td>\n",
       "      <td>2019-06-29 18:00:18.714 -0400</td>\n",
       "      <td>NaN</td>\n",
       "    </tr>\n",
       "    <tr>\n",
       "      <th>637382</th>\n",
       "      <td>348513</td>\n",
       "      <td>473929.0</td>\n",
       "      <td>arthamey</td>\n",
       "      <td>Arthamey</td>\n",
       "      <td>NaN</td>\n",
       "      <td>NaN</td>\n",
       "      <td>NaN</td>\n",
       "      <td>NaN</td>\n",
       "      <td>NaN</td>\n",
       "      <td>NaN</td>\n",
       "      <td>NaN</td>\n",
       "    </tr>\n",
       "    <tr>\n",
       "      <th>637327</th>\n",
       "      <td>348514</td>\n",
       "      <td>473929.0</td>\n",
       "      <td>arthamey</td>\n",
       "      <td>Arthamey</td>\n",
       "      <td>NaN</td>\n",
       "      <td>NaN</td>\n",
       "      <td>NaN</td>\n",
       "      <td>NaN</td>\n",
       "      <td>NaN</td>\n",
       "      <td>NaN</td>\n",
       "      <td>NaN</td>\n",
       "    </tr>\n",
       "    <tr>\n",
       "      <th>4013390</th>\n",
       "      <td>3680065</td>\n",
       "      <td>834947.0</td>\n",
       "      <td>topscottphoto</td>\n",
       "      <td>T O P H E R   S C O T T  📸✨</td>\n",
       "      <td>👨🏻‍💻 Photographer / CEO @tycoonstudionyc \\n🗽Ba...</td>\n",
       "      <td>499.0</td>\n",
       "      <td>6371.0</td>\n",
       "      <td>329.0</td>\n",
       "      <td>www.topherscott.nyc</td>\n",
       "      <td>2019-07-02 04:50:11.913 -0400</td>\n",
       "      <td>True</td>\n",
       "    </tr>\n",
       "    <tr>\n",
       "      <th>4013321</th>\n",
       "      <td>3680068</td>\n",
       "      <td>834947.0</td>\n",
       "      <td>topscottphoto</td>\n",
       "      <td>T O P H E R   S C O T T  📸✨</td>\n",
       "      <td>👨🏻‍💻 Photographer / CEO @tycoonstudionyc \\n🗽Ba...</td>\n",
       "      <td>499.0</td>\n",
       "      <td>6371.0</td>\n",
       "      <td>329.0</td>\n",
       "      <td>www.topherscott.nyc</td>\n",
       "      <td>2019-07-02 04:50:11.722 -0400</td>\n",
       "      <td>True</td>\n",
       "    </tr>\n",
       "    <tr>\n",
       "      <th>4013248</th>\n",
       "      <td>3680067</td>\n",
       "      <td>834947.0</td>\n",
       "      <td>topscottphoto</td>\n",
       "      <td>T O P H E R   S C O T T  📸✨</td>\n",
       "      <td>👨🏻‍💻 Photographer / CEO @tycoonstudionyc \\n🗽Ba...</td>\n",
       "      <td>499.0</td>\n",
       "      <td>6371.0</td>\n",
       "      <td>329.0</td>\n",
       "      <td>www.topherscott.nyc</td>\n",
       "      <td>2019-07-02 04:50:11.940 -0400</td>\n",
       "      <td>True</td>\n",
       "    </tr>\n",
       "    <tr>\n",
       "      <th>2859937</th>\n",
       "      <td>380036</td>\n",
       "      <td>859551.0</td>\n",
       "      <td>gunnicool</td>\n",
       "      <td>Gunnar Sigurdur Zöega Gudmundsson</td>\n",
       "      <td>NaN</td>\n",
       "      <td>NaN</td>\n",
       "      <td>NaN</td>\n",
       "      <td>NaN</td>\n",
       "      <td>NaN</td>\n",
       "      <td>NaN</td>\n",
       "      <td>NaN</td>\n",
       "    </tr>\n",
       "    <tr>\n",
       "      <th>728346</th>\n",
       "      <td>380039</td>\n",
       "      <td>859551.0</td>\n",
       "      <td>gunnicool</td>\n",
       "      <td>Gunnar Sigurdur Zöega Gudmundsson</td>\n",
       "      <td>NaN</td>\n",
       "      <td>NaN</td>\n",
       "      <td>NaN</td>\n",
       "      <td>NaN</td>\n",
       "      <td>NaN</td>\n",
       "      <td>NaN</td>\n",
       "      <td>NaN</td>\n",
       "    </tr>\n",
       "    <tr>\n",
       "      <th>2871629</th>\n",
       "      <td>337878</td>\n",
       "      <td>977359.0</td>\n",
       "      <td>chuckdafonk</td>\n",
       "      <td>Charlie Fishman</td>\n",
       "      <td>Please BUY our new EP with ⭐️ @dolettemcdonald...</td>\n",
       "      <td>5460.0</td>\n",
       "      <td>2363.0</td>\n",
       "      <td>11848.0</td>\n",
       "      <td>bit.ly/buy_zimbra</td>\n",
       "      <td>NaN</td>\n",
       "      <td>False</td>\n",
       "    </tr>\n",
       "  </tbody>\n",
       "</table>\n",
       "</div>"
      ],
      "text/plain": [
       "             sid  profile_id   profile_name  \\\n",
       "3969686  3644732    272366.0         rkrkrk   \n",
       "3969875  3644730    272366.0         rkrkrk   \n",
       "637382    348513    473929.0       arthamey   \n",
       "637327    348514    473929.0       arthamey   \n",
       "4013390  3680065    834947.0  topscottphoto   \n",
       "4013321  3680068    834947.0  topscottphoto   \n",
       "4013248  3680067    834947.0  topscottphoto   \n",
       "2859937   380036    859551.0      gunnicool   \n",
       "728346    380039    859551.0      gunnicool   \n",
       "2871629   337878    977359.0    chuckdafonk   \n",
       "\n",
       "                        firstname_lastname  \\\n",
       "3969686                               R̸K̸   \n",
       "3969875                               R̸K̸   \n",
       "637382                            Arthamey   \n",
       "637327                            Arthamey   \n",
       "4013390        T O P H E R   S C O T T  📸✨   \n",
       "4013321        T O P H E R   S C O T T  📸✨   \n",
       "4013248        T O P H E R   S C O T T  📸✨   \n",
       "2859937  Gunnar Sigurdur Zöega Gudmundsson   \n",
       "728346   Gunnar Sigurdur Zöega Gudmundsson   \n",
       "2871629                    Charlie Fishman   \n",
       "\n",
       "                                               description  following  \\\n",
       "3969686                                                NaN        NaN   \n",
       "3969875                                                NaN        NaN   \n",
       "637382                                                 NaN        NaN   \n",
       "637327                                                 NaN        NaN   \n",
       "4013390  👨🏻‍💻 Photographer / CEO @tycoonstudionyc \\n🗽Ba...      499.0   \n",
       "4013321  👨🏻‍💻 Photographer / CEO @tycoonstudionyc \\n🗽Ba...      499.0   \n",
       "4013248  👨🏻‍💻 Photographer / CEO @tycoonstudionyc \\n🗽Ba...      499.0   \n",
       "2859937                                                NaN        NaN   \n",
       "728346                                                 NaN        NaN   \n",
       "2871629  Please BUY our new EP with ⭐️ @dolettemcdonald...     5460.0   \n",
       "\n",
       "         followers  n_posts                  url  \\\n",
       "3969686        NaN      NaN                  NaN   \n",
       "3969875        NaN      NaN                  NaN   \n",
       "637382         NaN      NaN                  NaN   \n",
       "637327         NaN      NaN                  NaN   \n",
       "4013390     6371.0    329.0  www.topherscott.nyc   \n",
       "4013321     6371.0    329.0  www.topherscott.nyc   \n",
       "4013248     6371.0    329.0  www.topherscott.nyc   \n",
       "2859937        NaN      NaN                  NaN   \n",
       "728346         NaN      NaN                  NaN   \n",
       "2871629     2363.0  11848.0    bit.ly/buy_zimbra   \n",
       "\n",
       "                                   cts is_business_account  \n",
       "3969686  2019-06-29 18:00:18.777 -0400                 NaN  \n",
       "3969875  2019-06-29 18:00:18.714 -0400                 NaN  \n",
       "637382                             NaN                 NaN  \n",
       "637327                             NaN                 NaN  \n",
       "4013390  2019-07-02 04:50:11.913 -0400                True  \n",
       "4013321  2019-07-02 04:50:11.722 -0400                True  \n",
       "4013248  2019-07-02 04:50:11.940 -0400                True  \n",
       "2859937                            NaN                 NaN  \n",
       "728346                             NaN                 NaN  \n",
       "2871629                            NaN               False  "
      ]
     },
     "execution_count": 22,
     "metadata": {},
     "output_type": "execute_result"
    }
   ],
   "source": [
    "ids = df_profiles['profile_id']\n",
    "df_profiles[ids.isin(ids[ids.duplicated()])].sort_values(\"profile_id\").head(10)"
   ]
  },
  {
   "cell_type": "markdown",
   "id": "c62d0542",
   "metadata": {},
   "source": [
    "Based on the feature \"sid\", which is Sequence ID, there are no duplicated observations. However, if we drop this variable, we can see that there are 338 duplicates in our dataset. Which means that some of the profiles are recorded several times. \n",
    "\n",
    "It might be a good idea to drop the duplicates before continuing with any further analysis.\n",
    "\n",
    "If we look at the table above, the one with the duplicates, we can see that the observations that have the same \"profile id\" also have the same values for the rest of the variables, except for feature \"cts\" (timestamp when the profile was visited).\n",
    "Given that the rest of the features are the same, we can ignore the differences in the variable \"cts\" and keep only one of the records for the duplicated profiles."
   ]
  },
  {
   "cell_type": "code",
   "execution_count": null,
   "id": "fdbf725c",
   "metadata": {},
   "outputs": [],
   "source": []
  },
  {
   "cell_type": "code",
   "execution_count": 23,
   "id": "8b7c9ecb",
   "metadata": {},
   "outputs": [
    {
     "name": "stdout",
     "output_type": "stream",
     "text": [
      "<class 'pandas.core.frame.DataFrame'>\n",
      "RangeIndex: 4509586 entries, 0 to 4509585\n",
      "Data columns (total 11 columns):\n",
      " #   Column               Dtype  \n",
      "---  ------               -----  \n",
      " 0   sid                  int64  \n",
      " 1   profile_id           float64\n",
      " 2   profile_name         object \n",
      " 3   firstname_lastname   object \n",
      " 4   description          object \n",
      " 5   following            float64\n",
      " 6   followers            float64\n",
      " 7   n_posts              float64\n",
      " 8   url                  object \n",
      " 9   cts                  object \n",
      " 10  is_business_account  object \n",
      "dtypes: float64(4), int64(1), object(6)\n",
      "memory usage: 378.5+ MB\n"
     ]
    }
   ],
   "source": [
    "df_profiles.info()"
   ]
  },
  {
   "cell_type": "code",
   "execution_count": 24,
   "id": "b833894a",
   "metadata": {},
   "outputs": [
    {
     "data": {
      "text/plain": [
       "sid                          0\n",
       "profile_id               32447\n",
       "profile_name                 0\n",
       "firstname_lastname      288465\n",
       "description            2055996\n",
       "following              1056815\n",
       "followers              1056815\n",
       "n_posts                1056815\n",
       "url                    3639312\n",
       "cts                     438488\n",
       "is_business_account    1064263\n",
       "dtype: int64"
      ]
     },
     "execution_count": 24,
     "metadata": {},
     "output_type": "execute_result"
    }
   ],
   "source": [
    "#check for NaN values\n",
    "df_profiles.isna().sum()"
   ]
  },
  {
   "cell_type": "code",
   "execution_count": 25,
   "id": "db62d814",
   "metadata": {},
   "outputs": [
    {
     "data": {
      "text/plain": [
       "sid                     0.000000\n",
       "profile_id              0.719512\n",
       "profile_name            0.000000\n",
       "firstname_lastname      6.396707\n",
       "description            45.591680\n",
       "following              23.434856\n",
       "followers              23.434856\n",
       "n_posts                23.434856\n",
       "url                    80.701687\n",
       "cts                     9.723465\n",
       "is_business_account    23.600016\n",
       "dtype: float64"
      ]
     },
     "execution_count": 25,
     "metadata": {},
     "output_type": "execute_result"
    }
   ],
   "source": [
    "# check the percentage of missing values for each column\n",
    "df_profiles.isnull().sum() / df_profiles.shape[0] * 100"
   ]
  },
  {
   "cell_type": "code",
   "execution_count": 26,
   "id": "4846c5e6",
   "metadata": {},
   "outputs": [
    {
     "data": {
      "image/png": "[encoded data removed]",
      "text/plain": [
       "<Figure size 432x288 with 1 Axes>"
      ]
     },
     "metadata": {
      "needs_background": "light"
     },
     "output_type": "display_data"
    }
   ],
   "source": [
    "df_profiles.isna().mean().sort_values().plot(\n",
    "    kind=\"bar\", figsize=(6, 4),\n",
    "    title=\"Percentage of missing values per feature\",\n",
    "    ylabel=\"Ratio of missing values per feature\");"
   ]
  },
  {
   "cell_type": "markdown",
   "id": "6612554e",
   "metadata": {},
   "source": [
    "The variables 'url' and 'description' have missing values for around half or more than half of the observations. Therefore, they might not be that important and we could drop them when analyzing the dataset. "
   ]
  },
  {
   "cell_type": "code",
   "execution_count": 27,
   "id": "d3351bda",
   "metadata": {},
   "outputs": [],
   "source": [
    "# fill in the missing values\n",
    "df_profiles.firstname_lastname.fillna(\"\", inplace=True)\n",
    "df_profiles.description.fillna(\"\", inplace=True)\n",
    "df_profiles.following.fillna(0, inplace=True)\n",
    "df_profiles.followers.fillna(0, inplace=True)\n",
    "df_profiles.n_posts.fillna(0, inplace=True)\n",
    "df_profiles.url.fillna(\"\", inplace=True)\n",
    "df_profiles.is_business_account.fillna(False, inplace=True)\n",
    "df_profiles.cts.fillna(\"\", inplace=True)"
   ]
  },
  {
   "cell_type": "code",
   "execution_count": null,
   "id": "d24ca749",
   "metadata": {},
   "outputs": [],
   "source": []
  },
  {
   "cell_type": "code",
   "execution_count": 28,
   "id": "b70a59f2",
   "metadata": {},
   "outputs": [],
   "source": [
    "# convert 'cts' to a Datetime format\n",
    "df_profiles.cts = pd.to_datetime(df_profiles.cts)"
   ]
  },
  {
   "cell_type": "code",
   "execution_count": null,
   "id": "7435e852",
   "metadata": {},
   "outputs": [],
   "source": []
  },
  {
   "cell_type": "code",
   "execution_count": 28,
   "id": "89ec7617",
   "metadata": {
    "scrolled": true
   },
   "outputs": [
    {
     "data": {
      "text/plain": [
       "False    3654332\n",
       "True      855254\n",
       "Name: is_business_account, dtype: int64"
      ]
     },
     "execution_count": 28,
     "metadata": {},
     "output_type": "execute_result"
    }
   ],
   "source": [
    "# check how many of the accounts are business accounts\n",
    "df_profiles.is_business_account.value_counts()"
   ]
  },
  {
   "cell_type": "code",
   "execution_count": 29,
   "id": "843ecd97",
   "metadata": {},
   "outputs": [
    {
     "data": {
      "text/plain": [
       "False    81.034756\n",
       "True     18.965244\n",
       "Name: is_business_account, dtype: float64"
      ]
     },
     "execution_count": 29,
     "metadata": {},
     "output_type": "execute_result"
    }
   ],
   "source": [
    "# check how many of the accounts are business accounts\n",
    "df_profiles.is_business_account.value_counts() / df_profiles.shape[0] * 100"
   ]
  },
  {
   "cell_type": "code",
   "execution_count": null,
   "id": "3ae05731",
   "metadata": {},
   "outputs": [],
   "source": []
  },
  {
   "cell_type": "code",
   "execution_count": 30,
   "id": "c8545c15",
   "metadata": {},
   "outputs": [
    {
     "name": "stdout",
     "output_type": "stream",
     "text": [
      "Max number of followers = 285457645.0\n",
      "Min number of followers = 0.0\n"
     ]
    }
   ],
   "source": [
    "print(f\"Max number of followers = {df_profiles['followers'].max()}\")\n",
    "print(f\"Min number of followers = {df_profiles['followers'].min()}\")"
   ]
  },
  {
   "cell_type": "code",
   "execution_count": 31,
   "id": "8284f523",
   "metadata": {},
   "outputs": [
    {
     "data": {
      "text/html": [
       "<div>\n",
       "<style scoped>\n",
       "    .dataframe tbody tr th:only-of-type {\n",
       "        vertical-align: middle;\n",
       "    }\n",
       "\n",
       "    .dataframe tbody tr th {\n",
       "        vertical-align: top;\n",
       "    }\n",
       "\n",
       "    .dataframe thead th {\n",
       "        text-align: right;\n",
       "    }\n",
       "</style>\n",
       "<table border=\"1\" class=\"dataframe\">\n",
       "  <thead>\n",
       "    <tr style=\"text-align: right;\">\n",
       "      <th></th>\n",
       "      <th>sid</th>\n",
       "      <th>profile_id</th>\n",
       "      <th>profile_name</th>\n",
       "      <th>firstname_lastname</th>\n",
       "      <th>description</th>\n",
       "      <th>following</th>\n",
       "      <th>followers</th>\n",
       "      <th>n_posts</th>\n",
       "      <th>url</th>\n",
       "      <th>cts</th>\n",
       "      <th>is_business_account</th>\n",
       "    </tr>\n",
       "  </thead>\n",
       "  <tbody>\n",
       "    <tr>\n",
       "      <th>2880218</th>\n",
       "      <td>336492</td>\n",
       "      <td>2.502532e+07</td>\n",
       "      <td>instagram</td>\n",
       "      <td>Instagram</td>\n",
       "      <td>Bringing you closer to the people and things y...</td>\n",
       "      <td>226.0</td>\n",
       "      <td>285457645.0</td>\n",
       "      <td>5760.0</td>\n",
       "      <td>help.instagram.com</td>\n",
       "      <td></td>\n",
       "      <td>False</td>\n",
       "    </tr>\n",
       "    <tr>\n",
       "      <th>2582507</th>\n",
       "      <td>371414</td>\n",
       "      <td>3.416684e+06</td>\n",
       "      <td>victoriassecret</td>\n",
       "      <td>Victoria's Secret</td>\n",
       "      <td>Confidence is sexy. #wearitdaily</td>\n",
       "      <td>549.0</td>\n",
       "      <td>65269440.0</td>\n",
       "      <td>7355.0</td>\n",
       "      <td>like2b.uy/victoriassecret</td>\n",
       "      <td></td>\n",
       "      <td>True</td>\n",
       "    </tr>\n",
       "    <tr>\n",
       "      <th>3820939</th>\n",
       "      <td>337097</td>\n",
       "      <td>2.082449e+07</td>\n",
       "      <td>nba</td>\n",
       "      <td>NBA</td>\n",
       "      <td>30 teams, 1 🏆\\n👟: @nbakicks \\n📽: @nbahistory \\...</td>\n",
       "      <td>817.0</td>\n",
       "      <td>35339708.0</td>\n",
       "      <td>28816.0</td>\n",
       "      <td>nba.app.link/js6X7SVaxT</td>\n",
       "      <td></td>\n",
       "      <td>True</td>\n",
       "    </tr>\n",
       "    <tr>\n",
       "      <th>701965</th>\n",
       "      <td>330376</td>\n",
       "      <td>1.876191e+08</td>\n",
       "      <td>louisvuitton</td>\n",
       "      <td>Louis Vuitton Official</td>\n",
       "      <td>The official Instagram account of Louis Vuitton.</td>\n",
       "      <td>5.0</td>\n",
       "      <td>30689316.0</td>\n",
       "      <td>3352.0</td>\n",
       "      <td>on.louisvuitton.com/Like2Buy</td>\n",
       "      <td></td>\n",
       "      <td>True</td>\n",
       "    </tr>\n",
       "    <tr>\n",
       "      <th>2414951</th>\n",
       "      <td>292359</td>\n",
       "      <td>2.125507e+09</td>\n",
       "      <td>buzzfeedtasty</td>\n",
       "      <td>Tasty</td>\n",
       "      <td>Recipes that will make you say \"oh yes!\"\\n👇 Cl...</td>\n",
       "      <td>298.0</td>\n",
       "      <td>30246783.0</td>\n",
       "      <td>2791.0</td>\n",
       "      <td>tasty.co/linkinbio</td>\n",
       "      <td></td>\n",
       "      <td>True</td>\n",
       "    </tr>\n",
       "  </tbody>\n",
       "</table>\n",
       "</div>"
      ],
      "text/plain": [
       "            sid    profile_id     profile_name      firstname_lastname  \\\n",
       "2880218  336492  2.502532e+07        instagram               Instagram   \n",
       "2582507  371414  3.416684e+06  victoriassecret       Victoria's Secret   \n",
       "3820939  337097  2.082449e+07              nba                     NBA   \n",
       "701965   330376  1.876191e+08     louisvuitton  Louis Vuitton Official   \n",
       "2414951  292359  2.125507e+09    buzzfeedtasty                   Tasty   \n",
       "\n",
       "                                               description  following  \\\n",
       "2880218  Bringing you closer to the people and things y...      226.0   \n",
       "2582507                   Confidence is sexy. #wearitdaily      549.0   \n",
       "3820939  30 teams, 1 🏆\\n👟: @nbakicks \\n📽: @nbahistory \\...      817.0   \n",
       "701965    The official Instagram account of Louis Vuitton.        5.0   \n",
       "2414951  Recipes that will make you say \"oh yes!\"\\n👇 Cl...      298.0   \n",
       "\n",
       "           followers  n_posts                           url cts  \\\n",
       "2880218  285457645.0   5760.0            help.instagram.com       \n",
       "2582507   65269440.0   7355.0     like2b.uy/victoriassecret       \n",
       "3820939   35339708.0  28816.0       nba.app.link/js6X7SVaxT       \n",
       "701965    30689316.0   3352.0  on.louisvuitton.com/Like2Buy       \n",
       "2414951   30246783.0   2791.0            tasty.co/linkinbio       \n",
       "\n",
       "         is_business_account  \n",
       "2880218                False  \n",
       "2582507                 True  \n",
       "3820939                 True  \n",
       "701965                  True  \n",
       "2414951                 True  "
      ]
     },
     "execution_count": 31,
     "metadata": {},
     "output_type": "execute_result"
    }
   ],
   "source": [
    "df_profiles.sort_values(by='followers', ascending=False).head()"
   ]
  },
  {
   "cell_type": "code",
   "execution_count": null,
   "id": "fa0d25dd",
   "metadata": {},
   "outputs": [],
   "source": []
  },
  {
   "cell_type": "code",
   "execution_count": 32,
   "id": "b4433fa3",
   "metadata": {},
   "outputs": [
    {
     "name": "stdout",
     "output_type": "stream",
     "text": [
      "Max number of following = 4191080.0\n",
      "Min number of following = 0.0\n"
     ]
    }
   ],
   "source": [
    "print(f\"Max number of following = {df_profiles['following'].max()}\")\n",
    "print(f\"Min number of following = {df_profiles['following'].min()}\")"
   ]
  },
  {
   "cell_type": "code",
   "execution_count": 33,
   "id": "ea292d0b",
   "metadata": {
    "scrolled": true
   },
   "outputs": [
    {
     "data": {
      "text/html": [
       "<div>\n",
       "<style scoped>\n",
       "    .dataframe tbody tr th:only-of-type {\n",
       "        vertical-align: middle;\n",
       "    }\n",
       "\n",
       "    .dataframe tbody tr th {\n",
       "        vertical-align: top;\n",
       "    }\n",
       "\n",
       "    .dataframe thead th {\n",
       "        text-align: right;\n",
       "    }\n",
       "</style>\n",
       "<table border=\"1\" class=\"dataframe\">\n",
       "  <thead>\n",
       "    <tr style=\"text-align: right;\">\n",
       "      <th></th>\n",
       "      <th>sid</th>\n",
       "      <th>profile_id</th>\n",
       "      <th>profile_name</th>\n",
       "      <th>firstname_lastname</th>\n",
       "      <th>description</th>\n",
       "      <th>following</th>\n",
       "      <th>followers</th>\n",
       "      <th>n_posts</th>\n",
       "      <th>url</th>\n",
       "      <th>cts</th>\n",
       "      <th>is_business_account</th>\n",
       "    </tr>\n",
       "  </thead>\n",
       "  <tbody>\n",
       "    <tr>\n",
       "      <th>2401691</th>\n",
       "      <td>2440311</td>\n",
       "      <td>3176999.0</td>\n",
       "      <td>izdato_eng</td>\n",
       "      <td>Artem Shurgalsky </td>\n",
       "      <td>Moscow, Russia 🇷🇺\\nJoin my #sunsetters club.\\n...</td>\n",
       "      <td>4191080.0</td>\n",
       "      <td>681313.0</td>\n",
       "      <td>1870.0</td>\n",
       "      <td>facebook.com/izdato</td>\n",
       "      <td>2019-04-08 11:46:12.622 -0400</td>\n",
       "      <td>True</td>\n",
       "    </tr>\n",
       "    <tr>\n",
       "      <th>2401140</th>\n",
       "      <td>2498871</td>\n",
       "      <td>7276037.0</td>\n",
       "      <td>photogeekdom</td>\n",
       "      <td>Photography Tips &amp; Fun Facts</td>\n",
       "      <td>Your mobile magazine of photography tips, inte...</td>\n",
       "      <td>4158587.0</td>\n",
       "      <td>660481.0</td>\n",
       "      <td>208.0</td>\n",
       "      <td>Followed by gemibears, toppeopleworld, million...</td>\n",
       "      <td>2019-04-08 15:23:31.503 -0400</td>\n",
       "      <td>False</td>\n",
       "    </tr>\n",
       "    <tr>\n",
       "      <th>2897280</th>\n",
       "      <td>2440237</td>\n",
       "      <td>247703075.0</td>\n",
       "      <td>toppeopleworld</td>\n",
       "      <td>TOPPEOPLEWORLD ✪</td>\n",
       "      <td>Screenshot our page and shout us out for a cha...</td>\n",
       "      <td>3563636.0</td>\n",
       "      <td>674080.0</td>\n",
       "      <td>2851.0</td>\n",
       "      <td></td>\n",
       "      <td>2019-04-08 11:45:55.405 -0400</td>\n",
       "      <td>False</td>\n",
       "    </tr>\n",
       "    <tr>\n",
       "      <th>2401650</th>\n",
       "      <td>2440324</td>\n",
       "      <td>30770059.0</td>\n",
       "      <td>eyemediaa</td>\n",
       "      <td>Inspiration Blog</td>\n",
       "      <td>📧 wowinstamind@yandex.ru</td>\n",
       "      <td>3460824.0</td>\n",
       "      <td>821666.0</td>\n",
       "      <td>2119.0</td>\n",
       "      <td>Followed by idealfashionistas, katrochelle, ep...</td>\n",
       "      <td>2019-04-08 11:46:16.451 -0400</td>\n",
       "      <td>False</td>\n",
       "    </tr>\n",
       "    <tr>\n",
       "      <th>3570142</th>\n",
       "      <td>2440213</td>\n",
       "      <td>251532689.0</td>\n",
       "      <td>igtoppicture</td>\n",
       "      <td>dm us for promo</td>\n",
       "      <td>Please dm us for marketing / credit</td>\n",
       "      <td>3404918.0</td>\n",
       "      <td>734627.0</td>\n",
       "      <td>387.0</td>\n",
       "      <td>www.loveindianhair.com</td>\n",
       "      <td>2019-04-08 11:45:50.517 -0400</td>\n",
       "      <td>False</td>\n",
       "    </tr>\n",
       "  </tbody>\n",
       "</table>\n",
       "</div>"
      ],
      "text/plain": [
       "             sid   profile_id    profile_name            firstname_lastname  \\\n",
       "2401691  2440311    3176999.0      izdato_eng            Artem Shurgalsky    \n",
       "2401140  2498871    7276037.0    photogeekdom  Photography Tips & Fun Facts   \n",
       "2897280  2440237  247703075.0  toppeopleworld              TOPPEOPLEWORLD ✪   \n",
       "2401650  2440324   30770059.0       eyemediaa              Inspiration Blog   \n",
       "3570142  2440213  251532689.0    igtoppicture               dm us for promo   \n",
       "\n",
       "                                               description  following  \\\n",
       "2401691  Moscow, Russia 🇷🇺\\nJoin my #sunsetters club.\\n...  4191080.0   \n",
       "2401140  Your mobile magazine of photography tips, inte...  4158587.0   \n",
       "2897280  Screenshot our page and shout us out for a cha...  3563636.0   \n",
       "2401650                           📧 wowinstamind@yandex.ru  3460824.0   \n",
       "3570142                Please dm us for marketing / credit  3404918.0   \n",
       "\n",
       "         followers  n_posts  \\\n",
       "2401691   681313.0   1870.0   \n",
       "2401140   660481.0    208.0   \n",
       "2897280   674080.0   2851.0   \n",
       "2401650   821666.0   2119.0   \n",
       "3570142   734627.0    387.0   \n",
       "\n",
       "                                                       url  \\\n",
       "2401691                                facebook.com/izdato   \n",
       "2401140  Followed by gemibears, toppeopleworld, million...   \n",
       "2897280                                                      \n",
       "2401650  Followed by idealfashionistas, katrochelle, ep...   \n",
       "3570142                             www.loveindianhair.com   \n",
       "\n",
       "                                   cts  is_business_account  \n",
       "2401691  2019-04-08 11:46:12.622 -0400                 True  \n",
       "2401140  2019-04-08 15:23:31.503 -0400                False  \n",
       "2897280  2019-04-08 11:45:55.405 -0400                False  \n",
       "2401650  2019-04-08 11:46:16.451 -0400                False  \n",
       "3570142  2019-04-08 11:45:50.517 -0400                False  "
      ]
     },
     "execution_count": 33,
     "metadata": {},
     "output_type": "execute_result"
    }
   ],
   "source": [
    "df_profiles.sort_values(by='following', ascending=False).head()"
   ]
  },
  {
   "cell_type": "code",
   "execution_count": null,
   "id": "7b06211b",
   "metadata": {},
   "outputs": [],
   "source": []
  },
  {
   "cell_type": "code",
   "execution_count": 34,
   "id": "659ee000",
   "metadata": {},
   "outputs": [
    {
     "name": "stdout",
     "output_type": "stream",
     "text": [
      "Max number of number of posts = 183730.0\n",
      "Min number of number of posts = 0.0\n"
     ]
    }
   ],
   "source": [
    "print(f\"Max number of number of posts = {df_profiles['n_posts'].max()}\")\n",
    "print(f\"Min number of number of posts = {df_profiles['n_posts'].min()}\")"
   ]
  },
  {
   "cell_type": "code",
   "execution_count": 35,
   "id": "509a09f4",
   "metadata": {
    "scrolled": true
   },
   "outputs": [
    {
     "data": {
      "text/html": [
       "<div>\n",
       "<style scoped>\n",
       "    .dataframe tbody tr th:only-of-type {\n",
       "        vertical-align: middle;\n",
       "    }\n",
       "\n",
       "    .dataframe tbody tr th {\n",
       "        vertical-align: top;\n",
       "    }\n",
       "\n",
       "    .dataframe thead th {\n",
       "        text-align: right;\n",
       "    }\n",
       "</style>\n",
       "<table border=\"1\" class=\"dataframe\">\n",
       "  <thead>\n",
       "    <tr style=\"text-align: right;\">\n",
       "      <th></th>\n",
       "      <th>sid</th>\n",
       "      <th>profile_id</th>\n",
       "      <th>profile_name</th>\n",
       "      <th>firstname_lastname</th>\n",
       "      <th>description</th>\n",
       "      <th>following</th>\n",
       "      <th>followers</th>\n",
       "      <th>n_posts</th>\n",
       "      <th>url</th>\n",
       "      <th>cts</th>\n",
       "      <th>is_business_account</th>\n",
       "    </tr>\n",
       "  </thead>\n",
       "  <tbody>\n",
       "    <tr>\n",
       "      <th>3990313</th>\n",
       "      <td>3661552</td>\n",
       "      <td>1.996648e+08</td>\n",
       "      <td>jasem33312</td>\n",
       "      <td>jasem33312</td>\n",
       "      <td></td>\n",
       "      <td>2.0</td>\n",
       "      <td>82049.0</td>\n",
       "      <td>183730.0</td>\n",
       "      <td></td>\n",
       "      <td>2019-06-30 19:14:19.780 -0400</td>\n",
       "      <td>False</td>\n",
       "    </tr>\n",
       "    <tr>\n",
       "      <th>2571453</th>\n",
       "      <td>3288809</td>\n",
       "      <td>8.563367e+09</td>\n",
       "      <td>koenigpic</td>\n",
       "      <td>Helperwait Studio</td>\n",
       "      <td>Веб сайты от идеи до запуска</td>\n",
       "      <td>4538.0</td>\n",
       "      <td>675.0</td>\n",
       "      <td>142428.0</td>\n",
       "      <td>vk.com/ru.helperwait</td>\n",
       "      <td>2019-05-07 00:14:06.799 -0400</td>\n",
       "      <td>True</td>\n",
       "    </tr>\n",
       "    <tr>\n",
       "      <th>4338921</th>\n",
       "      <td>3970193</td>\n",
       "      <td>1.273455e+09</td>\n",
       "      <td>rudyanto62</td>\n",
       "      <td>Rudyanto 王耀祝</td>\n",
       "      <td></td>\n",
       "      <td>164.0</td>\n",
       "      <td>1693.0</td>\n",
       "      <td>126340.0</td>\n",
       "      <td></td>\n",
       "      <td>2019-07-15 10:00:51.171 -0400</td>\n",
       "      <td>False</td>\n",
       "    </tr>\n",
       "    <tr>\n",
       "      <th>3942129</th>\n",
       "      <td>3621669</td>\n",
       "      <td>9.813508e+06</td>\n",
       "      <td>hometown_ni</td>\n",
       "      <td>AngelsCowboysLakers</td>\n",
       "      <td>All about live &amp; let live. Peace &amp; Harmony. La...</td>\n",
       "      <td>7488.0</td>\n",
       "      <td>1755.0</td>\n",
       "      <td>125220.0</td>\n",
       "      <td></td>\n",
       "      <td>2019-06-27 02:49:38.140 -0400</td>\n",
       "      <td>False</td>\n",
       "    </tr>\n",
       "    <tr>\n",
       "      <th>4219642</th>\n",
       "      <td>3851869</td>\n",
       "      <td>1.607309e+09</td>\n",
       "      <td>dwfitfiber_thailand</td>\n",
       "      <td>เห็นผลตั้งแต่เซ็ตแรกท้าลอง</td>\n",
       "      <td>✿รับตัวแทนรายได้ดีมาก\\n🏧 KTB l SCB l KBANK | B...</td>\n",
       "      <td>7490.0</td>\n",
       "      <td>44951.0</td>\n",
       "      <td>117262.0</td>\n",
       "      <td>bit.ly/2GdIYJl</td>\n",
       "      <td>2019-07-13 02:10:07.317 -0400</td>\n",
       "      <td>True</td>\n",
       "    </tr>\n",
       "  </tbody>\n",
       "</table>\n",
       "</div>"
      ],
      "text/plain": [
       "             sid    profile_id         profile_name  \\\n",
       "3990313  3661552  1.996648e+08           jasem33312   \n",
       "2571453  3288809  8.563367e+09            koenigpic   \n",
       "4338921  3970193  1.273455e+09           rudyanto62   \n",
       "3942129  3621669  9.813508e+06          hometown_ni   \n",
       "4219642  3851869  1.607309e+09  dwfitfiber_thailand   \n",
       "\n",
       "                 firstname_lastname  \\\n",
       "3990313                  jasem33312   \n",
       "2571453           Helperwait Studio   \n",
       "4338921                Rudyanto 王耀祝   \n",
       "3942129         AngelsCowboysLakers   \n",
       "4219642  เห็นผลตั้งแต่เซ็ตแรกท้าลอง   \n",
       "\n",
       "                                               description  following  \\\n",
       "3990313                                                           2.0   \n",
       "2571453                       Веб сайты от идеи до запуска     4538.0   \n",
       "4338921                                                         164.0   \n",
       "3942129  All about live & let live. Peace & Harmony. La...     7488.0   \n",
       "4219642  ✿รับตัวแทนรายได้ดีมาก\\n🏧 KTB l SCB l KBANK | B...     7490.0   \n",
       "\n",
       "         followers   n_posts                   url  \\\n",
       "3990313    82049.0  183730.0                         \n",
       "2571453      675.0  142428.0  vk.com/ru.helperwait   \n",
       "4338921     1693.0  126340.0                         \n",
       "3942129     1755.0  125220.0                         \n",
       "4219642    44951.0  117262.0        bit.ly/2GdIYJl   \n",
       "\n",
       "                                   cts  is_business_account  \n",
       "3990313  2019-06-30 19:14:19.780 -0400                False  \n",
       "2571453  2019-05-07 00:14:06.799 -0400                 True  \n",
       "4338921  2019-07-15 10:00:51.171 -0400                False  \n",
       "3942129  2019-06-27 02:49:38.140 -0400                False  \n",
       "4219642  2019-07-13 02:10:07.317 -0400                 True  "
      ]
     },
     "execution_count": 35,
     "metadata": {},
     "output_type": "execute_result"
    }
   ],
   "source": [
    "df_profiles.sort_values(by='n_posts', ascending=False).head()"
   ]
  },
  {
   "cell_type": "code",
   "execution_count": null,
   "id": "c39266b9",
   "metadata": {},
   "outputs": [],
   "source": []
  },
  {
   "cell_type": "markdown",
   "id": "5155d2f5",
   "metadata": {},
   "source": [
    "#### Data_posts"
   ]
  },
  {
   "cell_type": "code",
   "execution_count": 37,
   "id": "b7b5ca93",
   "metadata": {},
   "outputs": [],
   "source": [
    "df_types = pd.read_csv('instagram_posts.csv', delimiter=\"\\t\", usecols = ['post_id','post_type'], low_memory = True)"
   ]
  },
  {
   "cell_type": "code",
   "execution_count": 38,
   "id": "d8d766fe",
   "metadata": {},
   "outputs": [
    {
     "data": {
      "text/plain": [
       "1    41534486\n",
       "2     1134768\n",
       "3       40943\n",
       "Name: post_type, dtype: int64"
      ]
     },
     "execution_count": 38,
     "metadata": {},
     "output_type": "execute_result"
    }
   ],
   "source": [
    "# number of posts that include only a photo, only a video, or both\n",
    "# 1 - Photo, 2 - Video, 3 - multy\n",
    "df_types['post_type'].value_counts()"
   ]
  },
  {
   "cell_type": "markdown",
   "id": "bf9f8a5d",
   "metadata": {},
   "source": [
    "We can see that there are 41534486 posts that include only a photo, 1134768 posts that include only a video, and 40943 posts that include both photos and videos."
   ]
  },
  {
   "cell_type": "code",
   "execution_count": 39,
   "id": "fc0f31f7",
   "metadata": {},
   "outputs": [
    {
     "name": "stdout",
     "output_type": "stream",
     "text": [
      "Max number of likes:  8822952.0\n",
      "Min number of likes:  0.0\n"
     ]
    }
   ],
   "source": [
    "# max and min number of likes\n",
    "df_likes = pd.read_csv('instagram_posts.csv', delimiter=\"\\t\", usecols = ['post_id','numbr_likes'], low_memory = True)\n",
    "print(\"Max number of likes: \", df_likes['numbr_likes'].max())\n",
    "print(\"Min number of likes: \", df_likes['numbr_likes'].min())"
   ]
  },
  {
   "cell_type": "code",
   "execution_count": 40,
   "id": "3a26e2ac",
   "metadata": {},
   "outputs": [
    {
     "name": "stdout",
     "output_type": "stream",
     "text": [
      "Max number of likes:  488953.0\n",
      "Min number of likes:  0.0\n"
     ]
    }
   ],
   "source": [
    "# max and min number of comments\n",
    "\n",
    "df_comm = pd.read_csv('instagram_posts.csv', delimiter=\"\\t\", usecols = ['post_id','number_comments'], low_memory = True)\n",
    "print(\"Max number of likes: \", df_comm['number_comments'].max())\n",
    "print(\"Min number of likes: \", df_comm['number_comments'].min())"
   ]
  },
  {
   "cell_type": "code",
   "execution_count": null,
   "id": "71c9efc0",
   "metadata": {},
   "outputs": [],
   "source": []
  },
  {
   "cell_type": "code",
   "execution_count": 41,
   "id": "731f83e4",
   "metadata": {},
   "outputs": [],
   "source": [
    "df_P = pd.read_csv('instagram_posts.csv', delimiter=\"\\t\", usecols = ['profile_id','numbr_likes','number_comments'], low_memory = True)"
   ]
  },
  {
   "cell_type": "code",
   "execution_count": 46,
   "id": "9d7a506e",
   "metadata": {},
   "outputs": [
    {
     "data": {
      "text/html": [
       "<div>\n",
       "<style scoped>\n",
       "    .dataframe tbody tr th:only-of-type {\n",
       "        vertical-align: middle;\n",
       "    }\n",
       "\n",
       "    .dataframe tbody tr th {\n",
       "        vertical-align: top;\n",
       "    }\n",
       "\n",
       "    .dataframe thead th {\n",
       "        text-align: right;\n",
       "    }\n",
       "</style>\n",
       "<table border=\"1\" class=\"dataframe\">\n",
       "  <thead>\n",
       "    <tr style=\"text-align: right;\">\n",
       "      <th></th>\n",
       "      <th>profile_id</th>\n",
       "      <th>likes</th>\n",
       "      <th>comm</th>\n",
       "    </tr>\n",
       "  </thead>\n",
       "  <tbody>\n",
       "    <tr>\n",
       "      <th>1249837</th>\n",
       "      <td>4.906778e+07</td>\n",
       "      <td>43188761.0</td>\n",
       "      <td>348145.0</td>\n",
       "    </tr>\n",
       "    <tr>\n",
       "      <th>751776</th>\n",
       "      <td>2.502532e+07</td>\n",
       "      <td>29864166.0</td>\n",
       "      <td>225050.0</td>\n",
       "    </tr>\n",
       "    <tr>\n",
       "      <th>6780077</th>\n",
       "      <td>2.153681e+09</td>\n",
       "      <td>26067462.0</td>\n",
       "      <td>329627.0</td>\n",
       "    </tr>\n",
       "    <tr>\n",
       "      <th>5091954</th>\n",
       "      <td>1.292593e+09</td>\n",
       "      <td>24865710.0</td>\n",
       "      <td>571813.0</td>\n",
       "    </tr>\n",
       "    <tr>\n",
       "      <th>275617</th>\n",
       "      <td>8.443283e+06</td>\n",
       "      <td>21784365.0</td>\n",
       "      <td>117612.0</td>\n",
       "    </tr>\n",
       "    <tr>\n",
       "      <th>...</th>\n",
       "      <td>...</td>\n",
       "      <td>...</td>\n",
       "      <td>...</td>\n",
       "    </tr>\n",
       "    <tr>\n",
       "      <th>10310003</th>\n",
       "      <td>7.918710e+09</td>\n",
       "      <td>0.0</td>\n",
       "      <td>0.0</td>\n",
       "    </tr>\n",
       "    <tr>\n",
       "      <th>5044323</th>\n",
       "      <td>1.271666e+09</td>\n",
       "      <td>0.0</td>\n",
       "      <td>0.0</td>\n",
       "    </tr>\n",
       "    <tr>\n",
       "      <th>11462105</th>\n",
       "      <td>1.169097e+10</td>\n",
       "      <td>0.0</td>\n",
       "      <td>0.0</td>\n",
       "    </tr>\n",
       "    <tr>\n",
       "      <th>6850111</th>\n",
       "      <td>2.205947e+09</td>\n",
       "      <td>0.0</td>\n",
       "      <td>0.0</td>\n",
       "    </tr>\n",
       "    <tr>\n",
       "      <th>11833764</th>\n",
       "      <td>9.001014e+13</td>\n",
       "      <td>0.0</td>\n",
       "      <td>1.0</td>\n",
       "    </tr>\n",
       "  </tbody>\n",
       "</table>\n",
       "<p>11833765 rows × 3 columns</p>\n",
       "</div>"
      ],
      "text/plain": [
       "            profile_id       likes      comm\n",
       "1249837   4.906778e+07  43188761.0  348145.0\n",
       "751776    2.502532e+07  29864166.0  225050.0\n",
       "6780077   2.153681e+09  26067462.0  329627.0\n",
       "5091954   1.292593e+09  24865710.0  571813.0\n",
       "275617    8.443283e+06  21784365.0  117612.0\n",
       "...                ...         ...       ...\n",
       "10310003  7.918710e+09         0.0       0.0\n",
       "5044323   1.271666e+09         0.0       0.0\n",
       "11462105  1.169097e+10         0.0       0.0\n",
       "6850111   2.205947e+09         0.0       0.0\n",
       "11833764  9.001014e+13         0.0       1.0\n",
       "\n",
       "[11833765 rows x 3 columns]"
      ]
     },
     "execution_count": 46,
     "metadata": {},
     "output_type": "execute_result"
    }
   ],
   "source": [
    "df_P_group = df_P.groupby('profile_id').agg(likes = (\"numbr_likes\",'sum'),\n",
    "                                            comm = (\"number_comments\", 'sum')).reset_index()\n",
    "df_P_group.sort_values(by = 'likes', ascending = False)"
   ]
  },
  {
   "cell_type": "code",
   "execution_count": null,
   "id": "dd170183",
   "metadata": {},
   "outputs": [],
   "source": []
  },
  {
   "cell_type": "markdown",
   "id": "39fcf7f6",
   "metadata": {},
   "source": [
    "### RQ2"
   ]
  },
  {
   "cell_type": "markdown",
   "id": "1d7cce3e",
   "metadata": {},
   "source": [
    "#### Plot the number of posts for each profile in descending order."
   ]
  },
  {
   "cell_type": "code",
   "execution_count": 36,
   "id": "9903ac3d",
   "metadata": {},
   "outputs": [
    {
     "data": {
      "text/html": [
       "<div>\n",
       "<style scoped>\n",
       "    .dataframe tbody tr th:only-of-type {\n",
       "        vertical-align: middle;\n",
       "    }\n",
       "\n",
       "    .dataframe tbody tr th {\n",
       "        vertical-align: top;\n",
       "    }\n",
       "\n",
       "    .dataframe thead th {\n",
       "        text-align: right;\n",
       "    }\n",
       "</style>\n",
       "<table border=\"1\" class=\"dataframe\">\n",
       "  <thead>\n",
       "    <tr style=\"text-align: right;\">\n",
       "      <th></th>\n",
       "      <th>profile_id</th>\n",
       "      <th>n_posts</th>\n",
       "    </tr>\n",
       "  </thead>\n",
       "  <tbody>\n",
       "    <tr>\n",
       "      <th>3990313</th>\n",
       "      <td>1.996648e+08</td>\n",
       "      <td>183730.0</td>\n",
       "    </tr>\n",
       "    <tr>\n",
       "      <th>2571453</th>\n",
       "      <td>8.563367e+09</td>\n",
       "      <td>142428.0</td>\n",
       "    </tr>\n",
       "    <tr>\n",
       "      <th>4338921</th>\n",
       "      <td>1.273455e+09</td>\n",
       "      <td>126340.0</td>\n",
       "    </tr>\n",
       "    <tr>\n",
       "      <th>3942129</th>\n",
       "      <td>9.813508e+06</td>\n",
       "      <td>125220.0</td>\n",
       "    </tr>\n",
       "    <tr>\n",
       "      <th>4219642</th>\n",
       "      <td>1.607309e+09</td>\n",
       "      <td>117262.0</td>\n",
       "    </tr>\n",
       "    <tr>\n",
       "      <th>...</th>\n",
       "      <td>...</td>\n",
       "      <td>...</td>\n",
       "    </tr>\n",
       "    <tr>\n",
       "      <th>2300812</th>\n",
       "      <td>3.864219e+09</td>\n",
       "      <td>0.0</td>\n",
       "    </tr>\n",
       "    <tr>\n",
       "      <th>2300811</th>\n",
       "      <td>5.007520e+09</td>\n",
       "      <td>0.0</td>\n",
       "    </tr>\n",
       "    <tr>\n",
       "      <th>2300810</th>\n",
       "      <td>5.430227e+09</td>\n",
       "      <td>0.0</td>\n",
       "    </tr>\n",
       "    <tr>\n",
       "      <th>2300809</th>\n",
       "      <td>6.584424e+06</td>\n",
       "      <td>0.0</td>\n",
       "    </tr>\n",
       "    <tr>\n",
       "      <th>4509585</th>\n",
       "      <td>2.088094e+09</td>\n",
       "      <td>0.0</td>\n",
       "    </tr>\n",
       "  </tbody>\n",
       "</table>\n",
       "<p>4509586 rows × 2 columns</p>\n",
       "</div>"
      ],
      "text/plain": [
       "           profile_id   n_posts\n",
       "3990313  1.996648e+08  183730.0\n",
       "2571453  8.563367e+09  142428.0\n",
       "4338921  1.273455e+09  126340.0\n",
       "3942129  9.813508e+06  125220.0\n",
       "4219642  1.607309e+09  117262.0\n",
       "...               ...       ...\n",
       "2300812  3.864219e+09       0.0\n",
       "2300811  5.007520e+09       0.0\n",
       "2300810  5.430227e+09       0.0\n",
       "2300809  6.584424e+06       0.0\n",
       "4509585  2.088094e+09       0.0\n",
       "\n",
       "[4509586 rows x 2 columns]"
      ]
     },
     "execution_count": 36,
     "metadata": {},
     "output_type": "execute_result"
    }
   ],
   "source": [
    "profiles_nposts = df_profiles[['profile_id','n_posts']]\n",
    "profiles_nposts.sort_values(by='n_posts', ascending=False)"
   ]
  },
  {
   "cell_type": "markdown",
   "id": "4094f20c",
   "metadata": {},
   "source": [
    "#### What posts have the highest number of \"likes\"?"
   ]
  },
  {
   "cell_type": "code",
   "execution_count": 51,
   "id": "0e6daee2",
   "metadata": {},
   "outputs": [],
   "source": [
    "df_posts_likes = pd.read_csv('instagram_posts.csv', delimiter=\"\\t\", usecols = ['post_id','numbr_likes', 'post_type'], low_memory = True)"
   ]
  },
  {
   "cell_type": "code",
   "execution_count": 52,
   "id": "c217f1a3",
   "metadata": {},
   "outputs": [
    {
     "data": {
      "text/html": [
       "<div>\n",
       "<style scoped>\n",
       "    .dataframe tbody tr th:only-of-type {\n",
       "        vertical-align: middle;\n",
       "    }\n",
       "\n",
       "    .dataframe tbody tr th {\n",
       "        vertical-align: top;\n",
       "    }\n",
       "\n",
       "    .dataframe thead th {\n",
       "        text-align: right;\n",
       "    }\n",
       "</style>\n",
       "<table border=\"1\" class=\"dataframe\">\n",
       "  <thead>\n",
       "    <tr style=\"text-align: right;\">\n",
       "      <th></th>\n",
       "      <th>post_id</th>\n",
       "      <th>post_type</th>\n",
       "      <th>numbr_likes</th>\n",
       "    </tr>\n",
       "  </thead>\n",
       "  <tbody>\n",
       "    <tr>\n",
       "      <th>19624085</th>\n",
       "      <td>Bt3yaXmAM0d</td>\n",
       "      <td>1</td>\n",
       "      <td>8822952.0</td>\n",
       "    </tr>\n",
       "    <tr>\n",
       "      <th>19623988</th>\n",
       "      <td>BuwffB7g8cK</td>\n",
       "      <td>1</td>\n",
       "      <td>5447066.0</td>\n",
       "    </tr>\n",
       "    <tr>\n",
       "      <th>19624082</th>\n",
       "      <td>Buc1gyZAaMQ</td>\n",
       "      <td>1</td>\n",
       "      <td>5116398.0</td>\n",
       "    </tr>\n",
       "    <tr>\n",
       "      <th>19623986</th>\n",
       "      <td>BvcukE8AMuG</td>\n",
       "      <td>1</td>\n",
       "      <td>4271466.0</td>\n",
       "    </tr>\n",
       "    <tr>\n",
       "      <th>39701024</th>\n",
       "      <td>BqSLFVBFLfq</td>\n",
       "      <td>1</td>\n",
       "      <td>4264745.0</td>\n",
       "    </tr>\n",
       "    <tr>\n",
       "      <th>...</th>\n",
       "      <td>...</td>\n",
       "      <td>...</td>\n",
       "      <td>...</td>\n",
       "    </tr>\n",
       "    <tr>\n",
       "      <th>19917549</th>\n",
       "      <td>BiJ9ySvHWqF</td>\n",
       "      <td>1</td>\n",
       "      <td>NaN</td>\n",
       "    </tr>\n",
       "    <tr>\n",
       "      <th>19917550</th>\n",
       "      <td>BiC7zI5nkuo</td>\n",
       "      <td>1</td>\n",
       "      <td>NaN</td>\n",
       "    </tr>\n",
       "    <tr>\n",
       "      <th>19917558</th>\n",
       "      <td>BiAtz-QHQvE</td>\n",
       "      <td>1</td>\n",
       "      <td>NaN</td>\n",
       "    </tr>\n",
       "    <tr>\n",
       "      <th>19917770</th>\n",
       "      <td>BiwpCvHH2_u</td>\n",
       "      <td>1</td>\n",
       "      <td>NaN</td>\n",
       "    </tr>\n",
       "    <tr>\n",
       "      <th>19917787</th>\n",
       "      <td>BipsAY-nIZK</td>\n",
       "      <td>1</td>\n",
       "      <td>NaN</td>\n",
       "    </tr>\n",
       "  </tbody>\n",
       "</table>\n",
       "<p>42710197 rows × 3 columns</p>\n",
       "</div>"
      ],
      "text/plain": [
       "              post_id  post_type  numbr_likes\n",
       "19624085  Bt3yaXmAM0d          1    8822952.0\n",
       "19623988  BuwffB7g8cK          1    5447066.0\n",
       "19624082  Buc1gyZAaMQ          1    5116398.0\n",
       "19623986  BvcukE8AMuG          1    4271466.0\n",
       "39701024  BqSLFVBFLfq          1    4264745.0\n",
       "...               ...        ...          ...\n",
       "19917549  BiJ9ySvHWqF          1          NaN\n",
       "19917550  BiC7zI5nkuo          1          NaN\n",
       "19917558  BiAtz-QHQvE          1          NaN\n",
       "19917770  BiwpCvHH2_u          1          NaN\n",
       "19917787  BipsAY-nIZK          1          NaN\n",
       "\n",
       "[42710197 rows x 3 columns]"
      ]
     },
     "execution_count": 52,
     "metadata": {},
     "output_type": "execute_result"
    }
   ],
   "source": [
    "df_posts_likes.sort_values(by='numbr_likes', ascending=False)"
   ]
  },
  {
   "cell_type": "markdown",
   "id": "80fd147a",
   "metadata": {},
   "source": [
    "From the table above, we can see that the post with post_id = Bt3yaXmAM0d has the highest number of likes (likes = 8822952.0). The type of the post is 1 which which means that the post is a Photo.\n",
    "\n",
    "We can also see that the top 5 posts (with highest number of likes) are also of type 1 (photo)."
   ]
  },
  {
   "cell_type": "markdown",
   "id": "90e427d7",
   "metadata": {},
   "source": [
    "#### What posts have the most and the least number of comments?"
   ]
  },
  {
   "cell_type": "code",
   "execution_count": 53,
   "id": "5ec21a79",
   "metadata": {},
   "outputs": [],
   "source": [
    "df_posts_comm = pd.read_csv('instagram_posts.csv', delimiter=\"\\t\", usecols = ['post_id','number_comments','post_type'], low_memory = True)"
   ]
  },
  {
   "cell_type": "code",
   "execution_count": 54,
   "id": "673dd439",
   "metadata": {},
   "outputs": [
    {
     "data": {
      "text/html": [
       "<div>\n",
       "<style scoped>\n",
       "    .dataframe tbody tr th:only-of-type {\n",
       "        vertical-align: middle;\n",
       "    }\n",
       "\n",
       "    .dataframe tbody tr th {\n",
       "        vertical-align: top;\n",
       "    }\n",
       "\n",
       "    .dataframe thead th {\n",
       "        text-align: right;\n",
       "    }\n",
       "</style>\n",
       "<table border=\"1\" class=\"dataframe\">\n",
       "  <thead>\n",
       "    <tr style=\"text-align: right;\">\n",
       "      <th></th>\n",
       "      <th>post_id</th>\n",
       "      <th>post_type</th>\n",
       "      <th>number_comments</th>\n",
       "    </tr>\n",
       "  </thead>\n",
       "  <tbody>\n",
       "    <tr>\n",
       "      <th>41873060</th>\n",
       "      <td>Bx2sPAjHviO</td>\n",
       "      <td>1</td>\n",
       "      <td>488953.0</td>\n",
       "    </tr>\n",
       "    <tr>\n",
       "      <th>12164781</th>\n",
       "      <td>BuGjhWAhAW5</td>\n",
       "      <td>1</td>\n",
       "      <td>313997.0</td>\n",
       "    </tr>\n",
       "    <tr>\n",
       "      <th>33261751</th>\n",
       "      <td>BJ-rkpTgn1N</td>\n",
       "      <td>1</td>\n",
       "      <td>257488.0</td>\n",
       "    </tr>\n",
       "    <tr>\n",
       "      <th>11149127</th>\n",
       "      <td>BMtisIxjhtT</td>\n",
       "      <td>1</td>\n",
       "      <td>214365.0</td>\n",
       "    </tr>\n",
       "    <tr>\n",
       "      <th>9383817</th>\n",
       "      <td>BzOOWj3DfZK</td>\n",
       "      <td>1</td>\n",
       "      <td>189888.0</td>\n",
       "    </tr>\n",
       "    <tr>\n",
       "      <th>...</th>\n",
       "      <td>...</td>\n",
       "      <td>...</td>\n",
       "      <td>...</td>\n",
       "    </tr>\n",
       "    <tr>\n",
       "      <th>19917549</th>\n",
       "      <td>BiJ9ySvHWqF</td>\n",
       "      <td>1</td>\n",
       "      <td>NaN</td>\n",
       "    </tr>\n",
       "    <tr>\n",
       "      <th>19917550</th>\n",
       "      <td>BiC7zI5nkuo</td>\n",
       "      <td>1</td>\n",
       "      <td>NaN</td>\n",
       "    </tr>\n",
       "    <tr>\n",
       "      <th>19917558</th>\n",
       "      <td>BiAtz-QHQvE</td>\n",
       "      <td>1</td>\n",
       "      <td>NaN</td>\n",
       "    </tr>\n",
       "    <tr>\n",
       "      <th>19917770</th>\n",
       "      <td>BiwpCvHH2_u</td>\n",
       "      <td>1</td>\n",
       "      <td>NaN</td>\n",
       "    </tr>\n",
       "    <tr>\n",
       "      <th>19917787</th>\n",
       "      <td>BipsAY-nIZK</td>\n",
       "      <td>1</td>\n",
       "      <td>NaN</td>\n",
       "    </tr>\n",
       "  </tbody>\n",
       "</table>\n",
       "<p>42710197 rows × 3 columns</p>\n",
       "</div>"
      ],
      "text/plain": [
       "              post_id  post_type  number_comments\n",
       "41873060  Bx2sPAjHviO          1         488953.0\n",
       "12164781  BuGjhWAhAW5          1         313997.0\n",
       "33261751  BJ-rkpTgn1N          1         257488.0\n",
       "11149127  BMtisIxjhtT          1         214365.0\n",
       "9383817   BzOOWj3DfZK          1         189888.0\n",
       "...               ...        ...              ...\n",
       "19917549  BiJ9ySvHWqF          1              NaN\n",
       "19917550  BiC7zI5nkuo          1              NaN\n",
       "19917558  BiAtz-QHQvE          1              NaN\n",
       "19917770  BiwpCvHH2_u          1              NaN\n",
       "19917787  BipsAY-nIZK          1              NaN\n",
       "\n",
       "[42710197 rows x 3 columns]"
      ]
     },
     "execution_count": 54,
     "metadata": {},
     "output_type": "execute_result"
    }
   ],
   "source": [
    "df_posts_comm.sort_values(by='number_comments', ascending=False)"
   ]
  },
  {
   "cell_type": "markdown",
   "id": "9938e57e",
   "metadata": {},
   "source": [
    "The post with max number of comments (488953.0) is the post with post_id = Bx2sPAjHviO and post_type = 1 (photo)."
   ]
  },
  {
   "cell_type": "code",
   "execution_count": 55,
   "id": "87caf804",
   "metadata": {},
   "outputs": [
    {
     "data": {
      "text/html": [
       "<div>\n",
       "<style scoped>\n",
       "    .dataframe tbody tr th:only-of-type {\n",
       "        vertical-align: middle;\n",
       "    }\n",
       "\n",
       "    .dataframe tbody tr th {\n",
       "        vertical-align: top;\n",
       "    }\n",
       "\n",
       "    .dataframe thead th {\n",
       "        text-align: right;\n",
       "    }\n",
       "</style>\n",
       "<table border=\"1\" class=\"dataframe\">\n",
       "  <thead>\n",
       "    <tr style=\"text-align: right;\">\n",
       "      <th></th>\n",
       "      <th>post_id</th>\n",
       "      <th>post_type</th>\n",
       "      <th>number_comments</th>\n",
       "    </tr>\n",
       "  </thead>\n",
       "  <tbody>\n",
       "    <tr>\n",
       "      <th>0</th>\n",
       "      <td>BXdjjUlgcgq</td>\n",
       "      <td>2</td>\n",
       "      <td>0.0</td>\n",
       "    </tr>\n",
       "    <tr>\n",
       "      <th>2</th>\n",
       "      <td>BRgkjcXFp3Q</td>\n",
       "      <td>1</td>\n",
       "      <td>0.0</td>\n",
       "    </tr>\n",
       "    <tr>\n",
       "      <th>3</th>\n",
       "      <td>BKTKeNhjEA7</td>\n",
       "      <td>1</td>\n",
       "      <td>0.0</td>\n",
       "    </tr>\n",
       "    <tr>\n",
       "      <th>4</th>\n",
       "      <td>8-NQrvoYLX</td>\n",
       "      <td>1</td>\n",
       "      <td>0.0</td>\n",
       "    </tr>\n",
       "    <tr>\n",
       "      <th>11</th>\n",
       "      <td>Bx-ptmpinBs</td>\n",
       "      <td>1</td>\n",
       "      <td>0.0</td>\n",
       "    </tr>\n",
       "    <tr>\n",
       "      <th>...</th>\n",
       "      <td>...</td>\n",
       "      <td>...</td>\n",
       "      <td>...</td>\n",
       "    </tr>\n",
       "    <tr>\n",
       "      <th>42710190</th>\n",
       "      <td>BpeRbppFQ2l</td>\n",
       "      <td>1</td>\n",
       "      <td>0.0</td>\n",
       "    </tr>\n",
       "    <tr>\n",
       "      <th>42710191</th>\n",
       "      <td>Bdx3o7WDypu</td>\n",
       "      <td>1</td>\n",
       "      <td>0.0</td>\n",
       "    </tr>\n",
       "    <tr>\n",
       "      <th>42710192</th>\n",
       "      <td>BcpWMWGBfxh</td>\n",
       "      <td>1</td>\n",
       "      <td>0.0</td>\n",
       "    </tr>\n",
       "    <tr>\n",
       "      <th>42710193</th>\n",
       "      <td>Ba6LZWwlCl8</td>\n",
       "      <td>1</td>\n",
       "      <td>0.0</td>\n",
       "    </tr>\n",
       "    <tr>\n",
       "      <th>42710194</th>\n",
       "      <td>BPN0kM1hYUw</td>\n",
       "      <td>1</td>\n",
       "      <td>0.0</td>\n",
       "    </tr>\n",
       "  </tbody>\n",
       "</table>\n",
       "<p>14133169 rows × 3 columns</p>\n",
       "</div>"
      ],
      "text/plain": [
       "              post_id  post_type  number_comments\n",
       "0         BXdjjUlgcgq          2              0.0\n",
       "2         BRgkjcXFp3Q          1              0.0\n",
       "3         BKTKeNhjEA7          1              0.0\n",
       "4          8-NQrvoYLX          1              0.0\n",
       "11        Bx-ptmpinBs          1              0.0\n",
       "...               ...        ...              ...\n",
       "42710190  BpeRbppFQ2l          1              0.0\n",
       "42710191  Bdx3o7WDypu          1              0.0\n",
       "42710192  BcpWMWGBfxh          1              0.0\n",
       "42710193  Ba6LZWwlCl8          1              0.0\n",
       "42710194  BPN0kM1hYUw          1              0.0\n",
       "\n",
       "[14133169 rows x 3 columns]"
      ]
     },
     "execution_count": 55,
     "metadata": {},
     "output_type": "execute_result"
    }
   ],
   "source": [
    "# min number of comments\n",
    "df_posts_comm[df_posts_comm['number_comments'] == df_posts_comm['number_comments'].min()]"
   ]
  },
  {
   "cell_type": "markdown",
   "id": "00911bb4",
   "metadata": {},
   "source": [
    "There are a lot of posts that don't have any comments."
   ]
  },
  {
   "cell_type": "code",
   "execution_count": 56,
   "id": "b11cbe00",
   "metadata": {},
   "outputs": [
    {
     "data": {
      "text/html": [
       "<div>\n",
       "<style scoped>\n",
       "    .dataframe tbody tr th:only-of-type {\n",
       "        vertical-align: middle;\n",
       "    }\n",
       "\n",
       "    .dataframe tbody tr th {\n",
       "        vertical-align: top;\n",
       "    }\n",
       "\n",
       "    .dataframe thead th {\n",
       "        text-align: right;\n",
       "    }\n",
       "</style>\n",
       "<table border=\"1\" class=\"dataframe\">\n",
       "  <thead>\n",
       "    <tr style=\"text-align: right;\">\n",
       "      <th></th>\n",
       "      <th>post_id</th>\n",
       "      <th>post_type</th>\n",
       "      <th>number_comments</th>\n",
       "    </tr>\n",
       "  </thead>\n",
       "  <tbody>\n",
       "    <tr>\n",
       "      <th>1</th>\n",
       "      <td>BVg0pbolYBC</td>\n",
       "      <td>1</td>\n",
       "      <td>1.0</td>\n",
       "    </tr>\n",
       "    <tr>\n",
       "      <th>14</th>\n",
       "      <td>Bx2ygKmCC2J</td>\n",
       "      <td>1</td>\n",
       "      <td>1.0</td>\n",
       "    </tr>\n",
       "    <tr>\n",
       "      <th>15</th>\n",
       "      <td>Bx1vAhRo-Os</td>\n",
       "      <td>1</td>\n",
       "      <td>1.0</td>\n",
       "    </tr>\n",
       "    <tr>\n",
       "      <th>20</th>\n",
       "      <td>BtnY11QlBB4</td>\n",
       "      <td>1</td>\n",
       "      <td>1.0</td>\n",
       "    </tr>\n",
       "    <tr>\n",
       "      <th>21</th>\n",
       "      <td>BvCI5yKhkvT</td>\n",
       "      <td>1</td>\n",
       "      <td>1.0</td>\n",
       "    </tr>\n",
       "    <tr>\n",
       "      <th>...</th>\n",
       "      <td>...</td>\n",
       "      <td>...</td>\n",
       "      <td>...</td>\n",
       "    </tr>\n",
       "    <tr>\n",
       "      <th>42710177</th>\n",
       "      <td>BmNSg2ih5ex</td>\n",
       "      <td>1</td>\n",
       "      <td>1.0</td>\n",
       "    </tr>\n",
       "    <tr>\n",
       "      <th>42710180</th>\n",
       "      <td>BgS2rd4BozM</td>\n",
       "      <td>1</td>\n",
       "      <td>1.0</td>\n",
       "    </tr>\n",
       "    <tr>\n",
       "      <th>42710181</th>\n",
       "      <td>Bc6jrZIHttD</td>\n",
       "      <td>1</td>\n",
       "      <td>1.0</td>\n",
       "    </tr>\n",
       "    <tr>\n",
       "      <th>42710184</th>\n",
       "      <td>BfMOP6olxcg</td>\n",
       "      <td>2</td>\n",
       "      <td>1.0</td>\n",
       "    </tr>\n",
       "    <tr>\n",
       "      <th>42710195</th>\n",
       "      <td>BxsZ8nDBr-L</td>\n",
       "      <td>1</td>\n",
       "      <td>1.0</td>\n",
       "    </tr>\n",
       "  </tbody>\n",
       "</table>\n",
       "<p>6487110 rows × 3 columns</p>\n",
       "</div>"
      ],
      "text/plain": [
       "              post_id  post_type  number_comments\n",
       "1         BVg0pbolYBC          1              1.0\n",
       "14        Bx2ygKmCC2J          1              1.0\n",
       "15        Bx1vAhRo-Os          1              1.0\n",
       "20        BtnY11QlBB4          1              1.0\n",
       "21        BvCI5yKhkvT          1              1.0\n",
       "...               ...        ...              ...\n",
       "42710177  BmNSg2ih5ex          1              1.0\n",
       "42710180  BgS2rd4BozM          1              1.0\n",
       "42710181  Bc6jrZIHttD          1              1.0\n",
       "42710184  BfMOP6olxcg          2              1.0\n",
       "42710195  BxsZ8nDBr-L          1              1.0\n",
       "\n",
       "[6487110 rows x 3 columns]"
      ]
     },
     "execution_count": 56,
     "metadata": {},
     "output_type": "execute_result"
    }
   ],
   "source": [
    "df_posts_comm[df_posts_comm['number_comments'] == 1.0]"
   ]
  },
  {
   "cell_type": "markdown",
   "id": "ab731dc1",
   "metadata": {},
   "source": [
    "We can see that there are also a lot of posts that have only 1 comment. There is not a single observation that has the smallest value for the number of comments. Smallest number of comments = 0."
   ]
  },
  {
   "cell_type": "markdown",
   "id": "b0111b52",
   "metadata": {},
   "source": [
    "#### How many posts include tagged locations, and how many do not? Show it using an appropriate chart and comment your results."
   ]
  },
  {
   "cell_type": "code",
   "execution_count": 57,
   "id": "92ead9bc",
   "metadata": {},
   "outputs": [
    {
     "data": {
      "text/html": [
       "<div>\n",
       "<style scoped>\n",
       "    .dataframe tbody tr th:only-of-type {\n",
       "        vertical-align: middle;\n",
       "    }\n",
       "\n",
       "    .dataframe tbody tr th {\n",
       "        vertical-align: top;\n",
       "    }\n",
       "\n",
       "    .dataframe thead th {\n",
       "        text-align: right;\n",
       "    }\n",
       "</style>\n",
       "<table border=\"1\" class=\"dataframe\">\n",
       "  <thead>\n",
       "    <tr style=\"text-align: right;\">\n",
       "      <th></th>\n",
       "      <th>post_id</th>\n",
       "      <th>location_id</th>\n",
       "    </tr>\n",
       "  </thead>\n",
       "  <tbody>\n",
       "    <tr>\n",
       "      <th>0</th>\n",
       "      <td>BXdjjUlgcgq</td>\n",
       "      <td>1.022366e+15</td>\n",
       "    </tr>\n",
       "    <tr>\n",
       "      <th>1</th>\n",
       "      <td>BVg0pbolYBC</td>\n",
       "      <td>4.574268e+14</td>\n",
       "    </tr>\n",
       "    <tr>\n",
       "      <th>2</th>\n",
       "      <td>BRgkjcXFp3Q</td>\n",
       "      <td>4.574268e+14</td>\n",
       "    </tr>\n",
       "    <tr>\n",
       "      <th>3</th>\n",
       "      <td>BKTKeNhjEA7</td>\n",
       "      <td>4.574268e+14</td>\n",
       "    </tr>\n",
       "    <tr>\n",
       "      <th>4</th>\n",
       "      <td>8-NQrvoYLX</td>\n",
       "      <td>4.574268e+14</td>\n",
       "    </tr>\n",
       "  </tbody>\n",
       "</table>\n",
       "</div>"
      ],
      "text/plain": [
       "       post_id   location_id\n",
       "0  BXdjjUlgcgq  1.022366e+15\n",
       "1  BVg0pbolYBC  4.574268e+14\n",
       "2  BRgkjcXFp3Q  4.574268e+14\n",
       "3  BKTKeNhjEA7  4.574268e+14\n",
       "4   8-NQrvoYLX  4.574268e+14"
      ]
     },
     "execution_count": 57,
     "metadata": {},
     "output_type": "execute_result"
    }
   ],
   "source": [
    "df_posts_locations = pd.read_csv('instagram_posts.csv', delimiter=\"\\t\", usecols = ['post_id', 'location_id'], low_memory = True)\n",
    "df_posts_locations.head()"
   ]
  },
  {
   "cell_type": "code",
   "execution_count": 58,
   "id": "85c5d902",
   "metadata": {},
   "outputs": [
    {
     "data": {
      "text/plain": [
       "(42710197, 2)"
      ]
     },
     "execution_count": 58,
     "metadata": {},
     "output_type": "execute_result"
    }
   ],
   "source": [
    "df_posts_locations.shape"
   ]
  },
  {
   "cell_type": "code",
   "execution_count": 61,
   "id": "a45282e2",
   "metadata": {},
   "outputs": [
    {
     "name": "stdout",
     "output_type": "stream",
     "text": [
      "Number of posts that do not have a tagged location:  12972772\n"
     ]
    }
   ],
   "source": [
    "no_loc = df_posts_locations['location_id'].isna().sum()\n",
    "print(\"Number of posts that do not have a tagged location: \", no_loc)"
   ]
  },
  {
   "cell_type": "code",
   "execution_count": 62,
   "id": "f40d46e6",
   "metadata": {},
   "outputs": [
    {
     "name": "stdout",
     "output_type": "stream",
     "text": [
      "Number of posts that have a tagged location:  29737425\n"
     ]
    }
   ],
   "source": [
    "with_loc = df_posts_locations['location_id'].notna().sum()\n",
    "print(\"Number of posts that have a tagged location: \", with_loc)"
   ]
  },
  {
   "cell_type": "code",
   "execution_count": 63,
   "id": "87ccc391",
   "metadata": {},
   "outputs": [
    {
     "data": {
      "text/html": [
       "<div>\n",
       "<style scoped>\n",
       "    .dataframe tbody tr th:only-of-type {\n",
       "        vertical-align: middle;\n",
       "    }\n",
       "\n",
       "    .dataframe tbody tr th {\n",
       "        vertical-align: top;\n",
       "    }\n",
       "\n",
       "    .dataframe thead th {\n",
       "        text-align: right;\n",
       "    }\n",
       "</style>\n",
       "<table border=\"1\" class=\"dataframe\">\n",
       "  <thead>\n",
       "    <tr style=\"text-align: right;\">\n",
       "      <th></th>\n",
       "      <th>has_location</th>\n",
       "      <th>number_posts</th>\n",
       "    </tr>\n",
       "  </thead>\n",
       "  <tbody>\n",
       "    <tr>\n",
       "      <th>0</th>\n",
       "      <td>0</td>\n",
       "      <td>12972772</td>\n",
       "    </tr>\n",
       "    <tr>\n",
       "      <th>1</th>\n",
       "      <td>1</td>\n",
       "      <td>29737425</td>\n",
       "    </tr>\n",
       "  </tbody>\n",
       "</table>\n",
       "</div>"
      ],
      "text/plain": [
       "   has_location  number_posts\n",
       "0             0      12972772\n",
       "1             1      29737425"
      ]
     },
     "execution_count": 63,
     "metadata": {},
     "output_type": "execute_result"
    }
   ],
   "source": [
    "data = {'has_location': [0,1], 'number_posts': [no_loc,with_loc]}  \n",
    "df_small = pd.DataFrame(data)\n",
    "df_small"
   ]
  },
  {
   "cell_type": "code",
   "execution_count": 64,
   "id": "63c39d6d",
   "metadata": {},
   "outputs": [
    {
     "data": {
      "image/png": "[encoded data removed]",
      "text/plain": [
       "<Figure size 432x288 with 1 Axes>"
      ]
     },
     "metadata": {
      "needs_background": "light"
     },
     "output_type": "display_data"
    }
   ],
   "source": [
    "# bar chart displaying the number of posts that have & don't have a tagged location\n",
    "\n",
    "plots = sns.barplot(x=\"has_location\", y=\"number_posts\", data=df_small)\n",
    " \n",
    "# Iterrating over the bars one-by-one\n",
    "for bar in plots.patches:\n",
    "    plots.annotate(format(bar.get_height(), '.0f'),\n",
    "                   (bar.get_x() + bar.get_width() / 2,\n",
    "                    bar.get_height()), ha='center', va='center',\n",
    "                   size=10, xytext=(0, 5),\n",
    "                   textcoords='offset points')\n",
    "    \n",
    "plt.title(\" # posts with & without a location\")\n",
    "plt.xlabel(\"0 - posts with no tagged location; 1 - posts with a location\")\n",
    "plt.ylabel(\"Number of posts (* 10^7)\")\n",
    "plt.show()"
   ]
  },
  {
   "cell_type": "code",
   "execution_count": 65,
   "id": "163fc9a7",
   "metadata": {},
   "outputs": [
    {
     "data": {
      "image/png": "[encoded data removed]",
      "text/plain": [
       "<Figure size 432x288 with 1 Axes>"
      ]
     },
     "metadata": {},
     "output_type": "display_data"
    }
   ],
   "source": [
    "labels = 'Without Location', 'With Location'\n",
    "\n",
    "# Creating autocpt arguments\n",
    "def func(pct, values):\n",
    "    absolute = int(pct / 100.*np.sum(values))\n",
    "    return \"{:.2f}%\\n({:d})\".format(pct, absolute)\n",
    "\n",
    "fig, ax = plt.subplots()\n",
    "ax.pie(df_small['number_posts'], labels=labels, autopct = lambda pct: func(pct, df_small['number_posts']))\n",
    "ax.axis('equal')\n",
    "\n",
    "plt.show()"
   ]
  },
  {
   "cell_type": "markdown",
   "id": "e6ea1a07",
   "metadata": {},
   "source": [
    "From the plots above we can see that the posts that include a tagged location (29737425) are as twice as many as the posts that do not include a tagged location (12972772)."
   ]
  },
  {
   "cell_type": "markdown",
   "id": "ecd93a8c",
   "metadata": {},
   "source": [
    "#### How many posts include only photos? How many also have videos?"
   ]
  },
  {
   "cell_type": "code",
   "execution_count": 67,
   "id": "873f09bb",
   "metadata": {},
   "outputs": [],
   "source": [
    "# post_type = 1 - Photo, 2 - Video, 3 - multy (both photo and video)\n",
    "\n",
    "# df_types --> 'instagram_posts.csv' --> features 'post_id', 'post_type'"
   ]
  },
  {
   "cell_type": "code",
   "execution_count": 70,
   "id": "bbd752aa",
   "metadata": {},
   "outputs": [
    {
     "name": "stdout",
     "output_type": "stream",
     "text": [
      "Number of posts that include only photos:  41534486\n"
     ]
    }
   ],
   "source": [
    "print('Number of posts that include only photos: ', df_types[df_types['post_type']==1].shape[0])"
   ]
  },
  {
   "cell_type": "code",
   "execution_count": 71,
   "id": "da385bf1",
   "metadata": {},
   "outputs": [
    {
     "name": "stdout",
     "output_type": "stream",
     "text": [
      "Number of posts that also include videos:  40943\n"
     ]
    }
   ],
   "source": [
    "# posts that also include videos (3 - multy = have both photos and videos)\n",
    "print('Number of posts that also include videos: ', df_types[df_types['post_type']==3].shape[0])"
   ]
  },
  {
   "cell_type": "markdown",
   "id": "492e3141",
   "metadata": {},
   "source": [
    "#### What's the percentage of business accounts vs non-business? What can you interpret regarding that percentage?"
   ]
  },
  {
   "cell_type": "markdown",
   "id": "74f7308e",
   "metadata": {},
   "source": [
    "Percentage of business and non-business accounts (before filling in the missing values for this variable with False)\n",
    "\n",
    "False    57.434740\n",
    "\n",
    "True     18.965244"
   ]
  },
  {
   "cell_type": "code",
   "execution_count": 72,
   "id": "13254a61",
   "metadata": {},
   "outputs": [
    {
     "data": {
      "text/plain": [
       "False    81.034756\n",
       "True     18.965244\n",
       "Name: is_business_account, dtype: float64"
      ]
     },
     "execution_count": 72,
     "metadata": {},
     "output_type": "execute_result"
    }
   ],
   "source": [
    "# percentage of business and non-business accounts (afetr filling in the missing values for this variable with False)\n",
    "df_profiles.is_business_account.value_counts() / df_profiles.shape[0] * 100"
   ]
  },
  {
   "cell_type": "markdown",
   "id": "ff71b307",
   "metadata": {},
   "source": [
    "We can see that there are a lot more non-business accounts. We expected to see that because there are more individuals who have instagram accounts than companies & small businesses.\n",
    "\n",
    "Even though there are individuals who have business accounts, their number is not that large and those people usually have such accounts because they either have their own business or promote other businesses.\n",
    "\n",
    "At the same time, there is a large amount of people who use instagram as just another social media, for example, to post photos and videos, to connect with friends, etc. In that case a non-business account is sufficient."
   ]
  },
  {
   "cell_type": "code",
   "execution_count": null,
   "id": "84ba2b3d",
   "metadata": {},
   "outputs": [],
   "source": []
  },
  {
   "cell_type": "markdown",
   "id": "92bf73d1",
   "metadata": {},
   "source": [
    "### RQ3"
   ]
  },
  {
   "cell_type": "markdown",
   "id": "18967c0e",
   "metadata": {},
   "source": [
    "#### What is the most common time in which users publish their posts?"
   ]
  },
  {
   "cell_type": "code",
   "execution_count": 73,
   "id": "2934e1c4",
   "metadata": {},
   "outputs": [],
   "source": [
    "df_posts_times = pd.read_csv('instagram_posts.csv', delimiter=\"\\t\", usecols = ['post_id', 'cts'], low_memory = True)"
   ]
  },
  {
   "cell_type": "code",
   "execution_count": 74,
   "id": "b5798626",
   "metadata": {},
   "outputs": [],
   "source": [
    "# convert 'cts' to a Datetime format\n",
    "df_posts_times.cts = pd.to_datetime(df_posts_times.cts)"
   ]
  },
  {
   "cell_type": "code",
   "execution_count": 75,
   "id": "9f8dea67",
   "metadata": {},
   "outputs": [],
   "source": [
    "# create a new column for the hours\n",
    "df_posts_times['hour'] = df_posts_times.cts.dt.hour"
   ]
  },
  {
   "cell_type": "code",
   "execution_count": 76,
   "id": "6dc97f6c",
   "metadata": {},
   "outputs": [
    {
     "data": {
      "text/plain": [
       "19.0    2499758\n",
       "20.0    2495269\n",
       "18.0    2486381\n",
       "17.0    2423768\n",
       "21.0    2414932\n",
       "16.0    2341052\n",
       "15.0    2263009\n",
       "22.0    2167378\n",
       "14.0    2158976\n",
       "13.0    2025569\n",
       "12.0    1868544\n",
       "23.0    1838215\n",
       "11.0    1720602\n",
       "10.0    1571222\n",
       "0.0     1547036\n",
       "9.0     1434724\n",
       "1.0     1376147\n",
       "2.0     1290434\n",
       "8.0     1267423\n",
       "3.0     1231644\n",
       "4.0     1135290\n",
       "7.0     1093280\n",
       "5.0     1044289\n",
       "6.0     1011923\n",
       "Name: hour, dtype: int64"
      ]
     },
     "execution_count": 76,
     "metadata": {},
     "output_type": "execute_result"
    }
   ],
   "source": [
    "#the most common time in which users publish their posts\n",
    "df_posts_times['hour'].value_counts() "
   ]
  },
  {
   "cell_type": "markdown",
   "id": "8cd5781b",
   "metadata": {},
   "source": [
    "#### Create a function that receives a time intervals list as a parameter and returns a plot with the number of posts for each given interval."
   ]
  },
  {
   "cell_type": "code",
   "execution_count": 80,
   "id": "f9ff9b7d",
   "metadata": {},
   "outputs": [],
   "source": [
    "# A function that receives a time intervals list as a parameter and returns\n",
    "# a plot with the number of posts for each given interval\n",
    "\n",
    "def plot_posts_time(time_intervals):\n",
    "    time_results = {}\n",
    "    for slot in time_slots:\n",
    "        result = len(df_posts_times[(df_posts_times.hour >= slot[0]) & (df_posts_times.hour <= slot[1])])\n",
    "        time_results[slot] = result\n",
    "    \n",
    "    # create a list of strings of the time intervals\n",
    "    time_intervals_str = []\n",
    "    for i in time_intervals:\n",
    "        time_intervals_str.append(str(i))\n",
    "    \n",
    "    num_posts = list(time_results.values())\n",
    "    plt.bar(range(len(time_results)), num_posts, tick_label = time_intervals_str)\n",
    "    plt.title('Number of posts for each time interval')\n",
    "    plt.xlabel('Time intervals')\n",
    "    plt.ylabel('Number of posts')\n",
    "    plt.show()\n",
    "    \n",
    "    return(time_results)"
   ]
  },
  {
   "cell_type": "markdown",
   "id": "45e2e2ed",
   "metadata": {},
   "source": [
    "#### Use the function that you created in the previous literal to plot the number of posts between the following time intervals:"
   ]
  },
  {
   "cell_type": "code",
   "execution_count": 81,
   "id": "f2e77528",
   "metadata": {},
   "outputs": [],
   "source": [
    "time_slots = [(6,10),(11,13),(14,16),(17,19),(20,23),(0,2),(3,5)]"
   ]
  },
  {
   "cell_type": "code",
   "execution_count": 82,
   "id": "a3a8c810",
   "metadata": {},
   "outputs": [
    {
     "data": {
      "image/png": "[encoded data removed]",
      "text/plain": [
       "<Figure size 432x288 with 1 Axes>"
      ]
     },
     "metadata": {
      "needs_background": "light"
     },
     "output_type": "display_data"
    },
    {
     "data": {
      "text/plain": [
       "{(6, 10): 6378572,\n",
       " (11, 13): 5614715,\n",
       " (14, 16): 6763037,\n",
       " (17, 19): 7409907,\n",
       " (20, 23): 8915794,\n",
       " (0, 2): 4213617,\n",
       " (3, 5): 3411223}"
      ]
     },
     "execution_count": 82,
     "metadata": {},
     "output_type": "execute_result"
    }
   ],
   "source": [
    "plot_posts_time(time_slots)"
   ]
  },
  {
   "cell_type": "markdown",
   "id": "10ff5707",
   "metadata": {},
   "source": [
    "We have used the function \"dt.hour\" which converts values of DateTime format to hours. Which means that that our intervals above are equavalent to:\n",
    "\n",
    "06:00:00 - 10:59:59; 11:00:00 - 13:59:59, 14:00:00 - 16:59:59; 17:00:00 - 19:59:59; \n",
    "20:00:00 - 23:59:59; 00:00:00 - 02:59:59; 03:00:00 - 05:59:59"
   ]
  },
  {
   "cell_type": "markdown",
   "id": "e754e370",
   "metadata": {},
   "source": [
    "From above, we can see that the **5th time interval (20, 23) has the most number of posts**. It has 8915794 number of posts."
   ]
  },
  {
   "cell_type": "code",
   "execution_count": null,
   "id": "a6c1b3cb",
   "metadata": {},
   "outputs": [],
   "source": []
  },
  {
   "cell_type": "markdown",
   "id": "67613657",
   "metadata": {},
   "source": [
    "### RQ4"
   ]
  },
  {
   "cell_type": "markdown",
   "id": "715ffb9b",
   "metadata": {},
   "source": [
    "#### Write a function that, given a profile_id, will be able to return the posts that belong to the given profile_id."
   ]
  },
  {
   "cell_type": "code",
   "execution_count": 37,
   "id": "00f3969a",
   "metadata": {},
   "outputs": [],
   "source": [
    "profileposts = pd.read_csv('instagram_posts.csv', delimiter = '\\t', usecols=['post_id','profile_id'], low_memory = True)"
   ]
  },
  {
   "cell_type": "code",
   "execution_count": 38,
   "id": "c8a51c64",
   "metadata": {},
   "outputs": [],
   "source": [
    "# we are interested only in the profiles that are present in both the profiles and the posts datasets\n",
    "\n",
    "# find all unique profile_ids\n",
    "ids_unique = df_profiles['profile_id'].unique()"
   ]
  },
  {
   "cell_type": "code",
   "execution_count": 39,
   "id": "c8235b94",
   "metadata": {},
   "outputs": [],
   "source": [
    "# data for the profiles that are present in both the profiles and the posts datasets\n",
    "# features -- post id & profile id\n",
    "\n",
    "profileposts_1 = profileposts[profileposts['profile_id'].isin(ids_unique)]"
   ]
  },
  {
   "cell_type": "code",
   "execution_count": 40,
   "id": "7aa387a4",
   "metadata": {},
   "outputs": [],
   "source": [
    "# function that returns the ids of the posts that belong to a given profile id\n",
    "def findposts(prof):\n",
    "    return list(profileposts[profileposts['profile_id']==prof]['post_id'])\n"
   ]
  },
  {
   "cell_type": "code",
   "execution_count": 41,
   "id": "96d8fef1",
   "metadata": {},
   "outputs": [
    {
     "data": {
      "text/plain": [
       "['B0nvWXnFBEx',\n",
       " 'B0lHr6HF_od',\n",
       " 'Bz5fUlwl6N1',\n",
       " 'Bzo0MlIFhA6',\n",
       " 'By5EP57lVmw',\n",
       " 'BywSyM8lvhd',\n",
       " 'ByuzQLWllNU',\n",
       " 'Byh2ZdZlMcl',\n",
       " 'ByWpTQ_FBtb',\n",
       " 'ByWeIyqlcbw',\n",
       " 'ByG4lJsFaX3',\n",
       " 'Bx8u8qJFuMq',\n",
       " 'BxQ0AJel41c',\n",
       " 'BxQze6lFHdG',\n",
       " 'BxQt4_7Fqeb']"
      ]
     },
     "execution_count": 41,
     "metadata": {},
     "output_type": "execute_result"
    }
   ],
   "source": [
    "# test the function with some id\n",
    "findposts(df_profiles['profile_id'][0])"
   ]
  },
  {
   "cell_type": "code",
   "execution_count": 42,
   "id": "94e6bdda",
   "metadata": {},
   "outputs": [],
   "source": [
    "# another version of the function\n",
    "# function that returns all the info about the posts for a given profile id\n",
    "\n",
    "def posts_for_profileID(profile_id):\n",
    "    #set up an empty dataframe\n",
    "    df_ID_posts = pd.DataFrame()\n",
    "\n",
    "    chunksize = 10 ** 5\n",
    "\n",
    "    #in each chunk, filter for the particular profile_id and merge the chunks into one dataframe\n",
    "    for chunk in pd.read_csv('instagram_posts.csv', delimiter=\"\\t\", chunksize=chunksize):\n",
    "        df_filtered = (chunk[(np.where(chunk['profile_id'] == profile_id, True, False))])\n",
    "        df_ID_posts = pd.concat([df_ID_posts, df_filtered], ignore_index=True, )\n",
    "   \n",
    "    return df_ID_posts"
   ]
  },
  {
   "cell_type": "code",
   "execution_count": 43,
   "id": "54459a47",
   "metadata": {},
   "outputs": [
    {
     "data": {
      "text/html": [
       "<div>\n",
       "<style scoped>\n",
       "    .dataframe tbody tr th:only-of-type {\n",
       "        vertical-align: middle;\n",
       "    }\n",
       "\n",
       "    .dataframe tbody tr th {\n",
       "        vertical-align: top;\n",
       "    }\n",
       "\n",
       "    .dataframe thead th {\n",
       "        text-align: right;\n",
       "    }\n",
       "</style>\n",
       "<table border=\"1\" class=\"dataframe\">\n",
       "  <thead>\n",
       "    <tr style=\"text-align: right;\">\n",
       "      <th></th>\n",
       "      <th>sid</th>\n",
       "      <th>sid_profile</th>\n",
       "      <th>post_id</th>\n",
       "      <th>profile_id</th>\n",
       "      <th>location_id</th>\n",
       "      <th>cts</th>\n",
       "      <th>post_type</th>\n",
       "      <th>description</th>\n",
       "      <th>numbr_likes</th>\n",
       "      <th>number_comments</th>\n",
       "    </tr>\n",
       "  </thead>\n",
       "  <tbody>\n",
       "    <tr>\n",
       "      <th>0</th>\n",
       "      <td>28370933</td>\n",
       "      <td>-1</td>\n",
       "      <td>BRgkjcXFp3Q</td>\n",
       "      <td>313429634.0</td>\n",
       "      <td>4.574268e+14</td>\n",
       "      <td>2017-03-11 20:05:03.000</td>\n",
       "      <td>1</td>\n",
       "      <td>#meraviglia #incensi #the #candele #profumo #a...</td>\n",
       "      <td>9.0</td>\n",
       "      <td>0.0</td>\n",
       "    </tr>\n",
       "  </tbody>\n",
       "</table>\n",
       "</div>"
      ],
      "text/plain": [
       "        sid  sid_profile      post_id   profile_id   location_id  \\\n",
       "0  28370933           -1  BRgkjcXFp3Q  313429634.0  4.574268e+14   \n",
       "\n",
       "                       cts  post_type  \\\n",
       "0  2017-03-11 20:05:03.000          1   \n",
       "\n",
       "                                         description  numbr_likes  \\\n",
       "0  #meraviglia #incensi #the #candele #profumo #a...          9.0   \n",
       "\n",
       "   number_comments  \n",
       "0              0.0  "
      ]
     },
     "execution_count": 43,
     "metadata": {},
     "output_type": "execute_result"
    }
   ],
   "source": [
    "# test the function with some id\n",
    "posts_for_profileID(profile_id = 313429634)"
   ]
  },
  {
   "cell_type": "markdown",
   "id": "b19da7c5",
   "metadata": {},
   "source": [
    "#### Write another function that, given an input n (an integer), will return the posts that belong to the n top posted profiles (top n profiles that have posted the highest number of posts) that their data is available in the profile.csv using the previously written function."
   ]
  },
  {
   "cell_type": "code",
   "execution_count": 44,
   "id": "fec25ee9",
   "metadata": {},
   "outputs": [],
   "source": [
    "# here we work with the dataset that contains only the users that are present in both datasets (profileposts_1)"
   ]
  },
  {
   "cell_type": "code",
   "execution_count": 45,
   "id": "fae95bd4",
   "metadata": {},
   "outputs": [],
   "source": [
    "# function that returns the ids of the top n users and the ids of their posts\n",
    "\n",
    "def top_n_profiles(n):\n",
    "    # group by the profile id and calculate the number of posts each profile has\n",
    "    id_numposts = profileposts_1.groupby('profile_id').agg(numb_posts = ('post_id','count')).reset_index()\n",
    "\n",
    "    # sort by the number of posts\n",
    "    id_numposts = id_numposts.sort_values(by = 'numb_posts', ascending = False)\n",
    "\n",
    "    # find the top n profiles that have posted the highest number of posts\n",
    "    top_n_prof = id_numposts.head(n)\n",
    "    \n",
    "    # ids of the top n users\n",
    "    ids = list(top_n_prof['profile_id'])\n",
    "    \n",
    "    # list where we will store the post ids of the top n users\n",
    "    posts = []\n",
    "    \n",
    "    for i in ids:\n",
    "        posts.append(findposts(i))\n",
    "\n",
    "    return ids, posts"
   ]
  },
  {
   "cell_type": "markdown",
   "id": "cd2cd3dd",
   "metadata": {},
   "source": [
    "#### What is the average number of \"likes\" and \"comments\" of the top 10 profiles with the highest number of posts which their information is available in profile.csv?"
   ]
  },
  {
   "cell_type": "code",
   "execution_count": 46,
   "id": "96b9daac",
   "metadata": {},
   "outputs": [],
   "source": [
    "# post ids for the top 10 profiles\n",
    "top10_ids, top10_p = top_n_profiles(10)"
   ]
  },
  {
   "cell_type": "code",
   "execution_count": 47,
   "id": "b069ffe5",
   "metadata": {},
   "outputs": [],
   "source": [
    "df_likecom = pd.read_csv('instagram_posts.csv', delimiter='\\t', usecols=['profile_id','numbr_likes','number_comments','cts'], low_memory=True)"
   ]
  },
  {
   "cell_type": "code",
   "execution_count": 48,
   "id": "7332ac07",
   "metadata": {},
   "outputs": [],
   "source": [
    "# data only for the top 10 users\n",
    "data_top10 = df_likecom[df_likecom['profile_id'].isin(top10_ids)]"
   ]
  },
  {
   "cell_type": "code",
   "execution_count": 49,
   "id": "5ceb157c",
   "metadata": {},
   "outputs": [
    {
     "name": "stdout",
     "output_type": "stream",
     "text": [
      "Avg #likes for user  5421037289.0 :  10.373956594323873\n",
      "Avg #likes for user  12878122053.0 :  2.174061433447099\n",
      "Avg #likes for user  13478139882.0 :  3.5673249551166966\n",
      "Avg #likes for user  12961349015.0 :  3.091254752851711\n",
      "Avg #likes for user  5515448111.0 :  8.173333333333334\n",
      "Avg #likes for user  2243212181.0 :  636.5022222222223\n",
      "Avg #likes for user  4575459348.0 :  19.434895833333332\n",
      "Avg #likes for user  10294138.0 :  3138.977900552486\n",
      "Avg #likes for user  268209442.0 :  1931.7310924369747\n",
      "Avg #likes for user  23650507.0 :  247.0231884057971\n"
     ]
    }
   ],
   "source": [
    "for i in top10_ids:\n",
    "    # average number of likes\n",
    "    sum_likes = data_top10[data_top10['profile_id']==i]['numbr_likes'].sum()\n",
    "    num_posts = data_top10[data_top10['profile_id']==i].shape[0]\n",
    "    avg_likes = sum_likes / num_posts\n",
    "    \n",
    "    print(\"Avg #likes for user \", i, \": \", avg_likes)\n",
    "    "
   ]
  },
  {
   "cell_type": "code",
   "execution_count": 50,
   "id": "b711c8de",
   "metadata": {},
   "outputs": [
    {
     "name": "stdout",
     "output_type": "stream",
     "text": [
      "Avg #comments for user  5421037289.0 :  0.2637729549248748\n",
      "Avg #comments for user  12878122053.0 :  0.11433447098976109\n",
      "Avg #comments for user  13478139882.0 :  0.14721723518850988\n",
      "Avg #comments for user  12961349015.0 :  0.09885931558935361\n",
      "Avg #comments for user  5515448111.0 :  0.07333333333333333\n",
      "Avg #comments for user  2243212181.0 :  15.488888888888889\n",
      "Avg #comments for user  4575459348.0 :  0.018229166666666668\n",
      "Avg #comments for user  10294138.0 :  111.06077348066299\n",
      "Avg #comments for user  268209442.0 :  31.11484593837535\n",
      "Avg #comments for user  23650507.0 :  7.959420289855072\n"
     ]
    }
   ],
   "source": [
    "for i in top10_ids:\n",
    "    # average number of likes\n",
    "    sum_comm = data_top10[data_top10['profile_id']==i]['number_comments'].sum()\n",
    "    num_posts = data_top10[data_top10['profile_id']==i].shape[0]\n",
    "    avg_likes = sum_comm / num_posts\n",
    "    \n",
    "    print(\"Avg #comments for user \", i, \": \", avg_likes)\n",
    "    "
   ]
  },
  {
   "cell_type": "markdown",
   "id": "e8a86c1b",
   "metadata": {},
   "source": [
    "#### Plot the number of posts that these top 10 profiles have sent on Instagram in the given interval in question RQ3. Interpret the resulting chart."
   ]
  },
  {
   "cell_type": "code",
   "execution_count": 51,
   "id": "b2c97f5a",
   "metadata": {},
   "outputs": [
    {
     "name": "stderr",
     "output_type": "stream",
     "text": [
      "C:\\Users\\yoann\\AppData\\Local\\Temp\\ipykernel_10880\\700628392.py:2: SettingWithCopyWarning: \n",
      "A value is trying to be set on a copy of a slice from a DataFrame.\n",
      "Try using .loc[row_indexer,col_indexer] = value instead\n",
      "\n",
      "See the caveats in the documentation: https://pandas.pydata.org/pandas-docs/stable/user_guide/indexing.html#returning-a-view-versus-a-copy\n",
      "  data_top10.cts = pd.to_datetime(data_top10.cts)\n"
     ]
    }
   ],
   "source": [
    "# convert 'cts' to a Datetime format\n",
    "data_top10.cts = pd.to_datetime(data_top10.cts)"
   ]
  },
  {
   "cell_type": "code",
   "execution_count": 52,
   "id": "c69bd7df",
   "metadata": {},
   "outputs": [
    {
     "name": "stderr",
     "output_type": "stream",
     "text": [
      "C:\\Users\\yoann\\AppData\\Local\\Temp\\ipykernel_10880\\563773545.py:2: SettingWithCopyWarning: \n",
      "A value is trying to be set on a copy of a slice from a DataFrame.\n",
      "Try using .loc[row_indexer,col_indexer] = value instead\n",
      "\n",
      "See the caveats in the documentation: https://pandas.pydata.org/pandas-docs/stable/user_guide/indexing.html#returning-a-view-versus-a-copy\n",
      "  data_top10['hour'] = data_top10.cts.dt.hour\n"
     ]
    }
   ],
   "source": [
    "# create a new column for the hours\n",
    "data_top10['hour'] = data_top10.cts.dt.hour"
   ]
  },
  {
   "cell_type": "code",
   "execution_count": 53,
   "id": "9dce95ae",
   "metadata": {},
   "outputs": [
    {
     "data": {
      "text/html": [
       "<div>\n",
       "<style scoped>\n",
       "    .dataframe tbody tr th:only-of-type {\n",
       "        vertical-align: middle;\n",
       "    }\n",
       "\n",
       "    .dataframe tbody tr th {\n",
       "        vertical-align: top;\n",
       "    }\n",
       "\n",
       "    .dataframe thead th {\n",
       "        text-align: right;\n",
       "    }\n",
       "</style>\n",
       "<table border=\"1\" class=\"dataframe\">\n",
       "  <thead>\n",
       "    <tr style=\"text-align: right;\">\n",
       "      <th></th>\n",
       "      <th>profile_id</th>\n",
       "      <th>cts</th>\n",
       "      <th>numbr_likes</th>\n",
       "      <th>number_comments</th>\n",
       "      <th>hour</th>\n",
       "    </tr>\n",
       "  </thead>\n",
       "  <tbody>\n",
       "    <tr>\n",
       "      <th>7436</th>\n",
       "      <td>4.575459e+09</td>\n",
       "      <td>2019-05-29 09:05:37</td>\n",
       "      <td>7.0</td>\n",
       "      <td>0.0</td>\n",
       "      <td>9</td>\n",
       "    </tr>\n",
       "    <tr>\n",
       "      <th>28906</th>\n",
       "      <td>2.243212e+09</td>\n",
       "      <td>2017-08-11 13:19:53</td>\n",
       "      <td>682.0</td>\n",
       "      <td>18.0</td>\n",
       "      <td>13</td>\n",
       "    </tr>\n",
       "    <tr>\n",
       "      <th>40126</th>\n",
       "      <td>1.029414e+07</td>\n",
       "      <td>2019-05-22 22:51:40</td>\n",
       "      <td>10014.0</td>\n",
       "      <td>93.0</td>\n",
       "      <td>22</td>\n",
       "    </tr>\n",
       "  </tbody>\n",
       "</table>\n",
       "</div>"
      ],
      "text/plain": [
       "         profile_id                 cts  numbr_likes  number_comments  hour\n",
       "7436   4.575459e+09 2019-05-29 09:05:37          7.0              0.0     9\n",
       "28906  2.243212e+09 2017-08-11 13:19:53        682.0             18.0    13\n",
       "40126  1.029414e+07 2019-05-22 22:51:40      10014.0             93.0    22"
      ]
     },
     "execution_count": 53,
     "metadata": {},
     "output_type": "execute_result"
    }
   ],
   "source": [
    "data_top10.head(3)"
   ]
  },
  {
   "cell_type": "code",
   "execution_count": 54,
   "id": "f841ff8e",
   "metadata": {},
   "outputs": [],
   "source": [
    "# We can modify the function from RQ3 which plots the number of posts for each interval. We just change the dataset that is used.\n",
    "\n",
    "# A function that receives a time intervals list as a parameter and returns\n",
    "# a plot with the number of posts for each given interval\n",
    "\n",
    "def plot_posts_times_top10(time_intervals):\n",
    "    time_results = {}\n",
    "    for slot in time_slots:\n",
    "        result = len(data_top10[(data_top10.hour >= slot[0]) & (data_top10.hour <= slot[1])])\n",
    "        time_results[slot] = result\n",
    "    \n",
    "    # create a list of strings of the time intervals\n",
    "    time_intervals_str = []\n",
    "    for i in time_intervals:\n",
    "        time_intervals_str.append(str(i))\n",
    "    \n",
    "    num_posts = list(time_results.values())\n",
    "    plt.bar(range(len(time_results)), num_posts, tick_label = time_intervals_str)\n",
    "    plt.title('Number of posts for each time interval')\n",
    "    plt.xlabel('Time intervals')\n",
    "    plt.ylabel('Number of posts (in millions)')\n",
    "    plt.show()\n",
    "    \n",
    "    return(time_results)"
   ]
  },
  {
   "cell_type": "code",
   "execution_count": 57,
   "id": "92c14848",
   "metadata": {},
   "outputs": [],
   "source": [
    "#time_slots = [(6,10),(11,13),(14,16),(17,19),(20,23),(0,2),(3,5)]"
   ]
  },
  {
   "cell_type": "code",
   "execution_count": 58,
   "id": "a6dd9980",
   "metadata": {},
   "outputs": [
    {
     "data": {
      "image/png": "[encoded data removed]",
      "text/plain": [
       "<Figure size 432x288 with 1 Axes>"
      ]
     },
     "metadata": {
      "needs_background": "light"
     },
     "output_type": "display_data"
    },
    {
     "data": {
      "text/plain": [
       "{(6, 10): 711,\n",
       " (11, 13): 657,\n",
       " (14, 16): 590,\n",
       " (17, 19): 738,\n",
       " (20, 23): 1018,\n",
       " (0, 2): 503,\n",
       " (3, 5): 399}"
      ]
     },
     "execution_count": 58,
     "metadata": {},
     "output_type": "execute_result"
    }
   ],
   "source": [
    "plot_posts_times_top10(time_slots)"
   ]
  },
  {
   "cell_type": "code",
   "execution_count": null,
   "id": "f875d8f2",
   "metadata": {},
   "outputs": [],
   "source": []
  },
  {
   "cell_type": "markdown",
   "id": "cecbaf18",
   "metadata": {},
   "source": [
    "### RQ5\n",
    "The **most influential users** are the ones with the **highest number of “followers\"**, you can now look more into their activity."
   ]
  },
  {
   "cell_type": "markdown",
   "id": "bc70fa82",
   "metadata": {},
   "source": [
    "#### Plot the top 10 most popular users in terms of followers and their number of posts."
   ]
  },
  {
   "cell_type": "code",
   "execution_count": 59,
   "id": "beb7ce04",
   "metadata": {},
   "outputs": [
    {
     "data": {
      "text/html": [
       "<div>\n",
       "<style scoped>\n",
       "    .dataframe tbody tr th:only-of-type {\n",
       "        vertical-align: middle;\n",
       "    }\n",
       "\n",
       "    .dataframe tbody tr th {\n",
       "        vertical-align: top;\n",
       "    }\n",
       "\n",
       "    .dataframe thead th {\n",
       "        text-align: right;\n",
       "    }\n",
       "</style>\n",
       "<table border=\"1\" class=\"dataframe\">\n",
       "  <thead>\n",
       "    <tr style=\"text-align: right;\">\n",
       "      <th></th>\n",
       "      <th>profile_id</th>\n",
       "      <th>followers</th>\n",
       "      <th>n_posts</th>\n",
       "    </tr>\n",
       "  </thead>\n",
       "  <tbody>\n",
       "    <tr>\n",
       "      <th>2880218</th>\n",
       "      <td>2.502532e+07</td>\n",
       "      <td>285457645.0</td>\n",
       "      <td>5760.0</td>\n",
       "    </tr>\n",
       "    <tr>\n",
       "      <th>2582507</th>\n",
       "      <td>3.416684e+06</td>\n",
       "      <td>65269440.0</td>\n",
       "      <td>7355.0</td>\n",
       "    </tr>\n",
       "    <tr>\n",
       "      <th>3820939</th>\n",
       "      <td>2.082449e+07</td>\n",
       "      <td>35339708.0</td>\n",
       "      <td>28816.0</td>\n",
       "    </tr>\n",
       "    <tr>\n",
       "      <th>701965</th>\n",
       "      <td>1.876191e+08</td>\n",
       "      <td>30689316.0</td>\n",
       "      <td>3352.0</td>\n",
       "    </tr>\n",
       "    <tr>\n",
       "      <th>2414951</th>\n",
       "      <td>2.125507e+09</td>\n",
       "      <td>30246783.0</td>\n",
       "      <td>2791.0</td>\n",
       "    </tr>\n",
       "    <tr>\n",
       "      <th>2785241</th>\n",
       "      <td>4.968651e+08</td>\n",
       "      <td>29542143.0</td>\n",
       "      <td>990.0</td>\n",
       "    </tr>\n",
       "    <tr>\n",
       "      <th>333193</th>\n",
       "      <td>2.341008e+07</td>\n",
       "      <td>29176804.0</td>\n",
       "      <td>4566.0</td>\n",
       "    </tr>\n",
       "    <tr>\n",
       "      <th>3934581</th>\n",
       "      <td>2.423993e+07</td>\n",
       "      <td>29042823.0</td>\n",
       "      <td>4719.0</td>\n",
       "    </tr>\n",
       "    <tr>\n",
       "      <th>1311970</th>\n",
       "      <td>5.041706e+07</td>\n",
       "      <td>26476004.0</td>\n",
       "      <td>1311.0</td>\n",
       "    </tr>\n",
       "    <tr>\n",
       "      <th>1703764</th>\n",
       "      <td>9.070254e+08</td>\n",
       "      <td>26252169.0</td>\n",
       "      <td>1173.0</td>\n",
       "    </tr>\n",
       "  </tbody>\n",
       "</table>\n",
       "</div>"
      ],
      "text/plain": [
       "           profile_id    followers  n_posts\n",
       "2880218  2.502532e+07  285457645.0   5760.0\n",
       "2582507  3.416684e+06   65269440.0   7355.0\n",
       "3820939  2.082449e+07   35339708.0  28816.0\n",
       "701965   1.876191e+08   30689316.0   3352.0\n",
       "2414951  2.125507e+09   30246783.0   2791.0\n",
       "2785241  4.968651e+08   29542143.0    990.0\n",
       "333193   2.341008e+07   29176804.0   4566.0\n",
       "3934581  2.423993e+07   29042823.0   4719.0\n",
       "1311970  5.041706e+07   26476004.0   1311.0\n",
       "1703764  9.070254e+08   26252169.0   1173.0"
      ]
     },
     "execution_count": 59,
     "metadata": {},
     "output_type": "execute_result"
    }
   ],
   "source": [
    "# sort by followers and display the top 10 users with their number of posts\n",
    "df_prof_sort = df_profiles.sort_values(by='followers', ascending = False)\n",
    "df_profiles_top10 = df_prof_sort.head(10)\n",
    "df_profiles_top10 = df_profiles_top10[['profile_id',\"followers\",'n_posts']]\n",
    "df_profiles_top10"
   ]
  },
  {
   "cell_type": "code",
   "execution_count": 60,
   "id": "5af167c7",
   "metadata": {},
   "outputs": [
    {
     "data": {
      "image/png": "[encoded data removed]",
      "text/plain": [
       "<Figure size 1080x504 with 1 Axes>"
      ]
     },
     "metadata": {},
     "output_type": "display_data"
    }
   ],
   "source": [
    "# bar chart showing the top 10 most influential users with their number of followers (sorted)\n",
    "sns.set(rc={'figure.figsize':(15,7)})\n",
    "nf = sns.barplot(data = df_profiles_top10, x=\"profile_id\", y=\"followers\", order=df_profiles_top10['profile_id'])"
   ]
  },
  {
   "cell_type": "code",
   "execution_count": 61,
   "id": "164472e7",
   "metadata": {},
   "outputs": [
    {
     "data": {
      "image/png": "[encoded data removed]",
      "text/plain": [
       "<Figure size 1080x504 with 1 Axes>"
      ]
     },
     "metadata": {},
     "output_type": "display_data"
    }
   ],
   "source": [
    "# bar chart showing the top 10 most influential users with their corresponding number of posts (sorted by # followers)\n",
    "sns.set(rc = {'figure.figsize':(15,7)})\n",
    "np = sns.barplot(data = df_profiles_top10, x=\"profile_id\", y=\"n_posts\", order = df_profiles_top10['profile_id'])"
   ]
  },
  {
   "cell_type": "markdown",
   "id": "21fc253d",
   "metadata": {},
   "source": [
    "#### Who is the most influential user?\n"
   ]
  },
  {
   "cell_type": "code",
   "execution_count": 62,
   "id": "2fa2049c",
   "metadata": {},
   "outputs": [
    {
     "data": {
      "text/html": [
       "<div>\n",
       "<style scoped>\n",
       "    .dataframe tbody tr th:only-of-type {\n",
       "        vertical-align: middle;\n",
       "    }\n",
       "\n",
       "    .dataframe tbody tr th {\n",
       "        vertical-align: top;\n",
       "    }\n",
       "\n",
       "    .dataframe thead th {\n",
       "        text-align: right;\n",
       "    }\n",
       "</style>\n",
       "<table border=\"1\" class=\"dataframe\">\n",
       "  <thead>\n",
       "    <tr style=\"text-align: right;\">\n",
       "      <th></th>\n",
       "      <th>sid</th>\n",
       "      <th>profile_id</th>\n",
       "      <th>profile_name</th>\n",
       "      <th>firstname_lastname</th>\n",
       "      <th>description</th>\n",
       "      <th>following</th>\n",
       "      <th>followers</th>\n",
       "      <th>n_posts</th>\n",
       "      <th>url</th>\n",
       "      <th>cts</th>\n",
       "      <th>is_business_account</th>\n",
       "    </tr>\n",
       "  </thead>\n",
       "  <tbody>\n",
       "    <tr>\n",
       "      <th>2880218</th>\n",
       "      <td>336492</td>\n",
       "      <td>25025320.0</td>\n",
       "      <td>instagram</td>\n",
       "      <td>Instagram</td>\n",
       "      <td>Bringing you closer to the people and things y...</td>\n",
       "      <td>226.0</td>\n",
       "      <td>285457645.0</td>\n",
       "      <td>5760.0</td>\n",
       "      <td>help.instagram.com</td>\n",
       "      <td></td>\n",
       "      <td>False</td>\n",
       "    </tr>\n",
       "  </tbody>\n",
       "</table>\n",
       "</div>"
      ],
      "text/plain": [
       "            sid  profile_id profile_name firstname_lastname  \\\n",
       "2880218  336492  25025320.0    instagram          Instagram   \n",
       "\n",
       "                                               description  following  \\\n",
       "2880218  Bringing you closer to the people and things y...      226.0   \n",
       "\n",
       "           followers  n_posts                 url cts  is_business_account  \n",
       "2880218  285457645.0   5760.0  help.instagram.com                    False  "
      ]
     },
     "execution_count": 62,
     "metadata": {},
     "output_type": "execute_result"
    }
   ],
   "source": [
    "df_prof_sort.head(1)"
   ]
  },
  {
   "cell_type": "markdown",
   "id": "4e505ec2",
   "metadata": {},
   "source": [
    "The most influential user is the user with profile_id 25025320.0, profile name \"instagram\". It has 285457645.0 followers and 5760.0 number of posts. The account is not a business account."
   ]
  },
  {
   "cell_type": "markdown",
   "id": "6c0478a1",
   "metadata": {},
   "source": [
    "#### Have they posted anything with tagged locations? Extract the most frequent areas on their posts and plot the number of times each city has been visited."
   ]
  },
  {
   "cell_type": "code",
   "execution_count": 63,
   "id": "cb33dc89",
   "metadata": {},
   "outputs": [
    {
     "data": {
      "text/plain": [
       "[25025320.0,\n",
       " 3416684.0,\n",
       " 20824486.0,\n",
       " 187619120.0,\n",
       " 2125506698.0,\n",
       " 496865116.0,\n",
       " 23410080.0,\n",
       " 24239929.0,\n",
       " 50417061.0,\n",
       " 907025384.0]"
      ]
     },
     "execution_count": 63,
     "metadata": {},
     "output_type": "execute_result"
    }
   ],
   "source": [
    "# ids of top 10 most influential users \n",
    "ids = list(df_profiles_top10['profile_id'])\n",
    "ids"
   ]
  },
  {
   "cell_type": "code",
   "execution_count": 64,
   "id": "9ff804e4",
   "metadata": {},
   "outputs": [
    {
     "data": {
      "text/html": [
       "<div>\n",
       "<style scoped>\n",
       "    .dataframe tbody tr th:only-of-type {\n",
       "        vertical-align: middle;\n",
       "    }\n",
       "\n",
       "    .dataframe tbody tr th {\n",
       "        vertical-align: top;\n",
       "    }\n",
       "\n",
       "    .dataframe thead th {\n",
       "        text-align: right;\n",
       "    }\n",
       "</style>\n",
       "<table border=\"1\" class=\"dataframe\">\n",
       "  <thead>\n",
       "    <tr style=\"text-align: right;\">\n",
       "      <th></th>\n",
       "      <th>profile_id</th>\n",
       "      <th>location_id</th>\n",
       "    </tr>\n",
       "  </thead>\n",
       "  <tbody>\n",
       "    <tr>\n",
       "      <th>0</th>\n",
       "      <td>25025320.0</td>\n",
       "      <td>5.332856e+06</td>\n",
       "    </tr>\n",
       "    <tr>\n",
       "      <th>1</th>\n",
       "      <td>25025320.0</td>\n",
       "      <td>5.873874e+08</td>\n",
       "    </tr>\n",
       "    <tr>\n",
       "      <th>2</th>\n",
       "      <td>25025320.0</td>\n",
       "      <td>8.770667e+14</td>\n",
       "    </tr>\n",
       "    <tr>\n",
       "      <th>3</th>\n",
       "      <td>20824486.0</td>\n",
       "      <td>6.294880e+05</td>\n",
       "    </tr>\n",
       "    <tr>\n",
       "      <th>4</th>\n",
       "      <td>25025320.0</td>\n",
       "      <td>3.500213e+08</td>\n",
       "    </tr>\n",
       "    <tr>\n",
       "      <th>...</th>\n",
       "      <td>...</td>\n",
       "      <td>...</td>\n",
       "    </tr>\n",
       "    <tr>\n",
       "      <th>136</th>\n",
       "      <td>25025320.0</td>\n",
       "      <td>8.385239e+08</td>\n",
       "    </tr>\n",
       "    <tr>\n",
       "      <th>137</th>\n",
       "      <td>25025320.0</td>\n",
       "      <td>1.011689e+09</td>\n",
       "    </tr>\n",
       "    <tr>\n",
       "      <th>138</th>\n",
       "      <td>20824486.0</td>\n",
       "      <td>2.440213e+08</td>\n",
       "    </tr>\n",
       "    <tr>\n",
       "      <th>139</th>\n",
       "      <td>20824486.0</td>\n",
       "      <td>4.336041e+08</td>\n",
       "    </tr>\n",
       "    <tr>\n",
       "      <th>140</th>\n",
       "      <td>25025320.0</td>\n",
       "      <td>9.519563e+06</td>\n",
       "    </tr>\n",
       "  </tbody>\n",
       "</table>\n",
       "<p>141 rows × 2 columns</p>\n",
       "</div>"
      ],
      "text/plain": [
       "     profile_id   location_id\n",
       "0    25025320.0  5.332856e+06\n",
       "1    25025320.0  5.873874e+08\n",
       "2    25025320.0  8.770667e+14\n",
       "3    20824486.0  6.294880e+05\n",
       "4    25025320.0  3.500213e+08\n",
       "..          ...           ...\n",
       "136  25025320.0  8.385239e+08\n",
       "137  25025320.0  1.011689e+09\n",
       "138  20824486.0  2.440213e+08\n",
       "139  20824486.0  4.336041e+08\n",
       "140  25025320.0  9.519563e+06\n",
       "\n",
       "[141 rows x 2 columns]"
      ]
     },
     "execution_count": 64,
     "metadata": {},
     "output_type": "execute_result"
    }
   ],
   "source": [
    "# load the posts dataset only for the top 10 users\n",
    "df_10 = pd.DataFrame()\n",
    "\n",
    "chunksize = 10 ** 5\n",
    "\n",
    "#in each chunk, filter for the top 10 users and merge the chunks into one dataframe\n",
    "for chunk in pd.read_csv('instagram_posts.csv', delimiter=\"\\t\", usecols = ['profile_id','location_id'], low_memory = True, chunksize=chunksize):\n",
    "    df_filtered = chunk.loc[chunk['profile_id'].isin(ids)]\n",
    "    df_10 = pd.concat([df_10, df_filtered], ignore_index=True, )\n",
    "\n",
    "df_10"
   ]
  },
  {
   "cell_type": "markdown",
   "id": "f93c0504",
   "metadata": {},
   "source": [
    "**Have they posted anything with tagged locations?** Yes"
   ]
  },
  {
   "cell_type": "code",
   "execution_count": 65,
   "id": "caf1baab",
   "metadata": {},
   "outputs": [
    {
     "data": {
      "text/plain": [
       "36"
      ]
     },
     "execution_count": 65,
     "metadata": {},
     "output_type": "execute_result"
    }
   ],
   "source": [
    "# number of posts without location\n",
    "df_10[df_10['location_id'].isna()].shape[0]"
   ]
  },
  {
   "cell_type": "code",
   "execution_count": 66,
   "id": "107630ec",
   "metadata": {},
   "outputs": [
    {
     "data": {
      "text/plain": [
       "105"
      ]
     },
     "execution_count": 66,
     "metadata": {},
     "output_type": "execute_result"
    }
   ],
   "source": [
    "# number of posts with tagged location\n",
    "df_10[df_10['location_id'].notna()].shape[0]"
   ]
  },
  {
   "cell_type": "markdown",
   "id": "95b2765b",
   "metadata": {},
   "source": [
    "#### Extract the most frequent areas on their posts and plot the number of times each city has been visited."
   ]
  },
  {
   "cell_type": "code",
   "execution_count": 72,
   "id": "068190d7",
   "metadata": {},
   "outputs": [],
   "source": [
    "# drop the posts that do not have a tagged location\n",
    "df_10_1 = df_10[df_10['location_id'].notna()]"
   ]
  },
  {
   "cell_type": "code",
   "execution_count": 82,
   "id": "b4c979fb",
   "metadata": {},
   "outputs": [
    {
     "data": {
      "text/html": [
       "<div>\n",
       "<style scoped>\n",
       "    .dataframe tbody tr th:only-of-type {\n",
       "        vertical-align: middle;\n",
       "    }\n",
       "\n",
       "    .dataframe tbody tr th {\n",
       "        vertical-align: top;\n",
       "    }\n",
       "\n",
       "    .dataframe thead th {\n",
       "        text-align: right;\n",
       "    }\n",
       "</style>\n",
       "<table border=\"1\" class=\"dataframe\">\n",
       "  <thead>\n",
       "    <tr style=\"text-align: right;\">\n",
       "      <th></th>\n",
       "      <th>profile_id</th>\n",
       "      <th>location_id</th>\n",
       "      <th>sid</th>\n",
       "      <th>id</th>\n",
       "      <th>name</th>\n",
       "      <th>street</th>\n",
       "      <th>zip</th>\n",
       "      <th>city</th>\n",
       "      <th>region</th>\n",
       "      <th>cd</th>\n",
       "      <th>...</th>\n",
       "      <th>dir_city_name</th>\n",
       "      <th>dir_city_slug</th>\n",
       "      <th>dir_country_id</th>\n",
       "      <th>dir_country_name</th>\n",
       "      <th>lat</th>\n",
       "      <th>lng</th>\n",
       "      <th>primary_alias_on_fb</th>\n",
       "      <th>slug</th>\n",
       "      <th>website</th>\n",
       "      <th>cts</th>\n",
       "    </tr>\n",
       "  </thead>\n",
       "  <tbody>\n",
       "    <tr>\n",
       "      <th>0</th>\n",
       "      <td>25025320.0</td>\n",
       "      <td>5.332856e+06</td>\n",
       "      <td>762145</td>\n",
       "      <td>5332856</td>\n",
       "      <td>Rosa Parks Plaza</td>\n",
       "      <td>250 N Lamar St</td>\n",
       "      <td>75202</td>\n",
       "      <td>Dallas, Texas</td>\n",
       "      <td>NaN</td>\n",
       "      <td>US</td>\n",
       "      <td>...</td>\n",
       "      <td>Downtown Dallas</td>\n",
       "      <td>downtown-dallas</td>\n",
       "      <td>US</td>\n",
       "      <td>United States</td>\n",
       "      <td>-96.804370</td>\n",
       "      <td>32.780616</td>\n",
       "      <td>NaN</td>\n",
       "      <td>rosa-parks-plaza</td>\n",
       "      <td>NaN</td>\n",
       "      <td>2019-05-30 21:26:01.789</td>\n",
       "    </tr>\n",
       "    <tr>\n",
       "      <th>1</th>\n",
       "      <td>25025320.0</td>\n",
       "      <td>5.873874e+08</td>\n",
       "      <td>775485</td>\n",
       "      <td>587387369</td>\n",
       "      <td>Ethiopian Highlands</td>\n",
       "      <td>NaN</td>\n",
       "      <td>NaN</td>\n",
       "      <td>NaN</td>\n",
       "      <td>NaN</td>\n",
       "      <td>NaN</td>\n",
       "      <td>...</td>\n",
       "      <td>NaN</td>\n",
       "      <td>NaN</td>\n",
       "      <td>NaN</td>\n",
       "      <td>NaN</td>\n",
       "      <td>38.166667</td>\n",
       "      <td>10.000000</td>\n",
       "      <td>NaN</td>\n",
       "      <td>ethiopian-highlands</td>\n",
       "      <td>NaN</td>\n",
       "      <td>2019-05-31 11:22:21.183</td>\n",
       "    </tr>\n",
       "    <tr>\n",
       "      <th>2</th>\n",
       "      <td>25025320.0</td>\n",
       "      <td>8.770667e+14</td>\n",
       "      <td>804342</td>\n",
       "      <td>877066659067597</td>\n",
       "      <td>Machu Picchu</td>\n",
       "      <td>Machu Picchu</td>\n",
       "      <td>NaN</td>\n",
       "      <td>Cusco, Peru</td>\n",
       "      <td>NaN</td>\n",
       "      <td>PE</td>\n",
       "      <td>...</td>\n",
       "      <td>Mondor Pampa Aserradero</td>\n",
       "      <td>mondor-pampa-aserradero</td>\n",
       "      <td>PE</td>\n",
       "      <td>Peru</td>\n",
       "      <td>-72.545428</td>\n",
       "      <td>-13.164656</td>\n",
       "      <td>MachuPicchuWonderOfTheWorld</td>\n",
       "      <td>machu-picchu</td>\n",
       "      <td>NaN</td>\n",
       "      <td>2019-06-01 16:12:10.227</td>\n",
       "    </tr>\n",
       "    <tr>\n",
       "      <th>3</th>\n",
       "      <td>20824486.0</td>\n",
       "      <td>6.294880e+05</td>\n",
       "      <td>808150</td>\n",
       "      <td>629488</td>\n",
       "      <td>David Crombie Park</td>\n",
       "      <td>131 The Esplanade</td>\n",
       "      <td>M5A 4P5</td>\n",
       "      <td>Toronto, Ontario</td>\n",
       "      <td>NaN</td>\n",
       "      <td>CA</td>\n",
       "      <td>...</td>\n",
       "      <td>Saint Lawrence</td>\n",
       "      <td>saint-lawrence</td>\n",
       "      <td>CA</td>\n",
       "      <td>Canada</td>\n",
       "      <td>-79.368635</td>\n",
       "      <td>43.648486</td>\n",
       "      <td>NaN</td>\n",
       "      <td>david-crombie-park</td>\n",
       "      <td>http://www1.toronto.ca/parks/prd/facilities/co...</td>\n",
       "      <td>2019-06-01 19:46:51.479</td>\n",
       "    </tr>\n",
       "    <tr>\n",
       "      <th>4</th>\n",
       "      <td>25025320.0</td>\n",
       "      <td>3.500213e+08</td>\n",
       "      <td>838341</td>\n",
       "      <td>350021298</td>\n",
       "      <td>Parkland County</td>\n",
       "      <td>NaN</td>\n",
       "      <td>NaN</td>\n",
       "      <td>Stony Plain, Alberta</td>\n",
       "      <td>NaN</td>\n",
       "      <td>CA</td>\n",
       "      <td>...</td>\n",
       "      <td>NaN</td>\n",
       "      <td>NaN</td>\n",
       "      <td>NaN</td>\n",
       "      <td>NaN</td>\n",
       "      <td>-114.006000</td>\n",
       "      <td>53.530000</td>\n",
       "      <td>NaN</td>\n",
       "      <td>parkland-county</td>\n",
       "      <td>http://www.parklandcounty.com</td>\n",
       "      <td>2019-06-03 04:41:24.810</td>\n",
       "    </tr>\n",
       "  </tbody>\n",
       "</table>\n",
       "<p>5 rows × 25 columns</p>\n",
       "</div>"
      ],
      "text/plain": [
       "   profile_id   location_id     sid               id                 name  \\\n",
       "0  25025320.0  5.332856e+06  762145          5332856     Rosa Parks Plaza   \n",
       "1  25025320.0  5.873874e+08  775485        587387369  Ethiopian Highlands   \n",
       "2  25025320.0  8.770667e+14  804342  877066659067597         Machu Picchu   \n",
       "3  20824486.0  6.294880e+05  808150           629488   David Crombie Park   \n",
       "4  25025320.0  3.500213e+08  838341        350021298      Parkland County   \n",
       "\n",
       "              street      zip                  city region   cd  ...  \\\n",
       "0     250 N Lamar St    75202         Dallas, Texas    NaN   US  ...   \n",
       "1                NaN      NaN                   NaN    NaN  NaN  ...   \n",
       "2       Machu Picchu      NaN           Cusco, Peru    NaN   PE  ...   \n",
       "3  131 The Esplanade  M5A 4P5      Toronto, Ontario    NaN   CA  ...   \n",
       "4                NaN      NaN  Stony Plain, Alberta    NaN   CA  ...   \n",
       "\n",
       "             dir_city_name            dir_city_slug dir_country_id  \\\n",
       "0          Downtown Dallas          downtown-dallas             US   \n",
       "1                      NaN                      NaN            NaN   \n",
       "2  Mondor Pampa Aserradero  mondor-pampa-aserradero             PE   \n",
       "3           Saint Lawrence           saint-lawrence             CA   \n",
       "4                      NaN                      NaN            NaN   \n",
       "\n",
       "  dir_country_name         lat        lng          primary_alias_on_fb  \\\n",
       "0    United States  -96.804370  32.780616                          NaN   \n",
       "1              NaN   38.166667  10.000000                          NaN   \n",
       "2             Peru  -72.545428 -13.164656  MachuPicchuWonderOfTheWorld   \n",
       "3           Canada  -79.368635  43.648486                          NaN   \n",
       "4              NaN -114.006000  53.530000                          NaN   \n",
       "\n",
       "                  slug                                            website  \\\n",
       "0     rosa-parks-plaza                                                NaN   \n",
       "1  ethiopian-highlands                                                NaN   \n",
       "2         machu-picchu                                                NaN   \n",
       "3   david-crombie-park  http://www1.toronto.ca/parks/prd/facilities/co...   \n",
       "4      parkland-county                      http://www.parklandcounty.com   \n",
       "\n",
       "                       cts  \n",
       "0  2019-05-30 21:26:01.789  \n",
       "1  2019-05-31 11:22:21.183  \n",
       "2  2019-06-01 16:12:10.227  \n",
       "3  2019-06-01 19:46:51.479  \n",
       "4  2019-06-03 04:41:24.810  \n",
       "\n",
       "[5 rows x 25 columns]"
      ]
     },
     "execution_count": 82,
     "metadata": {},
     "output_type": "execute_result"
    }
   ],
   "source": [
    "# find the cities for each of the posts\n",
    "df_cities = df_10_1.merge(df_locations,left_on='location_id',right_on='id') \n",
    "df_cities.head()"
   ]
  },
  {
   "cell_type": "code",
   "execution_count": 84,
   "id": "b0d75c80",
   "metadata": {},
   "outputs": [],
   "source": [
    "# take only the columns we are interested in\n",
    "df_cities = df_cities[['profile_id','location_id','city']]"
   ]
  },
  {
   "cell_type": "code",
   "execution_count": 85,
   "id": "63014a69",
   "metadata": {
    "scrolled": true
   },
   "outputs": [
    {
     "data": {
      "text/html": [
       "<div>\n",
       "<style scoped>\n",
       "    .dataframe tbody tr th:only-of-type {\n",
       "        vertical-align: middle;\n",
       "    }\n",
       "\n",
       "    .dataframe tbody tr th {\n",
       "        vertical-align: top;\n",
       "    }\n",
       "\n",
       "    .dataframe thead th {\n",
       "        text-align: right;\n",
       "    }\n",
       "</style>\n",
       "<table border=\"1\" class=\"dataframe\">\n",
       "  <thead>\n",
       "    <tr style=\"text-align: right;\">\n",
       "      <th></th>\n",
       "      <th>city</th>\n",
       "      <th>count</th>\n",
       "    </tr>\n",
       "  </thead>\n",
       "  <tbody>\n",
       "    <tr>\n",
       "      <th>38</th>\n",
       "      <td>New York, New York</td>\n",
       "      <td>9</td>\n",
       "    </tr>\n",
       "    <tr>\n",
       "      <th>55</th>\n",
       "      <td>Sydney, Australia</td>\n",
       "      <td>9</td>\n",
       "    </tr>\n",
       "    <tr>\n",
       "      <th>34</th>\n",
       "      <td>Los Angeles, California</td>\n",
       "      <td>5</td>\n",
       "    </tr>\n",
       "    <tr>\n",
       "      <th>52</th>\n",
       "      <td>Singapore</td>\n",
       "      <td>4</td>\n",
       "    </tr>\n",
       "    <tr>\n",
       "      <th>21</th>\n",
       "      <td>Houston, Texas</td>\n",
       "      <td>3</td>\n",
       "    </tr>\n",
       "    <tr>\n",
       "      <th>...</th>\n",
       "      <td>...</td>\n",
       "      <td>...</td>\n",
       "    </tr>\n",
       "    <tr>\n",
       "      <th>26</th>\n",
       "      <td>Kowloon, Hong Kong</td>\n",
       "      <td>1</td>\n",
       "    </tr>\n",
       "    <tr>\n",
       "      <th>27</th>\n",
       "      <td>Krian, Jawa Timur, Indonesia</td>\n",
       "      <td>1</td>\n",
       "    </tr>\n",
       "    <tr>\n",
       "      <th>28</th>\n",
       "      <td>La Madrague, Alger, Algeria</td>\n",
       "      <td>1</td>\n",
       "    </tr>\n",
       "    <tr>\n",
       "      <th>30</th>\n",
       "      <td>Lodi, California</td>\n",
       "      <td>1</td>\n",
       "    </tr>\n",
       "    <tr>\n",
       "      <th>62</th>\n",
       "      <td>Xiandu, Zhejiang, China</td>\n",
       "      <td>1</td>\n",
       "    </tr>\n",
       "  </tbody>\n",
       "</table>\n",
       "<p>63 rows × 2 columns</p>\n",
       "</div>"
      ],
      "text/plain": [
       "                            city  count\n",
       "38            New York, New York      9\n",
       "55             Sydney, Australia      9\n",
       "34       Los Angeles, California      5\n",
       "52                     Singapore      4\n",
       "21                Houston, Texas      3\n",
       "..                           ...    ...\n",
       "26            Kowloon, Hong Kong      1\n",
       "27  Krian, Jawa Timur, Indonesia      1\n",
       "28   La Madrague, Alger, Algeria      1\n",
       "30              Lodi, California      1\n",
       "62       Xiandu, Zhejiang, China      1\n",
       "\n",
       "[63 rows x 2 columns]"
      ]
     },
     "execution_count": 85,
     "metadata": {},
     "output_type": "execute_result"
    }
   ],
   "source": [
    "# group the dataframe by the 'city' feature and count the number of observation (posts) each city has\n",
    "df_group = df_cities.groupby('city').agg(count=('profile_id', 'count')).reset_index()\n",
    "\n",
    "# sort the data by the number of times each city was tagged\n",
    "df_group = df_group.sort_values(by = 'count', ascending = False)\n",
    "df_group"
   ]
  },
  {
   "cell_type": "code",
   "execution_count": 86,
   "id": "fee93ca1",
   "metadata": {},
   "outputs": [
    {
     "data": {
      "text/html": [
       "<div>\n",
       "<style scoped>\n",
       "    .dataframe tbody tr th:only-of-type {\n",
       "        vertical-align: middle;\n",
       "    }\n",
       "\n",
       "    .dataframe tbody tr th {\n",
       "        vertical-align: top;\n",
       "    }\n",
       "\n",
       "    .dataframe thead th {\n",
       "        text-align: right;\n",
       "    }\n",
       "</style>\n",
       "<table border=\"1\" class=\"dataframe\">\n",
       "  <thead>\n",
       "    <tr style=\"text-align: right;\">\n",
       "      <th></th>\n",
       "      <th>city</th>\n",
       "      <th>count</th>\n",
       "    </tr>\n",
       "  </thead>\n",
       "  <tbody>\n",
       "    <tr>\n",
       "      <th>38</th>\n",
       "      <td>New York, New York</td>\n",
       "      <td>9</td>\n",
       "    </tr>\n",
       "    <tr>\n",
       "      <th>55</th>\n",
       "      <td>Sydney, Australia</td>\n",
       "      <td>9</td>\n",
       "    </tr>\n",
       "    <tr>\n",
       "      <th>34</th>\n",
       "      <td>Los Angeles, California</td>\n",
       "      <td>5</td>\n",
       "    </tr>\n",
       "    <tr>\n",
       "      <th>52</th>\n",
       "      <td>Singapore</td>\n",
       "      <td>4</td>\n",
       "    </tr>\n",
       "    <tr>\n",
       "      <th>21</th>\n",
       "      <td>Houston, Texas</td>\n",
       "      <td>3</td>\n",
       "    </tr>\n",
       "    <tr>\n",
       "      <th>24</th>\n",
       "      <td>Kobe-shi, Hyogo, Japan</td>\n",
       "      <td>3</td>\n",
       "    </tr>\n",
       "    <tr>\n",
       "      <th>32</th>\n",
       "      <td>London, United Kingdom</td>\n",
       "      <td>3</td>\n",
       "    </tr>\n",
       "    <tr>\n",
       "      <th>3</th>\n",
       "      <td>Amsterdam, Netherlands</td>\n",
       "      <td>3</td>\n",
       "    </tr>\n",
       "    <tr>\n",
       "      <th>59</th>\n",
       "      <td>Vaitape, French Polynesia</td>\n",
       "      <td>2</td>\n",
       "    </tr>\n",
       "    <tr>\n",
       "      <th>29</th>\n",
       "      <td>Las Vegas, Nevada</td>\n",
       "      <td>2</td>\n",
       "    </tr>\n",
       "    <tr>\n",
       "      <th>44</th>\n",
       "      <td>Philadelphia, Pennsylvania</td>\n",
       "      <td>2</td>\n",
       "    </tr>\n",
       "    <tr>\n",
       "      <th>51</th>\n",
       "      <td>Shanghai, China</td>\n",
       "      <td>2</td>\n",
       "    </tr>\n",
       "    <tr>\n",
       "      <th>43</th>\n",
       "      <td>Peñablanca, Cagayan</td>\n",
       "      <td>1</td>\n",
       "    </tr>\n",
       "    <tr>\n",
       "      <th>42</th>\n",
       "      <td>Parks, Arizona</td>\n",
       "      <td>1</td>\n",
       "    </tr>\n",
       "    <tr>\n",
       "      <th>0</th>\n",
       "      <td>Adelaide, South Australia</td>\n",
       "      <td>1</td>\n",
       "    </tr>\n",
       "  </tbody>\n",
       "</table>\n",
       "</div>"
      ],
      "text/plain": [
       "                          city  count\n",
       "38          New York, New York      9\n",
       "55           Sydney, Australia      9\n",
       "34     Los Angeles, California      5\n",
       "52                   Singapore      4\n",
       "21              Houston, Texas      3\n",
       "24      Kobe-shi, Hyogo, Japan      3\n",
       "32      London, United Kingdom      3\n",
       "3       Amsterdam, Netherlands      3\n",
       "59   Vaitape, French Polynesia      2\n",
       "29           Las Vegas, Nevada      2\n",
       "44  Philadelphia, Pennsylvania      2\n",
       "51             Shanghai, China      2\n",
       "43         Peñablanca, Cagayan      1\n",
       "42              Parks, Arizona      1\n",
       "0    Adelaide, South Australia      1"
      ]
     },
     "execution_count": 86,
     "metadata": {},
     "output_type": "execute_result"
    }
   ],
   "source": [
    "df_group.head(15)"
   ]
  },
  {
   "cell_type": "markdown",
   "id": "3e9dd4db",
   "metadata": {},
   "source": [
    "We can see that the most visited cities are Sydney, Australia and New York, New York with 9 posts tagged at each of those locations. \n",
    "\n",
    "Another popular destination is Los Angeles, California with 5 posts tagged there. Additionally, there are 4 posts tagged in Singapore.\n",
    "\n",
    "There are several locations with 3 posts each:\n",
    "- Kobe-shi, Hyogo, Japan\n",
    "- Houston, Texas\n",
    "- London, United Kingdom\n",
    "- Amsterdam, Netherlands\n",
    "\n",
    "The rest of the locations have either 2 or only 1 post that was tagged there."
   ]
  },
  {
   "cell_type": "markdown",
   "id": "77dd8c01",
   "metadata": {},
   "source": [
    "#### How many pictures-only posts have they published? How many reels? (only videos) and how many with both contents? Provide the number as percentages and interpret those figures."
   ]
  },
  {
   "cell_type": "code",
   "execution_count": 87,
   "id": "c831d6cc",
   "metadata": {},
   "outputs": [
    {
     "data": {
      "text/html": [
       "<div>\n",
       "<style scoped>\n",
       "    .dataframe tbody tr th:only-of-type {\n",
       "        vertical-align: middle;\n",
       "    }\n",
       "\n",
       "    .dataframe tbody tr th {\n",
       "        vertical-align: top;\n",
       "    }\n",
       "\n",
       "    .dataframe thead th {\n",
       "        text-align: right;\n",
       "    }\n",
       "</style>\n",
       "<table border=\"1\" class=\"dataframe\">\n",
       "  <thead>\n",
       "    <tr style=\"text-align: right;\">\n",
       "      <th></th>\n",
       "      <th>profile_id</th>\n",
       "      <th>post_type</th>\n",
       "      <th>numbr_likes</th>\n",
       "      <th>number_comments</th>\n",
       "    </tr>\n",
       "  </thead>\n",
       "  <tbody>\n",
       "    <tr>\n",
       "      <th>0</th>\n",
       "      <td>25025320.0</td>\n",
       "      <td>1</td>\n",
       "      <td>125428.0</td>\n",
       "      <td>1240.0</td>\n",
       "    </tr>\n",
       "    <tr>\n",
       "      <th>1</th>\n",
       "      <td>25025320.0</td>\n",
       "      <td>1</td>\n",
       "      <td>669786.0</td>\n",
       "      <td>4818.0</td>\n",
       "    </tr>\n",
       "    <tr>\n",
       "      <th>2</th>\n",
       "      <td>25025320.0</td>\n",
       "      <td>1</td>\n",
       "      <td>1914299.0</td>\n",
       "      <td>20065.0</td>\n",
       "    </tr>\n",
       "    <tr>\n",
       "      <th>3</th>\n",
       "      <td>20824486.0</td>\n",
       "      <td>1</td>\n",
       "      <td>164521.0</td>\n",
       "      <td>1415.0</td>\n",
       "    </tr>\n",
       "    <tr>\n",
       "      <th>4</th>\n",
       "      <td>25025320.0</td>\n",
       "      <td>1</td>\n",
       "      <td>840588.0</td>\n",
       "      <td>3627.0</td>\n",
       "    </tr>\n",
       "    <tr>\n",
       "      <th>...</th>\n",
       "      <td>...</td>\n",
       "      <td>...</td>\n",
       "      <td>...</td>\n",
       "      <td>...</td>\n",
       "    </tr>\n",
       "    <tr>\n",
       "      <th>136</th>\n",
       "      <td>25025320.0</td>\n",
       "      <td>1</td>\n",
       "      <td>1081084.0</td>\n",
       "      <td>12568.0</td>\n",
       "    </tr>\n",
       "    <tr>\n",
       "      <th>137</th>\n",
       "      <td>25025320.0</td>\n",
       "      <td>1</td>\n",
       "      <td>1083329.0</td>\n",
       "      <td>15154.0</td>\n",
       "    </tr>\n",
       "    <tr>\n",
       "      <th>138</th>\n",
       "      <td>20824486.0</td>\n",
       "      <td>1</td>\n",
       "      <td>106588.0</td>\n",
       "      <td>1475.0</td>\n",
       "    </tr>\n",
       "    <tr>\n",
       "      <th>139</th>\n",
       "      <td>20824486.0</td>\n",
       "      <td>2</td>\n",
       "      <td>157695.0</td>\n",
       "      <td>541.0</td>\n",
       "    </tr>\n",
       "    <tr>\n",
       "      <th>140</th>\n",
       "      <td>25025320.0</td>\n",
       "      <td>1</td>\n",
       "      <td>1285401.0</td>\n",
       "      <td>4590.0</td>\n",
       "    </tr>\n",
       "  </tbody>\n",
       "</table>\n",
       "<p>141 rows × 4 columns</p>\n",
       "</div>"
      ],
      "text/plain": [
       "     profile_id  post_type  numbr_likes  number_comments\n",
       "0    25025320.0          1     125428.0           1240.0\n",
       "1    25025320.0          1     669786.0           4818.0\n",
       "2    25025320.0          1    1914299.0          20065.0\n",
       "3    20824486.0          1     164521.0           1415.0\n",
       "4    25025320.0          1     840588.0           3627.0\n",
       "..          ...        ...          ...              ...\n",
       "136  25025320.0          1    1081084.0          12568.0\n",
       "137  25025320.0          1    1083329.0          15154.0\n",
       "138  20824486.0          1     106588.0           1475.0\n",
       "139  20824486.0          2     157695.0            541.0\n",
       "140  25025320.0          1    1285401.0           4590.0\n",
       "\n",
       "[141 rows x 4 columns]"
      ]
     },
     "execution_count": 87,
     "metadata": {},
     "output_type": "execute_result"
    }
   ],
   "source": [
    "# load the posts dataset only for the top 10 users with the post type, number of likes, and number of comments\n",
    "top_10_ids = pd.DataFrame()\n",
    "\n",
    "chunksize = 10 ** 5\n",
    "\n",
    "#in each chunk, filter for the top 10 users and merge the chunks into one dataframe\n",
    "for chunk in pd.read_csv('instagram_posts.csv', delimiter=\"\\t\", usecols = ['profile_id','post_type', 'numbr_likes', 'number_comments'], low_memory = True, chunksize=chunksize):\n",
    "    df_filtered = chunk.loc[chunk['profile_id'].isin(ids)]\n",
    "    top_10_ids = pd.concat([top_10_ids, df_filtered], ignore_index=True, )\n",
    "\n",
    "top_10_ids"
   ]
  },
  {
   "cell_type": "code",
   "execution_count": 88,
   "id": "7b296568",
   "metadata": {},
   "outputs": [
    {
     "data": {
      "text/plain": [
       "1    128\n",
       "2     13\n",
       "Name: post_type, dtype: int64"
      ]
     },
     "execution_count": 88,
     "metadata": {},
     "output_type": "execute_result"
    }
   ],
   "source": [
    "# number of posts from each type\n",
    "top_10_ids['post_type'].value_counts()"
   ]
  },
  {
   "cell_type": "code",
   "execution_count": 89,
   "id": "efea0c74",
   "metadata": {},
   "outputs": [
    {
     "data": {
      "text/plain": [
       "1    90.780142\n",
       "2     9.219858\n",
       "Name: post_type, dtype: float64"
      ]
     },
     "execution_count": 89,
     "metadata": {},
     "output_type": "execute_result"
    }
   ],
   "source": [
    "# percentages of posts of each type\n",
    "top_10_ids['post_type'].value_counts() / top_10_ids.shape[0] * 100"
   ]
  },
  {
   "cell_type": "markdown",
   "id": "cc44c2f2",
   "metadata": {},
   "source": [
    "We can see that the top 10 most influential users have posts that are only of type 1 (photo) and type 2 (video/reel). They have not posted any content that includes both photos and videos (type 3).\n",
    "\n",
    "Most of the posts (around 90%) are from type 1 and 9% are from type 2.\n",
    "\n",
    "Usually users post either a single/several photos in one post or post a reel. It is rare users to have posts that include both photos and videos."
   ]
  },
  {
   "cell_type": "markdown",
   "id": "46024e36",
   "metadata": {},
   "source": [
    "#### How many \"likes\" and comments did posts with only pictures receive? How about videos and mixed posts? Try to provide the average numbers and confront them with their followers amount, explaining what you can say from that comparison."
   ]
  },
  {
   "cell_type": "markdown",
   "id": "efa451a4",
   "metadata": {},
   "source": [
    "##### Analyzing the likes and comments for all 10 users together"
   ]
  },
  {
   "cell_type": "code",
   "execution_count": 90,
   "id": "50af337e",
   "metadata": {},
   "outputs": [
    {
     "name": "stdout",
     "output_type": "stream",
     "text": [
      "Average number of likes that posts with only photos have received:  541294.015625\n",
      "Average number of comments that posts with only photos have received:  3882.9140625\n"
     ]
    }
   ],
   "source": [
    "# posts of type 1 (photo)\n",
    "\n",
    "avg_likes_1 = top_10_ids[top_10_ids['post_type'] == 1]['numbr_likes'].mean()\n",
    "print(\"Average number of likes that posts with only photos have received: \", avg_likes_1)\n",
    "\n",
    "avg_comments_1 = top_10_ids[top_10_ids['post_type'] == 1]['number_comments'].mean()\n",
    "print(\"Average number of comments that posts with only photos have received: \", avg_comments_1)"
   ]
  },
  {
   "cell_type": "code",
   "execution_count": 91,
   "id": "8c601914",
   "metadata": {},
   "outputs": [
    {
     "name": "stdout",
     "output_type": "stream",
     "text": [
      "Average number of likes that posts with only photos have received:  266524.1538461539\n",
      "Average number of comments that posts with only photos have received:  2019.8461538461538\n"
     ]
    }
   ],
   "source": [
    "# posts of type 2 (video/reel)\n",
    "\n",
    "avg_likes_2 = top_10_ids[top_10_ids['post_type'] == 2]['numbr_likes'].mean()\n",
    "print(\"Average number of likes that posts with only photos have received: \", avg_likes_2)\n",
    "\n",
    "avg_comments_2 = top_10_ids[top_10_ids['post_type'] == 2]['number_comments'].mean()\n",
    "print(\"Average number of comments that posts with only photos have received: \", avg_comments_2)"
   ]
  },
  {
   "cell_type": "code",
   "execution_count": 92,
   "id": "fdef15f3",
   "metadata": {},
   "outputs": [
    {
     "data": {
      "text/html": [
       "<div>\n",
       "<style scoped>\n",
       "    .dataframe tbody tr th:only-of-type {\n",
       "        vertical-align: middle;\n",
       "    }\n",
       "\n",
       "    .dataframe tbody tr th {\n",
       "        vertical-align: top;\n",
       "    }\n",
       "\n",
       "    .dataframe thead th {\n",
       "        text-align: right;\n",
       "    }\n",
       "</style>\n",
       "<table border=\"1\" class=\"dataframe\">\n",
       "  <thead>\n",
       "    <tr style=\"text-align: right;\">\n",
       "      <th></th>\n",
       "      <th>profile_id</th>\n",
       "      <th>followers</th>\n",
       "      <th>n_posts</th>\n",
       "    </tr>\n",
       "  </thead>\n",
       "  <tbody>\n",
       "    <tr>\n",
       "      <th>2880218</th>\n",
       "      <td>2.502532e+07</td>\n",
       "      <td>285457645.0</td>\n",
       "      <td>5760.0</td>\n",
       "    </tr>\n",
       "    <tr>\n",
       "      <th>2582507</th>\n",
       "      <td>3.416684e+06</td>\n",
       "      <td>65269440.0</td>\n",
       "      <td>7355.0</td>\n",
       "    </tr>\n",
       "    <tr>\n",
       "      <th>3820939</th>\n",
       "      <td>2.082449e+07</td>\n",
       "      <td>35339708.0</td>\n",
       "      <td>28816.0</td>\n",
       "    </tr>\n",
       "    <tr>\n",
       "      <th>701965</th>\n",
       "      <td>1.876191e+08</td>\n",
       "      <td>30689316.0</td>\n",
       "      <td>3352.0</td>\n",
       "    </tr>\n",
       "    <tr>\n",
       "      <th>2414951</th>\n",
       "      <td>2.125507e+09</td>\n",
       "      <td>30246783.0</td>\n",
       "      <td>2791.0</td>\n",
       "    </tr>\n",
       "    <tr>\n",
       "      <th>2785241</th>\n",
       "      <td>4.968651e+08</td>\n",
       "      <td>29542143.0</td>\n",
       "      <td>990.0</td>\n",
       "    </tr>\n",
       "    <tr>\n",
       "      <th>333193</th>\n",
       "      <td>2.341008e+07</td>\n",
       "      <td>29176804.0</td>\n",
       "      <td>4566.0</td>\n",
       "    </tr>\n",
       "    <tr>\n",
       "      <th>3934581</th>\n",
       "      <td>2.423993e+07</td>\n",
       "      <td>29042823.0</td>\n",
       "      <td>4719.0</td>\n",
       "    </tr>\n",
       "    <tr>\n",
       "      <th>1311970</th>\n",
       "      <td>5.041706e+07</td>\n",
       "      <td>26476004.0</td>\n",
       "      <td>1311.0</td>\n",
       "    </tr>\n",
       "    <tr>\n",
       "      <th>1703764</th>\n",
       "      <td>9.070254e+08</td>\n",
       "      <td>26252169.0</td>\n",
       "      <td>1173.0</td>\n",
       "    </tr>\n",
       "  </tbody>\n",
       "</table>\n",
       "</div>"
      ],
      "text/plain": [
       "           profile_id    followers  n_posts\n",
       "2880218  2.502532e+07  285457645.0   5760.0\n",
       "2582507  3.416684e+06   65269440.0   7355.0\n",
       "3820939  2.082449e+07   35339708.0  28816.0\n",
       "701965   1.876191e+08   30689316.0   3352.0\n",
       "2414951  2.125507e+09   30246783.0   2791.0\n",
       "2785241  4.968651e+08   29542143.0    990.0\n",
       "333193   2.341008e+07   29176804.0   4566.0\n",
       "3934581  2.423993e+07   29042823.0   4719.0\n",
       "1311970  5.041706e+07   26476004.0   1311.0\n",
       "1703764  9.070254e+08   26252169.0   1173.0"
      ]
     },
     "execution_count": 92,
     "metadata": {},
     "output_type": "execute_result"
    }
   ],
   "source": [
    "# top 10 most influential users\n",
    "df_profiles_top10"
   ]
  },
  {
   "cell_type": "markdown",
   "id": "a6281904",
   "metadata": {},
   "source": [
    "By looking at the table above and the average number of likes and average number of comments for the posts, we can see that those 10 users have a lot more followers than the average number of likes or comments to their posts.\n",
    "\n",
    "Each of those 10 users have between 25 million and 285 million followers."
   ]
  },
  {
   "cell_type": "markdown",
   "id": "86de0770",
   "metadata": {},
   "source": [
    "***Picture-only posts***\n",
    "\n",
    "We saw that most of the posts that the top 10 most influential users have posted are of type 1 (90% of the posts). The average number of likes of picture-only posts however is only 541,294 which is much lower than the number of followers each user has.\n",
    "\n",
    "The average number of comments for the picture-only posts is even lower -- 3,882 number of comments."
   ]
  },
  {
   "cell_type": "markdown",
   "id": "ead9b850",
   "metadata": {},
   "source": [
    "***Videos-only posts***\n",
    "\n",
    "The average number of likes of videos-only posts is 266,524 which is again a lot lower than the number of followers each of those 10 users has.\n",
    "\n",
    "The average number of comments for the videos-only posts is even lower -- 2,019 number of comments."
   ]
  },
  {
   "cell_type": "markdown",
   "id": "7c821bad",
   "metadata": {},
   "source": [
    "##### Analyzing the likes and comments individually for each of the top 10 users"
   ]
  },
  {
   "cell_type": "code",
   "execution_count": 93,
   "id": "c898a0e1",
   "metadata": {},
   "outputs": [],
   "source": [
    "from tqdm import tqdm\n",
    "from numpy import zeros"
   ]
  },
  {
   "cell_type": "code",
   "execution_count": 94,
   "id": "b3708b5a",
   "metadata": {},
   "outputs": [],
   "source": [
    "likesphoto = zeros(10,dtype=int)\n",
    "likesvideo = zeros(10,dtype=int)\n",
    "likespv = zeros(10,dtype=int)\n",
    "\n",
    "commphoto = zeros(10,dtype=int)\n",
    "commvideo = zeros(10,dtype=int)\n",
    "commpv = zeros(10,dtype=int)\n",
    "\n",
    "num11 = zeros(10,dtype=int)\n",
    "num12 = zeros(10,dtype=int)\n",
    "num21 = zeros(10,dtype=int)\n",
    "num22 = zeros(10,dtype=int)\n",
    "num31 = zeros(10,dtype=int)\n",
    "num32 = zeros(10,dtype=int)"
   ]
  },
  {
   "cell_type": "code",
   "execution_count": 95,
   "id": "bdb2c1c7",
   "metadata": {},
   "outputs": [
    {
     "name": "stderr",
     "output_type": "stream",
     "text": [
      "214it [01:28,  2.41it/s]\n"
     ]
    }
   ],
   "source": [
    "for chunk in tqdm(pd.read_csv('instagram_posts.csv', delimiter='\\t', low_memory=True, usecols=['profile_id','post_type','numbr_likes','number_comments'],chunksize=200000)):\n",
    "    j=0\n",
    "    \n",
    "    # count for each first\n",
    "    for i in ids:\n",
    "        a = chunk[(chunk['profile_id']==i)]\n",
    "        \n",
    "        #number of comments and likes of posts type 1 - photo\n",
    "        a1 = a[a['post_type']==1]\n",
    "        a11 = a1[a1['numbr_likes'].notna()]\n",
    "        a12 = a1[a1['number_comments'].notna()]\n",
    "        \n",
    "        likesphoto[j] += sum(a11['numbr_likes'])\n",
    "        commphoto[j] += sum(a12['number_comments'])\n",
    "        num11[j] += len(a11)\n",
    "        num12[j] += len(a12)\n",
    "        \n",
    "        #number of comments and likes of posts type 2 - video\n",
    "        a2 = a[a['post_type']==2]\n",
    "        a21 = a2[a2['numbr_likes'].notna()]\n",
    "        a22 = a2[a2['number_comments'].notna()]\n",
    "        \n",
    "        likesvideo[j] += sum(a21['numbr_likes'])\n",
    "        commvideo[j] += sum(a22['number_comments'])\n",
    "        num21[j] += len(a21)\n",
    "        num22[j] += len(a22)\n",
    "        \n",
    "        #number of comments and likes of posts type 3 - videophoto\n",
    "        a3 = a[a['post_type']==3]\n",
    "        a31 = a3[a3['numbr_likes'].notna()]\n",
    "        a32 = a3[a3['number_comments'].notna()]\n",
    "        \n",
    "        likespv[j] += sum(a31['numbr_likes'])\n",
    "        commpv[j] += sum(a32['number_comments'])\n",
    "        num31[j] += len(a31)\n",
    "        num32[j] += len(a32)\n",
    "        \n",
    "        j += 1\n",
    "     \n",
    "        "
   ]
  },
  {
   "cell_type": "code",
   "execution_count": 96,
   "id": "36f78979",
   "metadata": {},
   "outputs": [],
   "source": [
    "datalikcom = {'profile_id': ids, 'numphoto':num11, 'numvideo':num21, 'numpv':num31, 'likesphoto':likesphoto, 'likesvideo':likesvideo, 'likespv':likespv, 'comphoto':commphoto, 'comvideo':commvideo, 'compv':commpv}"
   ]
  },
  {
   "cell_type": "code",
   "execution_count": 97,
   "id": "611bb69e",
   "metadata": {},
   "outputs": [],
   "source": [
    "df_lc = pd.DataFrame(data=datalikcom)"
   ]
  },
  {
   "cell_type": "markdown",
   "id": "63fba173",
   "metadata": {},
   "source": [
    "Dataframe with all the info about the top 10 users"
   ]
  },
  {
   "cell_type": "code",
   "execution_count": 98,
   "id": "ec0f2a4c",
   "metadata": {},
   "outputs": [],
   "source": [
    "df_lcf = df_lc.merge(df_profiles_top10, left_on='profile_id', right_on='profile_id')"
   ]
  },
  {
   "cell_type": "code",
   "execution_count": 99,
   "id": "c576348e",
   "metadata": {},
   "outputs": [
    {
     "data": {
      "text/html": [
       "<div>\n",
       "<style scoped>\n",
       "    .dataframe tbody tr th:only-of-type {\n",
       "        vertical-align: middle;\n",
       "    }\n",
       "\n",
       "    .dataframe tbody tr th {\n",
       "        vertical-align: top;\n",
       "    }\n",
       "\n",
       "    .dataframe thead th {\n",
       "        text-align: right;\n",
       "    }\n",
       "</style>\n",
       "<table border=\"1\" class=\"dataframe\">\n",
       "  <thead>\n",
       "    <tr style=\"text-align: right;\">\n",
       "      <th></th>\n",
       "      <th>profile_id</th>\n",
       "      <th>numphoto</th>\n",
       "      <th>numvideo</th>\n",
       "      <th>numpv</th>\n",
       "      <th>likesphoto</th>\n",
       "      <th>likesvideo</th>\n",
       "      <th>likespv</th>\n",
       "      <th>comphoto</th>\n",
       "      <th>comvideo</th>\n",
       "      <th>compv</th>\n",
       "      <th>followers</th>\n",
       "      <th>n_posts</th>\n",
       "    </tr>\n",
       "  </thead>\n",
       "  <tbody>\n",
       "    <tr>\n",
       "      <th>0</th>\n",
       "      <td>2.502532e+07</td>\n",
       "      <td>31</td>\n",
       "      <td>3</td>\n",
       "      <td>0</td>\n",
       "      <td>28083937</td>\n",
       "      <td>1780229</td>\n",
       "      <td>0</td>\n",
       "      <td>207802</td>\n",
       "      <td>17248</td>\n",
       "      <td>0</td>\n",
       "      <td>285457645.0</td>\n",
       "      <td>5760.0</td>\n",
       "    </tr>\n",
       "    <tr>\n",
       "      <th>1</th>\n",
       "      <td>3.416684e+06</td>\n",
       "      <td>5</td>\n",
       "      <td>2</td>\n",
       "      <td>0</td>\n",
       "      <td>1153749</td>\n",
       "      <td>522816</td>\n",
       "      <td>0</td>\n",
       "      <td>2192</td>\n",
       "      <td>1166</td>\n",
       "      <td>0</td>\n",
       "      <td>65269440.0</td>\n",
       "      <td>7355.0</td>\n",
       "    </tr>\n",
       "    <tr>\n",
       "      <th>2</th>\n",
       "      <td>2.082449e+07</td>\n",
       "      <td>13</td>\n",
       "      <td>5</td>\n",
       "      <td>0</td>\n",
       "      <td>3149064</td>\n",
       "      <td>1036478</td>\n",
       "      <td>0</td>\n",
       "      <td>14142</td>\n",
       "      <td>5134</td>\n",
       "      <td>0</td>\n",
       "      <td>35339708.0</td>\n",
       "      <td>28816.0</td>\n",
       "    </tr>\n",
       "    <tr>\n",
       "      <th>3</th>\n",
       "      <td>1.876191e+08</td>\n",
       "      <td>1</td>\n",
       "      <td>0</td>\n",
       "      <td>0</td>\n",
       "      <td>186857</td>\n",
       "      <td>0</td>\n",
       "      <td>0</td>\n",
       "      <td>867</td>\n",
       "      <td>0</td>\n",
       "      <td>0</td>\n",
       "      <td>30689316.0</td>\n",
       "      <td>3352.0</td>\n",
       "    </tr>\n",
       "    <tr>\n",
       "      <th>4</th>\n",
       "      <td>2.125507e+09</td>\n",
       "      <td>13</td>\n",
       "      <td>0</td>\n",
       "      <td>0</td>\n",
       "      <td>1311218</td>\n",
       "      <td>0</td>\n",
       "      <td>0</td>\n",
       "      <td>12521</td>\n",
       "      <td>0</td>\n",
       "      <td>0</td>\n",
       "      <td>30246783.0</td>\n",
       "      <td>2791.0</td>\n",
       "    </tr>\n",
       "    <tr>\n",
       "      <th>5</th>\n",
       "      <td>4.968651e+08</td>\n",
       "      <td>12</td>\n",
       "      <td>0</td>\n",
       "      <td>0</td>\n",
       "      <td>5676272</td>\n",
       "      <td>0</td>\n",
       "      <td>0</td>\n",
       "      <td>26845</td>\n",
       "      <td>0</td>\n",
       "      <td>0</td>\n",
       "      <td>29542143.0</td>\n",
       "      <td>990.0</td>\n",
       "    </tr>\n",
       "    <tr>\n",
       "      <th>6</th>\n",
       "      <td>2.341008e+07</td>\n",
       "      <td>2</td>\n",
       "      <td>0</td>\n",
       "      <td>0</td>\n",
       "      <td>162427</td>\n",
       "      <td>0</td>\n",
       "      <td>0</td>\n",
       "      <td>730</td>\n",
       "      <td>0</td>\n",
       "      <td>0</td>\n",
       "      <td>29176804.0</td>\n",
       "      <td>4566.0</td>\n",
       "    </tr>\n",
       "    <tr>\n",
       "      <th>7</th>\n",
       "      <td>2.423993e+07</td>\n",
       "      <td>23</td>\n",
       "      <td>3</td>\n",
       "      <td>0</td>\n",
       "      <td>3263087</td>\n",
       "      <td>125291</td>\n",
       "      <td>0</td>\n",
       "      <td>17421</td>\n",
       "      <td>2710</td>\n",
       "      <td>0</td>\n",
       "      <td>29042823.0</td>\n",
       "      <td>4719.0</td>\n",
       "    </tr>\n",
       "    <tr>\n",
       "      <th>8</th>\n",
       "      <td>5.041706e+07</td>\n",
       "      <td>15</td>\n",
       "      <td>0</td>\n",
       "      <td>0</td>\n",
       "      <td>12946699</td>\n",
       "      <td>0</td>\n",
       "      <td>0</td>\n",
       "      <td>128921</td>\n",
       "      <td>0</td>\n",
       "      <td>0</td>\n",
       "      <td>26476004.0</td>\n",
       "      <td>1311.0</td>\n",
       "    </tr>\n",
       "    <tr>\n",
       "      <th>9</th>\n",
       "      <td>9.070254e+08</td>\n",
       "      <td>13</td>\n",
       "      <td>0</td>\n",
       "      <td>0</td>\n",
       "      <td>13352324</td>\n",
       "      <td>0</td>\n",
       "      <td>0</td>\n",
       "      <td>85572</td>\n",
       "      <td>0</td>\n",
       "      <td>0</td>\n",
       "      <td>26252169.0</td>\n",
       "      <td>1173.0</td>\n",
       "    </tr>\n",
       "  </tbody>\n",
       "</table>\n",
       "</div>"
      ],
      "text/plain": [
       "     profile_id  numphoto  numvideo  numpv  likesphoto  likesvideo  likespv  \\\n",
       "0  2.502532e+07        31         3      0    28083937     1780229        0   \n",
       "1  3.416684e+06         5         2      0     1153749      522816        0   \n",
       "2  2.082449e+07        13         5      0     3149064     1036478        0   \n",
       "3  1.876191e+08         1         0      0      186857           0        0   \n",
       "4  2.125507e+09        13         0      0     1311218           0        0   \n",
       "5  4.968651e+08        12         0      0     5676272           0        0   \n",
       "6  2.341008e+07         2         0      0      162427           0        0   \n",
       "7  2.423993e+07        23         3      0     3263087      125291        0   \n",
       "8  5.041706e+07        15         0      0    12946699           0        0   \n",
       "9  9.070254e+08        13         0      0    13352324           0        0   \n",
       "\n",
       "   comphoto  comvideo  compv    followers  n_posts  \n",
       "0    207802     17248      0  285457645.0   5760.0  \n",
       "1      2192      1166      0   65269440.0   7355.0  \n",
       "2     14142      5134      0   35339708.0  28816.0  \n",
       "3       867         0      0   30689316.0   3352.0  \n",
       "4     12521         0      0   30246783.0   2791.0  \n",
       "5     26845         0      0   29542143.0    990.0  \n",
       "6       730         0      0   29176804.0   4566.0  \n",
       "7     17421      2710      0   29042823.0   4719.0  \n",
       "8    128921         0      0   26476004.0   1311.0  \n",
       "9     85572         0      0   26252169.0   1173.0  "
      ]
     },
     "execution_count": 99,
     "metadata": {},
     "output_type": "execute_result"
    }
   ],
   "source": [
    "df_lcf"
   ]
  },
  {
   "cell_type": "code",
   "execution_count": 100,
   "id": "fcfab739",
   "metadata": {},
   "outputs": [
    {
     "data": {
      "text/plain": [
       "<AxesSubplot:xlabel='profile_id'>"
      ]
     },
     "execution_count": 100,
     "metadata": {},
     "output_type": "execute_result"
    },
    {
     "data": {
      "image/png": "[encoded data removed]",
      "text/plain": [
       "<Figure size 1080x504 with 1 Axes>"
      ]
     },
     "metadata": {},
     "output_type": "display_data"
    }
   ],
   "source": [
    "sns.set(rc={'figure.figsize':(15,7)})\n",
    "\n",
    "sns.barplot(data=df_lcf, x='profile_id',y=(df_lcf['likesphoto']/df_lcf['numphoto'])/df_lcf['followers'], order=df_lcf['profile_id'])"
   ]
  },
  {
   "cell_type": "code",
   "execution_count": 101,
   "id": "a0e7a28a",
   "metadata": {},
   "outputs": [
    {
     "data": {
      "text/plain": [
       "<AxesSubplot:xlabel='profile_id'>"
      ]
     },
     "execution_count": 101,
     "metadata": {},
     "output_type": "execute_result"
    },
    {
     "data": {
      "image/png": "[encoded data removed]",
      "text/plain": [
       "<Figure size 1080x504 with 1 Axes>"
      ]
     },
     "metadata": {},
     "output_type": "display_data"
    }
   ],
   "source": [
    "sns.set(rc={'figure.figsize':(15,7)})\n",
    "\n",
    "sns.barplot(data=df_lcf, x='profile_id',y=(df_lcf['likesvideo']/df_lcf['numvideo'])/df_lcf['followers'], order=df_lcf['profile_id'])\n"
   ]
  },
  {
   "cell_type": "markdown",
   "id": "507ceab1",
   "metadata": {},
   "source": [
    "We can see that the percentage of the average #likes with respect to the #followers is too small."
   ]
  },
  {
   "cell_type": "code",
   "execution_count": null,
   "id": "8b643d0a",
   "metadata": {},
   "outputs": [],
   "source": []
  },
  {
   "cell_type": "markdown",
   "id": "d660cd81",
   "metadata": {},
   "source": [
    "### RQ6\n",
    "\n",
    "#### What is the average time (days and minutes) a user lets pass before publishing another post? Plot the top 3 users that publish posts more frequently (calculate the average time that passes between posts), including their amount of followers and following. Provide insights from that chart."
   ]
  },
  {
   "cell_type": "code",
   "execution_count": 102,
   "id": "ad264112",
   "metadata": {},
   "outputs": [],
   "source": [
    "pd.options.display.float_format = '{:.0f}'.format"
   ]
  },
  {
   "cell_type": "code",
   "execution_count": 103,
   "id": "c950d5f9",
   "metadata": {},
   "outputs": [],
   "source": [
    "#df_locations = pd.read_csv('instagram_locations.csv', delimiter = '\\t')"
   ]
  },
  {
   "cell_type": "code",
   "execution_count": 104,
   "id": "43b15b69",
   "metadata": {},
   "outputs": [],
   "source": [
    "#df_profiles = pd.read_csv('instagram_profiles.csv', delimiter = '\\t')"
   ]
  },
  {
   "cell_type": "code",
   "execution_count": 105,
   "id": "40a299d5",
   "metadata": {},
   "outputs": [],
   "source": [
    "unique_profiles = df_profiles['profile_id'].unique()"
   ]
  },
  {
   "cell_type": "code",
   "execution_count": 106,
   "id": "107278b4",
   "metadata": {},
   "outputs": [],
   "source": [
    "# all profile ids with their followers and following\n",
    "profiles_FF = df_profiles[['profile_id','followers','following']]"
   ]
  },
  {
   "cell_type": "code",
   "execution_count": null,
   "id": "212b4041",
   "metadata": {},
   "outputs": [],
   "source": []
  },
  {
   "cell_type": "code",
   "execution_count": 107,
   "id": "d503c482",
   "metadata": {},
   "outputs": [],
   "source": [
    "# for each post take the profile id and the time\n",
    "df_prof_times = pd.read_csv('instagram_posts.csv', delimiter=\"\\t\", usecols = ['profile_id','cts'], low_memory = True)"
   ]
  },
  {
   "cell_type": "code",
   "execution_count": 108,
   "id": "407bdd38",
   "metadata": {},
   "outputs": [],
   "source": [
    "# convert 'cts' to a Datetime format\n",
    "df_prof_times.cts = pd.to_datetime(df_prof_times.cts)"
   ]
  },
  {
   "cell_type": "markdown",
   "id": "98a8dd23",
   "metadata": {},
   "source": [
    "##### What is the average time (days and minutes) a user lets pass before publishing another post? "
   ]
  },
  {
   "cell_type": "code",
   "execution_count": 109,
   "id": "e7bde5a7",
   "metadata": {},
   "outputs": [],
   "source": [
    "# group by the profile id and calculate the number of posts each profile has, \n",
    "# the min and the max of the feature 'cts' for each profile\n",
    "\n",
    "df_summ = df_prof_times.groupby('profile_id').agg({'cts': ['count', 'min', 'max']})"
   ]
  },
  {
   "cell_type": "code",
   "execution_count": 110,
   "id": "135d96c1",
   "metadata": {},
   "outputs": [
    {
     "data": {
      "text/html": [
       "<div>\n",
       "<style scoped>\n",
       "    .dataframe tbody tr th:only-of-type {\n",
       "        vertical-align: middle;\n",
       "    }\n",
       "\n",
       "    .dataframe tbody tr th {\n",
       "        vertical-align: top;\n",
       "    }\n",
       "\n",
       "    .dataframe thead tr th {\n",
       "        text-align: left;\n",
       "    }\n",
       "\n",
       "    .dataframe thead tr:last-of-type th {\n",
       "        text-align: right;\n",
       "    }\n",
       "</style>\n",
       "<table border=\"1\" class=\"dataframe\">\n",
       "  <thead>\n",
       "    <tr>\n",
       "      <th></th>\n",
       "      <th colspan=\"3\" halign=\"left\">cts</th>\n",
       "    </tr>\n",
       "    <tr>\n",
       "      <th></th>\n",
       "      <th>count</th>\n",
       "      <th>min</th>\n",
       "      <th>max</th>\n",
       "    </tr>\n",
       "    <tr>\n",
       "      <th>profile_id</th>\n",
       "      <th></th>\n",
       "      <th></th>\n",
       "      <th></th>\n",
       "    </tr>\n",
       "  </thead>\n",
       "  <tbody>\n",
       "    <tr>\n",
       "      <th>3</th>\n",
       "      <td>14</td>\n",
       "      <td>2010-07-19 01:12:23</td>\n",
       "      <td>2013-02-02 22:02:59</td>\n",
       "    </tr>\n",
       "    <tr>\n",
       "      <th>4</th>\n",
       "      <td>37</td>\n",
       "      <td>2010-07-22 12:19:51</td>\n",
       "      <td>2019-05-05 08:03:36</td>\n",
       "    </tr>\n",
       "    <tr>\n",
       "      <th>11</th>\n",
       "      <td>2</td>\n",
       "      <td>2019-04-18 23:21:22</td>\n",
       "      <td>2019-04-25 06:50:14</td>\n",
       "    </tr>\n",
       "    <tr>\n",
       "      <th>12</th>\n",
       "      <td>1</td>\n",
       "      <td>2016-10-16 05:45:18</td>\n",
       "      <td>2016-10-16 05:45:18</td>\n",
       "    </tr>\n",
       "    <tr>\n",
       "      <th>14</th>\n",
       "      <td>1</td>\n",
       "      <td>2015-09-19 17:20:15</td>\n",
       "      <td>2015-09-19 17:20:15</td>\n",
       "    </tr>\n",
       "  </tbody>\n",
       "</table>\n",
       "</div>"
      ],
      "text/plain": [
       "             cts                                        \n",
       "           count                 min                 max\n",
       "profile_id                                              \n",
       "3             14 2010-07-19 01:12:23 2013-02-02 22:02:59\n",
       "4             37 2010-07-22 12:19:51 2019-05-05 08:03:36\n",
       "11             2 2019-04-18 23:21:22 2019-04-25 06:50:14\n",
       "12             1 2016-10-16 05:45:18 2016-10-16 05:45:18\n",
       "14             1 2015-09-19 17:20:15 2015-09-19 17:20:15"
      ]
     },
     "execution_count": 110,
     "metadata": {},
     "output_type": "execute_result"
    }
   ],
   "source": [
    "df_summ.head()"
   ]
  },
  {
   "cell_type": "code",
   "execution_count": 111,
   "id": "9570a6a1",
   "metadata": {},
   "outputs": [],
   "source": [
    "# remove the users that have only 1 post (we should not consider them because we cannot calculate \n",
    "# average time difference between posts given that they have only 1 post)\n",
    "df_summ_1 = df_summ[df_summ['cts']['count'] != 1]"
   ]
  },
  {
   "cell_type": "code",
   "execution_count": 112,
   "id": "014a3742",
   "metadata": {},
   "outputs": [
    {
     "name": "stderr",
     "output_type": "stream",
     "text": [
      "C:\\Users\\yoann\\AppData\\Local\\Temp\\ipykernel_10880\\3268939585.py:2: SettingWithCopyWarning: \n",
      "A value is trying to be set on a copy of a slice from a DataFrame.\n",
      "Try using .loc[row_indexer,col_indexer] = value instead\n",
      "\n",
      "See the caveats in the documentation: https://pandas.pydata.org/pandas-docs/stable/user_guide/indexing.html#returning-a-view-versus-a-copy\n",
      "  df_summ_1['avg_time_diff'] = (df_summ_1['cts']['max'] - df_summ_1['cts']['min']) / (df_summ_1['cts']['count'] - 1)\n"
     ]
    }
   ],
   "source": [
    "# calculate the average time difference between posts for each user and put the results in a new column\n",
    "df_summ_1['avg_time_diff'] = (df_summ_1['cts']['max'] - df_summ_1['cts']['min']) / (df_summ_1['cts']['count'] - 1)"
   ]
  },
  {
   "cell_type": "code",
   "execution_count": 113,
   "id": "495a46ba",
   "metadata": {},
   "outputs": [
    {
     "data": {
      "text/html": [
       "<div>\n",
       "<style scoped>\n",
       "    .dataframe tbody tr th:only-of-type {\n",
       "        vertical-align: middle;\n",
       "    }\n",
       "\n",
       "    .dataframe tbody tr th {\n",
       "        vertical-align: top;\n",
       "    }\n",
       "\n",
       "    .dataframe thead tr th {\n",
       "        text-align: left;\n",
       "    }\n",
       "\n",
       "    .dataframe thead tr:last-of-type th {\n",
       "        text-align: right;\n",
       "    }\n",
       "</style>\n",
       "<table border=\"1\" class=\"dataframe\">\n",
       "  <thead>\n",
       "    <tr>\n",
       "      <th></th>\n",
       "      <th colspan=\"3\" halign=\"left\">cts</th>\n",
       "      <th>avg_time_diff</th>\n",
       "    </tr>\n",
       "    <tr>\n",
       "      <th></th>\n",
       "      <th>count</th>\n",
       "      <th>min</th>\n",
       "      <th>max</th>\n",
       "      <th></th>\n",
       "    </tr>\n",
       "    <tr>\n",
       "      <th>profile_id</th>\n",
       "      <th></th>\n",
       "      <th></th>\n",
       "      <th></th>\n",
       "      <th></th>\n",
       "    </tr>\n",
       "  </thead>\n",
       "  <tbody>\n",
       "    <tr>\n",
       "      <th>3</th>\n",
       "      <td>14</td>\n",
       "      <td>2010-07-19 01:12:23</td>\n",
       "      <td>2013-02-02 22:02:59</td>\n",
       "      <td>71 days 12:40:48.923076923</td>\n",
       "    </tr>\n",
       "    <tr>\n",
       "      <th>4</th>\n",
       "      <td>37</td>\n",
       "      <td>2010-07-22 12:19:51</td>\n",
       "      <td>2019-05-05 08:03:36</td>\n",
       "      <td>89 days 03:12:52.916666666</td>\n",
       "    </tr>\n",
       "    <tr>\n",
       "      <th>11</th>\n",
       "      <td>2</td>\n",
       "      <td>2019-04-18 23:21:22</td>\n",
       "      <td>2019-04-25 06:50:14</td>\n",
       "      <td>6 days 07:28:52</td>\n",
       "    </tr>\n",
       "    <tr>\n",
       "      <th>19</th>\n",
       "      <td>51</td>\n",
       "      <td>2010-10-23 18:48:33</td>\n",
       "      <td>2019-04-17 07:44:13</td>\n",
       "      <td>61 days 22:49:06.800000</td>\n",
       "    </tr>\n",
       "    <tr>\n",
       "      <th>23</th>\n",
       "      <td>2</td>\n",
       "      <td>2015-11-19 08:57:39</td>\n",
       "      <td>2016-10-08 00:06:29</td>\n",
       "      <td>323 days 15:08:50</td>\n",
       "    </tr>\n",
       "    <tr>\n",
       "      <th>...</th>\n",
       "      <td>...</td>\n",
       "      <td>...</td>\n",
       "      <td>...</td>\n",
       "      <td>...</td>\n",
       "    </tr>\n",
       "    <tr>\n",
       "      <th>15211073159</th>\n",
       "      <td>4</td>\n",
       "      <td>2019-06-21 17:52:29</td>\n",
       "      <td>2019-06-21 20:41:59</td>\n",
       "      <td>0 days 00:56:30</td>\n",
       "    </tr>\n",
       "    <tr>\n",
       "      <th>15233295900</th>\n",
       "      <td>3</td>\n",
       "      <td>2019-06-26 23:56:47</td>\n",
       "      <td>2019-06-27 00:11:09</td>\n",
       "      <td>0 days 00:07:11</td>\n",
       "    </tr>\n",
       "    <tr>\n",
       "      <th>15666951479</th>\n",
       "      <td>11</td>\n",
       "      <td>2019-07-29 21:36:32</td>\n",
       "      <td>2019-08-06 01:01:31</td>\n",
       "      <td>0 days 17:08:29.900000</td>\n",
       "    </tr>\n",
       "    <tr>\n",
       "      <th>90010129721363</th>\n",
       "      <td>10</td>\n",
       "      <td>2017-06-22 10:56:54</td>\n",
       "      <td>2018-04-04 09:53:28</td>\n",
       "      <td>31 days 18:32:57.111111111</td>\n",
       "    </tr>\n",
       "    <tr>\n",
       "      <th>90010132543119</th>\n",
       "      <td>2</td>\n",
       "      <td>2019-04-12 21:25:36</td>\n",
       "      <td>2019-04-12 21:39:06</td>\n",
       "      <td>0 days 00:13:30</td>\n",
       "    </tr>\n",
       "  </tbody>\n",
       "</table>\n",
       "<p>4354677 rows × 4 columns</p>\n",
       "</div>"
      ],
      "text/plain": [
       "                 cts                                          \\\n",
       "               count                 min                 max   \n",
       "profile_id                                                     \n",
       "3                 14 2010-07-19 01:12:23 2013-02-02 22:02:59   \n",
       "4                 37 2010-07-22 12:19:51 2019-05-05 08:03:36   \n",
       "11                 2 2019-04-18 23:21:22 2019-04-25 06:50:14   \n",
       "19                51 2010-10-23 18:48:33 2019-04-17 07:44:13   \n",
       "23                 2 2015-11-19 08:57:39 2016-10-08 00:06:29   \n",
       "...              ...                 ...                 ...   \n",
       "15211073159        4 2019-06-21 17:52:29 2019-06-21 20:41:59   \n",
       "15233295900        3 2019-06-26 23:56:47 2019-06-27 00:11:09   \n",
       "15666951479       11 2019-07-29 21:36:32 2019-08-06 01:01:31   \n",
       "90010129721363    10 2017-06-22 10:56:54 2018-04-04 09:53:28   \n",
       "90010132543119     2 2019-04-12 21:25:36 2019-04-12 21:39:06   \n",
       "\n",
       "                            avg_time_diff  \n",
       "                                           \n",
       "profile_id                                 \n",
       "3              71 days 12:40:48.923076923  \n",
       "4              89 days 03:12:52.916666666  \n",
       "11                        6 days 07:28:52  \n",
       "19                61 days 22:49:06.800000  \n",
       "23                      323 days 15:08:50  \n",
       "...                                   ...  \n",
       "15211073159               0 days 00:56:30  \n",
       "15233295900               0 days 00:07:11  \n",
       "15666951479        0 days 17:08:29.900000  \n",
       "90010129721363 31 days 18:32:57.111111111  \n",
       "90010132543119            0 days 00:13:30  \n",
       "\n",
       "[4354677 rows x 4 columns]"
      ]
     },
     "execution_count": 113,
     "metadata": {},
     "output_type": "execute_result"
    }
   ],
   "source": [
    "df_summ_1"
   ]
  },
  {
   "cell_type": "code",
   "execution_count": 114,
   "id": "20f2f12c",
   "metadata": {},
   "outputs": [],
   "source": [
    "# sort the dataframe by the average time difference between posts\n",
    "df_summ_sorted = df_summ_1.sort_values(by = 'avg_time_diff', ascending = True)"
   ]
  },
  {
   "cell_type": "code",
   "execution_count": 115,
   "id": "613b4949",
   "metadata": {},
   "outputs": [
    {
     "data": {
      "text/html": [
       "<div>\n",
       "<style scoped>\n",
       "    .dataframe tbody tr th:only-of-type {\n",
       "        vertical-align: middle;\n",
       "    }\n",
       "\n",
       "    .dataframe tbody tr th {\n",
       "        vertical-align: top;\n",
       "    }\n",
       "\n",
       "    .dataframe thead tr th {\n",
       "        text-align: left;\n",
       "    }\n",
       "\n",
       "    .dataframe thead tr:last-of-type th {\n",
       "        text-align: right;\n",
       "    }\n",
       "</style>\n",
       "<table border=\"1\" class=\"dataframe\">\n",
       "  <thead>\n",
       "    <tr>\n",
       "      <th></th>\n",
       "      <th colspan=\"3\" halign=\"left\">cts</th>\n",
       "      <th>avg_time_diff</th>\n",
       "    </tr>\n",
       "    <tr>\n",
       "      <th></th>\n",
       "      <th>count</th>\n",
       "      <th>min</th>\n",
       "      <th>max</th>\n",
       "      <th></th>\n",
       "    </tr>\n",
       "    <tr>\n",
       "      <th>profile_id</th>\n",
       "      <th></th>\n",
       "      <th></th>\n",
       "      <th></th>\n",
       "      <th></th>\n",
       "    </tr>\n",
       "  </thead>\n",
       "  <tbody>\n",
       "    <tr>\n",
       "      <th>10613906817</th>\n",
       "      <td>2</td>\n",
       "      <td>2019-06-10 22:22:10</td>\n",
       "      <td>2019-06-10 22:22:10</td>\n",
       "      <td>0 days 00:00:00</td>\n",
       "    </tr>\n",
       "    <tr>\n",
       "      <th>3660089901</th>\n",
       "      <td>2</td>\n",
       "      <td>2019-02-26 09:21:50</td>\n",
       "      <td>2019-02-26 09:21:50</td>\n",
       "      <td>0 days 00:00:00</td>\n",
       "    </tr>\n",
       "    <tr>\n",
       "      <th>2939556935</th>\n",
       "      <td>2</td>\n",
       "      <td>2016-03-04 04:23:00</td>\n",
       "      <td>2016-03-04 04:23:00</td>\n",
       "      <td>0 days 00:00:00</td>\n",
       "    </tr>\n",
       "    <tr>\n",
       "      <th>433611713</th>\n",
       "      <td>2</td>\n",
       "      <td>2019-05-26 22:23:40</td>\n",
       "      <td>2019-05-26 22:23:40</td>\n",
       "      <td>0 days 00:00:00</td>\n",
       "    </tr>\n",
       "    <tr>\n",
       "      <th>10382580129</th>\n",
       "      <td>2</td>\n",
       "      <td>2019-05-27 19:12:16</td>\n",
       "      <td>2019-05-27 19:12:16</td>\n",
       "      <td>0 days 00:00:00</td>\n",
       "    </tr>\n",
       "    <tr>\n",
       "      <th>...</th>\n",
       "      <td>...</td>\n",
       "      <td>...</td>\n",
       "      <td>...</td>\n",
       "      <td>...</td>\n",
       "    </tr>\n",
       "    <tr>\n",
       "      <th>4797160</th>\n",
       "      <td>2</td>\n",
       "      <td>2011-06-06 16:25:59</td>\n",
       "      <td>2019-05-06 10:44:05</td>\n",
       "      <td>2890 days 18:18:06</td>\n",
       "    </tr>\n",
       "    <tr>\n",
       "      <th>65800</th>\n",
       "      <td>2</td>\n",
       "      <td>2011-05-07 02:29:49</td>\n",
       "      <td>2019-05-29 07:48:53</td>\n",
       "      <td>2944 days 05:19:04</td>\n",
       "    </tr>\n",
       "    <tr>\n",
       "      <th>990566</th>\n",
       "      <td>2</td>\n",
       "      <td>2011-03-15 18:33:27</td>\n",
       "      <td>2019-05-05 00:35:34</td>\n",
       "      <td>2972 days 06:02:07</td>\n",
       "    </tr>\n",
       "    <tr>\n",
       "      <th>122455</th>\n",
       "      <td>2</td>\n",
       "      <td>2010-10-25 19:23:28</td>\n",
       "      <td>2019-04-09 03:46:35</td>\n",
       "      <td>3087 days 08:23:07</td>\n",
       "    </tr>\n",
       "    <tr>\n",
       "      <th>691261</th>\n",
       "      <td>2</td>\n",
       "      <td>2010-12-15 19:51:40</td>\n",
       "      <td>2019-06-02 21:26:17</td>\n",
       "      <td>3091 days 01:34:37</td>\n",
       "    </tr>\n",
       "  </tbody>\n",
       "</table>\n",
       "<p>4354677 rows × 4 columns</p>\n",
       "</div>"
      ],
      "text/plain": [
       "              cts                                              avg_time_diff\n",
       "            count                 min                 max                   \n",
       "profile_id                                                                  \n",
       "10613906817     2 2019-06-10 22:22:10 2019-06-10 22:22:10    0 days 00:00:00\n",
       "3660089901      2 2019-02-26 09:21:50 2019-02-26 09:21:50    0 days 00:00:00\n",
       "2939556935      2 2016-03-04 04:23:00 2016-03-04 04:23:00    0 days 00:00:00\n",
       "433611713       2 2019-05-26 22:23:40 2019-05-26 22:23:40    0 days 00:00:00\n",
       "10382580129     2 2019-05-27 19:12:16 2019-05-27 19:12:16    0 days 00:00:00\n",
       "...           ...                 ...                 ...                ...\n",
       "4797160         2 2011-06-06 16:25:59 2019-05-06 10:44:05 2890 days 18:18:06\n",
       "65800           2 2011-05-07 02:29:49 2019-05-29 07:48:53 2944 days 05:19:04\n",
       "990566          2 2011-03-15 18:33:27 2019-05-05 00:35:34 2972 days 06:02:07\n",
       "122455          2 2010-10-25 19:23:28 2019-04-09 03:46:35 3087 days 08:23:07\n",
       "691261          2 2010-12-15 19:51:40 2019-06-02 21:26:17 3091 days 01:34:37\n",
       "\n",
       "[4354677 rows x 4 columns]"
      ]
     },
     "execution_count": 115,
     "metadata": {},
     "output_type": "execute_result"
    }
   ],
   "source": [
    "df_summ_sorted"
   ]
  },
  {
   "cell_type": "code",
   "execution_count": 116,
   "id": "7c7d47aa",
   "metadata": {},
   "outputs": [
    {
     "name": "stdout",
     "output_type": "stream",
     "text": [
      "Avg time a user lets pass before publishing another post:  76 days 17:06:26.772431731\n"
     ]
    }
   ],
   "source": [
    "# calculate the average time (days and minutes) a user lets pass before publishing another post \n",
    "print(\"Avg time a user lets pass before publishing another post: \", df_summ_sorted['avg_time_diff'].mean())"
   ]
  },
  {
   "cell_type": "markdown",
   "id": "5ecf7ab3",
   "metadata": {},
   "source": [
    "#####  Plot the top 3 users that publish posts more frequently (calculate the average time that passes between posts), including their amount of followers and following. Provide insights from that chart."
   ]
  },
  {
   "cell_type": "code",
   "execution_count": 117,
   "id": "44e92394",
   "metadata": {},
   "outputs": [
    {
     "data": {
      "text/plain": [
       "(42710197, 2)"
      ]
     },
     "execution_count": 117,
     "metadata": {},
     "output_type": "execute_result"
    }
   ],
   "source": [
    "df_prof_times.shape"
   ]
  },
  {
   "cell_type": "code",
   "execution_count": 118,
   "id": "d35391da",
   "metadata": {},
   "outputs": [],
   "source": [
    "# find the profiles that are present in both the profiles dataset and the posts dataset\n",
    "\n",
    "# array of all unique profile_ids\n",
    "ids_unique = df_profiles['profile_id'].unique()"
   ]
  },
  {
   "cell_type": "code",
   "execution_count": 119,
   "id": "c2776512",
   "metadata": {},
   "outputs": [
    {
     "data": {
      "text/plain": [
       "(27715738, 2)"
      ]
     },
     "execution_count": 119,
     "metadata": {},
     "output_type": "execute_result"
    }
   ],
   "source": [
    "# data for the profiles that are present in both the profiles and the posts datasets\n",
    "df_prof_times_2 = df_prof_times[df_prof_times['profile_id'].isin(ids_unique)]\n",
    "df_prof_times_2.shape"
   ]
  },
  {
   "cell_type": "code",
   "execution_count": 120,
   "id": "f45b488d",
   "metadata": {},
   "outputs": [
    {
     "data": {
      "text/plain": [
       "248499"
      ]
     },
     "execution_count": 120,
     "metadata": {},
     "output_type": "execute_result"
    }
   ],
   "source": [
    "df_prof_times_2.duplicated().sum()"
   ]
  },
  {
   "cell_type": "markdown",
   "id": "4d92272b",
   "metadata": {},
   "source": [
    "We found that some of the profiles have posts that are recorded several times in the posts dataset. (same profile id, same cts feature). We believe that a user cannot post several posts on Instagram at the same time. Therefore, we dropped the duplicated observations in the posts dataset."
   ]
  },
  {
   "cell_type": "code",
   "execution_count": 121,
   "id": "e656b45a",
   "metadata": {},
   "outputs": [
    {
     "data": {
      "text/plain": [
       "(27467239, 2)"
      ]
     },
     "execution_count": 121,
     "metadata": {},
     "output_type": "execute_result"
    }
   ],
   "source": [
    "df_prof_times_3 = df_prof_times_2.drop_duplicates()\n",
    "df_prof_times_3.shape"
   ]
  },
  {
   "cell_type": "code",
   "execution_count": 122,
   "id": "bc857660",
   "metadata": {},
   "outputs": [],
   "source": [
    "# group by the profile id and calculate the number of posts each profile has, \n",
    "# the min and the max of the feature 'cts' for each profile\n",
    "\n",
    "time_diff_1 = df_prof_times_3.groupby('profile_id').agg({'cts': ['count', 'min', 'max']})"
   ]
  },
  {
   "cell_type": "code",
   "execution_count": 123,
   "id": "f1a43b3c",
   "metadata": {},
   "outputs": [
    {
     "data": {
      "text/html": [
       "<div>\n",
       "<style scoped>\n",
       "    .dataframe tbody tr th:only-of-type {\n",
       "        vertical-align: middle;\n",
       "    }\n",
       "\n",
       "    .dataframe tbody tr th {\n",
       "        vertical-align: top;\n",
       "    }\n",
       "\n",
       "    .dataframe thead tr th {\n",
       "        text-align: left;\n",
       "    }\n",
       "\n",
       "    .dataframe thead tr:last-of-type th {\n",
       "        text-align: right;\n",
       "    }\n",
       "</style>\n",
       "<table border=\"1\" class=\"dataframe\">\n",
       "  <thead>\n",
       "    <tr>\n",
       "      <th></th>\n",
       "      <th colspan=\"3\" halign=\"left\">cts</th>\n",
       "    </tr>\n",
       "    <tr>\n",
       "      <th></th>\n",
       "      <th>count</th>\n",
       "      <th>min</th>\n",
       "      <th>max</th>\n",
       "    </tr>\n",
       "    <tr>\n",
       "      <th>profile_id</th>\n",
       "      <th></th>\n",
       "      <th></th>\n",
       "      <th></th>\n",
       "    </tr>\n",
       "  </thead>\n",
       "  <tbody>\n",
       "    <tr>\n",
       "      <th>4</th>\n",
       "      <td>37</td>\n",
       "      <td>2010-07-22 12:19:51</td>\n",
       "      <td>2019-05-05 08:03:36</td>\n",
       "    </tr>\n",
       "    <tr>\n",
       "      <th>19</th>\n",
       "      <td>51</td>\n",
       "      <td>2010-10-23 18:48:33</td>\n",
       "      <td>2019-04-17 07:44:13</td>\n",
       "    </tr>\n",
       "    <tr>\n",
       "      <th>28</th>\n",
       "      <td>92</td>\n",
       "      <td>2011-02-19 20:16:29</td>\n",
       "      <td>2019-04-16 05:10:12</td>\n",
       "    </tr>\n",
       "    <tr>\n",
       "      <th>33</th>\n",
       "      <td>2</td>\n",
       "      <td>2011-04-30 06:13:46</td>\n",
       "      <td>2013-03-30 22:35:38</td>\n",
       "    </tr>\n",
       "    <tr>\n",
       "      <th>34</th>\n",
       "      <td>20</td>\n",
       "      <td>2011-07-29 06:24:16</td>\n",
       "      <td>2019-07-01 20:49:50</td>\n",
       "    </tr>\n",
       "    <tr>\n",
       "      <th>...</th>\n",
       "      <td>...</td>\n",
       "      <td>...</td>\n",
       "      <td>...</td>\n",
       "    </tr>\n",
       "    <tr>\n",
       "      <th>14997381946</th>\n",
       "      <td>12</td>\n",
       "      <td>2019-07-09 03:18:33</td>\n",
       "      <td>2019-07-11 04:25:20</td>\n",
       "    </tr>\n",
       "    <tr>\n",
       "      <th>15019176838</th>\n",
       "      <td>5</td>\n",
       "      <td>2019-06-19 13:17:00</td>\n",
       "      <td>2019-07-21 14:05:34</td>\n",
       "    </tr>\n",
       "    <tr>\n",
       "      <th>15233295900</th>\n",
       "      <td>3</td>\n",
       "      <td>2019-06-26 23:56:47</td>\n",
       "      <td>2019-06-27 00:11:09</td>\n",
       "    </tr>\n",
       "    <tr>\n",
       "      <th>15666951479</th>\n",
       "      <td>11</td>\n",
       "      <td>2019-07-29 21:36:32</td>\n",
       "      <td>2019-08-06 01:01:31</td>\n",
       "    </tr>\n",
       "    <tr>\n",
       "      <th>90010129721363</th>\n",
       "      <td>10</td>\n",
       "      <td>2017-06-22 10:56:54</td>\n",
       "      <td>2018-04-04 09:53:28</td>\n",
       "    </tr>\n",
       "  </tbody>\n",
       "</table>\n",
       "<p>2173843 rows × 3 columns</p>\n",
       "</div>"
      ],
      "text/plain": [
       "                 cts                                        \n",
       "               count                 min                 max\n",
       "profile_id                                                  \n",
       "4                 37 2010-07-22 12:19:51 2019-05-05 08:03:36\n",
       "19                51 2010-10-23 18:48:33 2019-04-17 07:44:13\n",
       "28                92 2011-02-19 20:16:29 2019-04-16 05:10:12\n",
       "33                 2 2011-04-30 06:13:46 2013-03-30 22:35:38\n",
       "34                20 2011-07-29 06:24:16 2019-07-01 20:49:50\n",
       "...              ...                 ...                 ...\n",
       "14997381946       12 2019-07-09 03:18:33 2019-07-11 04:25:20\n",
       "15019176838        5 2019-06-19 13:17:00 2019-07-21 14:05:34\n",
       "15233295900        3 2019-06-26 23:56:47 2019-06-27 00:11:09\n",
       "15666951479       11 2019-07-29 21:36:32 2019-08-06 01:01:31\n",
       "90010129721363    10 2017-06-22 10:56:54 2018-04-04 09:53:28\n",
       "\n",
       "[2173843 rows x 3 columns]"
      ]
     },
     "execution_count": 123,
     "metadata": {},
     "output_type": "execute_result"
    }
   ],
   "source": [
    "time_diff_1"
   ]
  },
  {
   "cell_type": "code",
   "execution_count": 124,
   "id": "1f6f4420",
   "metadata": {},
   "outputs": [],
   "source": [
    "# remove the users that have only 1 post (we should not consider them because we cannot calculate \n",
    "# average time difference between posts given that they have only 1 post)\n",
    "time_diff_2 = time_diff_1[time_diff_1['cts']['count'] != 1]"
   ]
  },
  {
   "cell_type": "code",
   "execution_count": 125,
   "id": "569233e4",
   "metadata": {},
   "outputs": [
    {
     "name": "stderr",
     "output_type": "stream",
     "text": [
      "C:\\Users\\yoann\\AppData\\Local\\Temp\\ipykernel_10880\\777867357.py:2: SettingWithCopyWarning: \n",
      "A value is trying to be set on a copy of a slice from a DataFrame.\n",
      "Try using .loc[row_indexer,col_indexer] = value instead\n",
      "\n",
      "See the caveats in the documentation: https://pandas.pydata.org/pandas-docs/stable/user_guide/indexing.html#returning-a-view-versus-a-copy\n",
      "  time_diff_2['avg_time_diff'] = (time_diff_2['cts']['max'] - time_diff_2['cts']['min']) / (time_diff_2['cts']['count'] - 1)\n"
     ]
    }
   ],
   "source": [
    "# calculate the average time difference between posts for each user and put the results in a new column\n",
    "time_diff_2['avg_time_diff'] = (time_diff_2['cts']['max'] - time_diff_2['cts']['min']) / (time_diff_2['cts']['count'] - 1)"
   ]
  },
  {
   "cell_type": "code",
   "execution_count": 126,
   "id": "feada6ca",
   "metadata": {},
   "outputs": [],
   "source": [
    "# sort the dataframe by the average time difference between posts\n",
    "time_diff_sort = time_diff_2.sort_values(by = 'avg_time_diff', ascending = True)"
   ]
  },
  {
   "cell_type": "code",
   "execution_count": 127,
   "id": "9ccb3b56",
   "metadata": {},
   "outputs": [
    {
     "data": {
      "text/html": [
       "<div>\n",
       "<style scoped>\n",
       "    .dataframe tbody tr th:only-of-type {\n",
       "        vertical-align: middle;\n",
       "    }\n",
       "\n",
       "    .dataframe tbody tr th {\n",
       "        vertical-align: top;\n",
       "    }\n",
       "\n",
       "    .dataframe thead tr th {\n",
       "        text-align: left;\n",
       "    }\n",
       "\n",
       "    .dataframe thead tr:last-of-type th {\n",
       "        text-align: right;\n",
       "    }\n",
       "</style>\n",
       "<table border=\"1\" class=\"dataframe\">\n",
       "  <thead>\n",
       "    <tr>\n",
       "      <th></th>\n",
       "      <th colspan=\"3\" halign=\"left\">cts</th>\n",
       "      <th>avg_time_diff</th>\n",
       "    </tr>\n",
       "    <tr>\n",
       "      <th></th>\n",
       "      <th>count</th>\n",
       "      <th>min</th>\n",
       "      <th>max</th>\n",
       "      <th></th>\n",
       "    </tr>\n",
       "    <tr>\n",
       "      <th>profile_id</th>\n",
       "      <th></th>\n",
       "      <th></th>\n",
       "      <th></th>\n",
       "      <th></th>\n",
       "    </tr>\n",
       "  </thead>\n",
       "  <tbody>\n",
       "    <tr>\n",
       "      <th>6336490331</th>\n",
       "      <td>2</td>\n",
       "      <td>2017-11-05 16:09:48</td>\n",
       "      <td>2017-11-05 16:09:49</td>\n",
       "      <td>0 days 00:00:01</td>\n",
       "    </tr>\n",
       "    <tr>\n",
       "      <th>8278512171</th>\n",
       "      <td>2</td>\n",
       "      <td>2018-12-18 08:00:59</td>\n",
       "      <td>2018-12-18 08:01:00</td>\n",
       "      <td>0 days 00:00:01</td>\n",
       "    </tr>\n",
       "    <tr>\n",
       "      <th>1452167807</th>\n",
       "      <td>2</td>\n",
       "      <td>2014-08-06 16:07:38</td>\n",
       "      <td>2014-08-06 16:07:39</td>\n",
       "      <td>0 days 00:00:01</td>\n",
       "    </tr>\n",
       "    <tr>\n",
       "      <th>6708223857</th>\n",
       "      <td>2</td>\n",
       "      <td>2017-12-10 07:18:55</td>\n",
       "      <td>2017-12-10 07:18:56</td>\n",
       "      <td>0 days 00:00:01</td>\n",
       "    </tr>\n",
       "    <tr>\n",
       "      <th>11804840640</th>\n",
       "      <td>2</td>\n",
       "      <td>2019-03-10 16:11:04</td>\n",
       "      <td>2019-03-10 16:11:05</td>\n",
       "      <td>0 days 00:00:01</td>\n",
       "    </tr>\n",
       "    <tr>\n",
       "      <th>...</th>\n",
       "      <td>...</td>\n",
       "      <td>...</td>\n",
       "      <td>...</td>\n",
       "      <td>...</td>\n",
       "    </tr>\n",
       "    <tr>\n",
       "      <th>35054172</th>\n",
       "      <td>2</td>\n",
       "      <td>2012-04-08 12:30:39</td>\n",
       "      <td>2019-05-04 16:15:10</td>\n",
       "      <td>2582 days 03:44:31</td>\n",
       "    </tr>\n",
       "    <tr>\n",
       "      <th>11226500</th>\n",
       "      <td>2</td>\n",
       "      <td>2011-11-14 22:36:34</td>\n",
       "      <td>2019-04-25 02:10:52</td>\n",
       "      <td>2718 days 03:34:18</td>\n",
       "    </tr>\n",
       "    <tr>\n",
       "      <th>1310323</th>\n",
       "      <td>2</td>\n",
       "      <td>2011-06-26 04:09:18</td>\n",
       "      <td>2019-05-07 02:06:51</td>\n",
       "      <td>2871 days 21:57:33</td>\n",
       "    </tr>\n",
       "    <tr>\n",
       "      <th>2641018</th>\n",
       "      <td>2</td>\n",
       "      <td>2011-05-28 03:34:47</td>\n",
       "      <td>2019-04-23 21:34:51</td>\n",
       "      <td>2887 days 18:00:04</td>\n",
       "    </tr>\n",
       "    <tr>\n",
       "      <th>4797160</th>\n",
       "      <td>2</td>\n",
       "      <td>2011-06-06 16:25:59</td>\n",
       "      <td>2019-05-06 10:44:05</td>\n",
       "      <td>2890 days 18:18:06</td>\n",
       "    </tr>\n",
       "  </tbody>\n",
       "</table>\n",
       "<p>2033072 rows × 4 columns</p>\n",
       "</div>"
      ],
      "text/plain": [
       "              cts                                              avg_time_diff\n",
       "            count                 min                 max                   \n",
       "profile_id                                                                  \n",
       "6336490331      2 2017-11-05 16:09:48 2017-11-05 16:09:49    0 days 00:00:01\n",
       "8278512171      2 2018-12-18 08:00:59 2018-12-18 08:01:00    0 days 00:00:01\n",
       "1452167807      2 2014-08-06 16:07:38 2014-08-06 16:07:39    0 days 00:00:01\n",
       "6708223857      2 2017-12-10 07:18:55 2017-12-10 07:18:56    0 days 00:00:01\n",
       "11804840640     2 2019-03-10 16:11:04 2019-03-10 16:11:05    0 days 00:00:01\n",
       "...           ...                 ...                 ...                ...\n",
       "35054172        2 2012-04-08 12:30:39 2019-05-04 16:15:10 2582 days 03:44:31\n",
       "11226500        2 2011-11-14 22:36:34 2019-04-25 02:10:52 2718 days 03:34:18\n",
       "1310323         2 2011-06-26 04:09:18 2019-05-07 02:06:51 2871 days 21:57:33\n",
       "2641018         2 2011-05-28 03:34:47 2019-04-23 21:34:51 2887 days 18:00:04\n",
       "4797160         2 2011-06-06 16:25:59 2019-05-06 10:44:05 2890 days 18:18:06\n",
       "\n",
       "[2033072 rows x 4 columns]"
      ]
     },
     "execution_count": 127,
     "metadata": {},
     "output_type": "execute_result"
    }
   ],
   "source": [
    "time_diff_sort"
   ]
  },
  {
   "cell_type": "code",
   "execution_count": 128,
   "id": "0deb3330",
   "metadata": {},
   "outputs": [
    {
     "data": {
      "text/plain": [
       "12.290612432811036"
      ]
     },
     "execution_count": 128,
     "metadata": {},
     "output_type": "execute_result"
    }
   ],
   "source": [
    "time_diff_sort['cts']['count'].mean()"
   ]
  },
  {
   "cell_type": "markdown",
   "id": "d9c39c8a",
   "metadata": {},
   "source": [
    "The average number of posts that a user has posted is around 12 posts"
   ]
  },
  {
   "cell_type": "markdown",
   "id": "648883c4",
   "metadata": {},
   "source": [
    "By observing the dataframe above, we can see that there are a lot of users who have posted only 2,3,4, or 5 times and users who have posted a lot more than them. When we compare users who have the same average time difference between posts but different number of posts, the user with higher number of posts post more frequently. Therefore, we decided to look only at the users who have at least 12 posts (average # posts for a user)."
   ]
  },
  {
   "cell_type": "code",
   "execution_count": 129,
   "id": "3e6aefac",
   "metadata": {},
   "outputs": [],
   "source": [
    "time_diff_sort_2 = time_diff_sort[time_diff_sort['cts']['count'] >= 12]"
   ]
  },
  {
   "cell_type": "code",
   "execution_count": 130,
   "id": "343979b6",
   "metadata": {},
   "outputs": [
    {
     "data": {
      "text/html": [
       "<div>\n",
       "<style scoped>\n",
       "    .dataframe tbody tr th:only-of-type {\n",
       "        vertical-align: middle;\n",
       "    }\n",
       "\n",
       "    .dataframe tbody tr th {\n",
       "        vertical-align: top;\n",
       "    }\n",
       "\n",
       "    .dataframe thead tr th {\n",
       "        text-align: left;\n",
       "    }\n",
       "\n",
       "    .dataframe thead tr:last-of-type th {\n",
       "        text-align: right;\n",
       "    }\n",
       "</style>\n",
       "<table border=\"1\" class=\"dataframe\">\n",
       "  <thead>\n",
       "    <tr>\n",
       "      <th></th>\n",
       "      <th colspan=\"3\" halign=\"left\">cts</th>\n",
       "      <th>avg_time_diff</th>\n",
       "    </tr>\n",
       "    <tr>\n",
       "      <th></th>\n",
       "      <th>count</th>\n",
       "      <th>min</th>\n",
       "      <th>max</th>\n",
       "      <th></th>\n",
       "    </tr>\n",
       "    <tr>\n",
       "      <th>profile_id</th>\n",
       "      <th></th>\n",
       "      <th></th>\n",
       "      <th></th>\n",
       "      <th></th>\n",
       "    </tr>\n",
       "  </thead>\n",
       "  <tbody>\n",
       "    <tr>\n",
       "      <th>10380406609</th>\n",
       "      <td>12</td>\n",
       "      <td>2019-05-18 02:10:12</td>\n",
       "      <td>2019-05-18 02:10:34</td>\n",
       "      <td>0 days 00:00:02</td>\n",
       "    </tr>\n",
       "    <tr>\n",
       "      <th>2711364592</th>\n",
       "      <td>12</td>\n",
       "      <td>2018-08-02 15:31:18</td>\n",
       "      <td>2018-08-02 15:31:44</td>\n",
       "      <td>0 days 00:00:02.363636363</td>\n",
       "    </tr>\n",
       "    <tr>\n",
       "      <th>391864453</th>\n",
       "      <td>12</td>\n",
       "      <td>2017-05-13 14:22:55</td>\n",
       "      <td>2017-05-13 14:23:21</td>\n",
       "      <td>0 days 00:00:02.363636363</td>\n",
       "    </tr>\n",
       "    <tr>\n",
       "      <th>4782007773</th>\n",
       "      <td>12</td>\n",
       "      <td>2017-10-13 20:22:17</td>\n",
       "      <td>2017-10-13 20:22:44</td>\n",
       "      <td>0 days 00:00:02.454545454</td>\n",
       "    </tr>\n",
       "    <tr>\n",
       "      <th>3471763863</th>\n",
       "      <td>12</td>\n",
       "      <td>2017-11-13 06:40:23</td>\n",
       "      <td>2017-11-13 06:40:52</td>\n",
       "      <td>0 days 00:00:02.636363636</td>\n",
       "    </tr>\n",
       "    <tr>\n",
       "      <th>...</th>\n",
       "      <td>...</td>\n",
       "      <td>...</td>\n",
       "      <td>...</td>\n",
       "      <td>...</td>\n",
       "    </tr>\n",
       "    <tr>\n",
       "      <th>130382</th>\n",
       "      <td>13</td>\n",
       "      <td>2010-10-20 10:45:16</td>\n",
       "      <td>2019-05-05 09:45:03</td>\n",
       "      <td>259 days 21:54:58.916666666</td>\n",
       "    </tr>\n",
       "    <tr>\n",
       "      <th>2705887</th>\n",
       "      <td>12</td>\n",
       "      <td>2011-04-24 17:00:28</td>\n",
       "      <td>2019-03-03 21:46:04</td>\n",
       "      <td>260 days 22:15:03.272727272</td>\n",
       "    </tr>\n",
       "    <tr>\n",
       "      <th>2364316</th>\n",
       "      <td>12</td>\n",
       "      <td>2011-03-20 11:01:58</td>\n",
       "      <td>2019-02-05 06:32:10</td>\n",
       "      <td>261 days 17:02:44.727272727</td>\n",
       "    </tr>\n",
       "    <tr>\n",
       "      <th>2087748</th>\n",
       "      <td>12</td>\n",
       "      <td>2011-03-08 06:58:15</td>\n",
       "      <td>2019-03-25 02:43:24</td>\n",
       "      <td>267 days 03:58:39</td>\n",
       "    </tr>\n",
       "    <tr>\n",
       "      <th>689111</th>\n",
       "      <td>12</td>\n",
       "      <td>2010-11-15 15:44:39</td>\n",
       "      <td>2018-12-23 00:16:32</td>\n",
       "      <td>269 days 00:46:32.090909090</td>\n",
       "    </tr>\n",
       "  </tbody>\n",
       "</table>\n",
       "<p>1748847 rows × 4 columns</p>\n",
       "</div>"
      ],
      "text/plain": [
       "              cts                                          \\\n",
       "            count                 min                 max   \n",
       "profile_id                                                  \n",
       "10380406609    12 2019-05-18 02:10:12 2019-05-18 02:10:34   \n",
       "2711364592     12 2018-08-02 15:31:18 2018-08-02 15:31:44   \n",
       "391864453      12 2017-05-13 14:22:55 2017-05-13 14:23:21   \n",
       "4782007773     12 2017-10-13 20:22:17 2017-10-13 20:22:44   \n",
       "3471763863     12 2017-11-13 06:40:23 2017-11-13 06:40:52   \n",
       "...           ...                 ...                 ...   \n",
       "130382         13 2010-10-20 10:45:16 2019-05-05 09:45:03   \n",
       "2705887        12 2011-04-24 17:00:28 2019-03-03 21:46:04   \n",
       "2364316        12 2011-03-20 11:01:58 2019-02-05 06:32:10   \n",
       "2087748        12 2011-03-08 06:58:15 2019-03-25 02:43:24   \n",
       "689111         12 2010-11-15 15:44:39 2018-12-23 00:16:32   \n",
       "\n",
       "                          avg_time_diff  \n",
       "                                         \n",
       "profile_id                               \n",
       "10380406609             0 days 00:00:02  \n",
       "2711364592    0 days 00:00:02.363636363  \n",
       "391864453     0 days 00:00:02.363636363  \n",
       "4782007773    0 days 00:00:02.454545454  \n",
       "3471763863    0 days 00:00:02.636363636  \n",
       "...                                 ...  \n",
       "130382      259 days 21:54:58.916666666  \n",
       "2705887     260 days 22:15:03.272727272  \n",
       "2364316     261 days 17:02:44.727272727  \n",
       "2087748               267 days 03:58:39  \n",
       "689111      269 days 00:46:32.090909090  \n",
       "\n",
       "[1748847 rows x 4 columns]"
      ]
     },
     "execution_count": 130,
     "metadata": {},
     "output_type": "execute_result"
    }
   ],
   "source": [
    "time_diff_sort_2"
   ]
  },
  {
   "cell_type": "markdown",
   "id": "733a5f6e",
   "metadata": {},
   "source": [
    "By looking at the table above, we can see that the top 3 users who post most frequently are the users with profile ids:\n",
    "\n",
    "10380406609, 2711364592, 391864453"
   ]
  },
  {
   "cell_type": "code",
   "execution_count": 131,
   "id": "a7e348c8",
   "metadata": {},
   "outputs": [],
   "source": [
    "top3_ids = [10380406609, 2711364592, 391864453]"
   ]
  },
  {
   "cell_type": "code",
   "execution_count": 133,
   "id": "a75e35d7",
   "metadata": {},
   "outputs": [
    {
     "data": {
      "text/html": [
       "<div>\n",
       "<style scoped>\n",
       "    .dataframe tbody tr th:only-of-type {\n",
       "        vertical-align: middle;\n",
       "    }\n",
       "\n",
       "    .dataframe tbody tr th {\n",
       "        vertical-align: top;\n",
       "    }\n",
       "\n",
       "    .dataframe thead th {\n",
       "        text-align: right;\n",
       "    }\n",
       "</style>\n",
       "<table border=\"1\" class=\"dataframe\">\n",
       "  <thead>\n",
       "    <tr style=\"text-align: right;\">\n",
       "      <th></th>\n",
       "      <th>profile_id</th>\n",
       "      <th>followers</th>\n",
       "      <th>following</th>\n",
       "    </tr>\n",
       "  </thead>\n",
       "  <tbody>\n",
       "    <tr>\n",
       "      <th>1936890</th>\n",
       "      <td>391864453</td>\n",
       "      <td>7</td>\n",
       "      <td>81</td>\n",
       "    </tr>\n",
       "    <tr>\n",
       "      <th>2907104</th>\n",
       "      <td>2711364592</td>\n",
       "      <td>27</td>\n",
       "      <td>289</td>\n",
       "    </tr>\n",
       "    <tr>\n",
       "      <th>3150436</th>\n",
       "      <td>10380406609</td>\n",
       "      <td>73</td>\n",
       "      <td>959</td>\n",
       "    </tr>\n",
       "  </tbody>\n",
       "</table>\n",
       "</div>"
      ],
      "text/plain": [
       "         profile_id  followers  following\n",
       "1936890   391864453          7         81\n",
       "2907104  2711364592         27        289\n",
       "3150436 10380406609         73        959"
      ]
     },
     "execution_count": 133,
     "metadata": {},
     "output_type": "execute_result"
    }
   ],
   "source": [
    "#print(profiles_FF[profiles_FF['profile_id'].isin(top3_ids)].to_markdown())\n",
    "profiles_FF[profiles_FF['profile_id'].isin(top3_ids)]"
   ]
  },
  {
   "cell_type": "markdown",
   "id": "d9ead15b",
   "metadata": {},
   "source": [
    "- Even though those profiles post most frequently, they seem to have a small number of followers. \n",
    "- One of them follows only 81 accounts, while the other two follow a lot more, especially the 3rd one, who follows 959 users.\n",
    "- The 3rd user seems to have a lot more 'following' than 'followers'"
   ]
  },
  {
   "cell_type": "markdown",
   "id": "6beecdc2",
   "metadata": {},
   "source": [
    "#### Using the function you previously coded, plot the time intervals with the highest average number of “likes” and the ones with the highest average number of comments on posts."
   ]
  },
  {
   "cell_type": "code",
   "execution_count": 134,
   "id": "0a7ce9e2",
   "metadata": {},
   "outputs": [],
   "source": [
    "# FUNCTION FROM RQ3\n",
    "\n",
    "# A function that receives a time intervals list as a parameter and returns\n",
    "# a plot with the number of posts for each given interval\n",
    "\n",
    "def plot_posts_time(time_intervals):\n",
    "    time_results = {}\n",
    "    for slot in time_slots:\n",
    "        result = len(df_prof_times[(df_prof_times.cts.dt.hour >= slot[0]) & (df_prof_times.cts.dt.hour <= slot[1])])\n",
    "        time_results[slot] = result\n",
    "    \n",
    "    # create a list of strings of the time intervals\n",
    "    time_intervals_str = []\n",
    "    for i in time_intervals:\n",
    "        time_intervals_str.append(str(i))\n",
    "    \n",
    "    num_posts = list(time_results.values())\n",
    "    plt.bar(range(len(time_results)), num_posts, tick_label = time_intervals_str)\n",
    "    plt.title('Number of posts for each time interval')\n",
    "    plt.xlabel('Time intervals')\n",
    "    plt.ylabel('Number of posts')\n",
    "    plt.show()\n",
    "    \n",
    "    return(time_results)"
   ]
  },
  {
   "cell_type": "code",
   "execution_count": 135,
   "id": "5293caa6",
   "metadata": {},
   "outputs": [],
   "source": [
    "#time_slots = [(6,10),(11,13),(14,16),(17,19),(20,23),(0,2),(3,5)]"
   ]
  },
  {
   "cell_type": "code",
   "execution_count": 136,
   "id": "cb6a1b93",
   "metadata": {},
   "outputs": [
    {
     "data": {
      "image/png": "[encoded data removed]",
      "text/plain": [
       "<Figure size 1080x504 with 1 Axes>"
      ]
     },
     "metadata": {},
     "output_type": "display_data"
    }
   ],
   "source": [
    "# total number of posts for each time interval\n",
    "likes_time_int = plot_posts_time(time_slots)"
   ]
  },
  {
   "cell_type": "code",
   "execution_count": 137,
   "id": "d4f1ee87",
   "metadata": {},
   "outputs": [
    {
     "data": {
      "text/plain": [
       "{(6, 10): 6378572,\n",
       " (11, 13): 5614715,\n",
       " (14, 16): 6763037,\n",
       " (17, 19): 7409907,\n",
       " (20, 23): 8915794,\n",
       " (0, 2): 4213617,\n",
       " (3, 5): 3411223}"
      ]
     },
     "execution_count": 137,
     "metadata": {},
     "output_type": "execute_result"
    }
   ],
   "source": [
    "# time intervals with the corresponding number of posts\n",
    "likes_time_int"
   ]
  },
  {
   "cell_type": "code",
   "execution_count": null,
   "id": "661bfbc8",
   "metadata": {},
   "outputs": [],
   "source": []
  },
  {
   "cell_type": "code",
   "execution_count": 138,
   "id": "89a3b9e2",
   "metadata": {},
   "outputs": [],
   "source": [
    "# for each post load the cts feature, number of likes, and number of comments\n",
    "df_small = pd.read_csv('instagram_posts.csv', delimiter=\"\\t\", usecols = ['cts','numbr_likes','number_comments'], low_memory = True)"
   ]
  },
  {
   "cell_type": "code",
   "execution_count": 139,
   "id": "fdecae1b",
   "metadata": {},
   "outputs": [],
   "source": [
    "# convert 'cts' to a Datetime format\n",
    "df_small.cts = pd.to_datetime(df_small.cts)"
   ]
  },
  {
   "cell_type": "code",
   "execution_count": 140,
   "id": "2c0b47ed",
   "metadata": {},
   "outputs": [
    {
     "data": {
      "text/html": [
       "<div>\n",
       "<style scoped>\n",
       "    .dataframe tbody tr th:only-of-type {\n",
       "        vertical-align: middle;\n",
       "    }\n",
       "\n",
       "    .dataframe tbody tr th {\n",
       "        vertical-align: top;\n",
       "    }\n",
       "\n",
       "    .dataframe thead th {\n",
       "        text-align: right;\n",
       "    }\n",
       "</style>\n",
       "<table border=\"1\" class=\"dataframe\">\n",
       "  <thead>\n",
       "    <tr style=\"text-align: right;\">\n",
       "      <th></th>\n",
       "      <th>cts</th>\n",
       "      <th>numbr_likes</th>\n",
       "      <th>number_comments</th>\n",
       "      <th>hour</th>\n",
       "    </tr>\n",
       "  </thead>\n",
       "  <tbody>\n",
       "    <tr>\n",
       "      <th>0</th>\n",
       "      <td>2017-08-06 20:06:57</td>\n",
       "      <td>80</td>\n",
       "      <td>0</td>\n",
       "      <td>20</td>\n",
       "    </tr>\n",
       "    <tr>\n",
       "      <th>1</th>\n",
       "      <td>2017-06-19 09:31:16</td>\n",
       "      <td>25</td>\n",
       "      <td>1</td>\n",
       "      <td>9</td>\n",
       "    </tr>\n",
       "    <tr>\n",
       "      <th>2</th>\n",
       "      <td>2017-03-11 20:05:03</td>\n",
       "      <td>9</td>\n",
       "      <td>0</td>\n",
       "      <td>20</td>\n",
       "    </tr>\n",
       "    <tr>\n",
       "      <th>3</th>\n",
       "      <td>2016-09-13 16:27:16</td>\n",
       "      <td>4</td>\n",
       "      <td>0</td>\n",
       "      <td>16</td>\n",
       "    </tr>\n",
       "    <tr>\n",
       "      <th>4</th>\n",
       "      <td>2015-10-18 10:19:27</td>\n",
       "      <td>8</td>\n",
       "      <td>0</td>\n",
       "      <td>10</td>\n",
       "    </tr>\n",
       "    <tr>\n",
       "      <th>...</th>\n",
       "      <td>...</td>\n",
       "      <td>...</td>\n",
       "      <td>...</td>\n",
       "      <td>...</td>\n",
       "    </tr>\n",
       "    <tr>\n",
       "      <th>42710192</th>\n",
       "      <td>2017-12-13 15:38:04</td>\n",
       "      <td>74</td>\n",
       "      <td>0</td>\n",
       "      <td>15</td>\n",
       "    </tr>\n",
       "    <tr>\n",
       "      <th>42710193</th>\n",
       "      <td>2017-10-31 11:28:01</td>\n",
       "      <td>49</td>\n",
       "      <td>0</td>\n",
       "      <td>11</td>\n",
       "    </tr>\n",
       "    <tr>\n",
       "      <th>42710194</th>\n",
       "      <td>2017-01-13 20:16:37</td>\n",
       "      <td>18</td>\n",
       "      <td>0</td>\n",
       "      <td>20</td>\n",
       "    </tr>\n",
       "    <tr>\n",
       "      <th>42710195</th>\n",
       "      <td>2019-05-20 20:07:52</td>\n",
       "      <td>27</td>\n",
       "      <td>1</td>\n",
       "      <td>20</td>\n",
       "    </tr>\n",
       "    <tr>\n",
       "      <th>42710196</th>\n",
       "      <td>2018-03-12 02:57:17</td>\n",
       "      <td>1824</td>\n",
       "      <td>49</td>\n",
       "      <td>2</td>\n",
       "    </tr>\n",
       "  </tbody>\n",
       "</table>\n",
       "<p>42710197 rows × 4 columns</p>\n",
       "</div>"
      ],
      "text/plain": [
       "                         cts  numbr_likes  number_comments  hour\n",
       "0        2017-08-06 20:06:57           80                0    20\n",
       "1        2017-06-19 09:31:16           25                1     9\n",
       "2        2017-03-11 20:05:03            9                0    20\n",
       "3        2016-09-13 16:27:16            4                0    16\n",
       "4        2015-10-18 10:19:27            8                0    10\n",
       "...                      ...          ...              ...   ...\n",
       "42710192 2017-12-13 15:38:04           74                0    15\n",
       "42710193 2017-10-31 11:28:01           49                0    11\n",
       "42710194 2017-01-13 20:16:37           18                0    20\n",
       "42710195 2019-05-20 20:07:52           27                1    20\n",
       "42710196 2018-03-12 02:57:17         1824               49     2\n",
       "\n",
       "[42710197 rows x 4 columns]"
      ]
     },
     "execution_count": 140,
     "metadata": {},
     "output_type": "execute_result"
    }
   ],
   "source": [
    "# create a new column for the hours\n",
    "df_small['hour'] = df_small.cts.dt.hour\n",
    "df_small"
   ]
  },
  {
   "cell_type": "code",
   "execution_count": 141,
   "id": "9fd84b1c",
   "metadata": {},
   "outputs": [
    {
     "data": {
      "text/html": [
       "<div>\n",
       "<style scoped>\n",
       "    .dataframe tbody tr th:only-of-type {\n",
       "        vertical-align: middle;\n",
       "    }\n",
       "\n",
       "    .dataframe tbody tr th {\n",
       "        vertical-align: top;\n",
       "    }\n",
       "\n",
       "    .dataframe thead th {\n",
       "        text-align: right;\n",
       "    }\n",
       "</style>\n",
       "<table border=\"1\" class=\"dataframe\">\n",
       "  <thead>\n",
       "    <tr style=\"text-align: right;\">\n",
       "      <th></th>\n",
       "      <th>hour</th>\n",
       "      <th>numbr_likes</th>\n",
       "      <th>number_comments</th>\n",
       "      <th>cts</th>\n",
       "    </tr>\n",
       "  </thead>\n",
       "  <tbody>\n",
       "    <tr>\n",
       "      <th>0</th>\n",
       "      <td>0</td>\n",
       "      <td>405531147</td>\n",
       "      <td>11424195</td>\n",
       "      <td>1547036</td>\n",
       "    </tr>\n",
       "    <tr>\n",
       "      <th>1</th>\n",
       "      <td>1</td>\n",
       "      <td>366904343</td>\n",
       "      <td>10573403</td>\n",
       "      <td>1376147</td>\n",
       "    </tr>\n",
       "    <tr>\n",
       "      <th>2</th>\n",
       "      <td>2</td>\n",
       "      <td>359792815</td>\n",
       "      <td>10030327</td>\n",
       "      <td>1290434</td>\n",
       "    </tr>\n",
       "    <tr>\n",
       "      <th>3</th>\n",
       "      <td>3</td>\n",
       "      <td>334536136</td>\n",
       "      <td>9022103</td>\n",
       "      <td>1231644</td>\n",
       "    </tr>\n",
       "    <tr>\n",
       "      <th>4</th>\n",
       "      <td>4</td>\n",
       "      <td>299011417</td>\n",
       "      <td>7868252</td>\n",
       "      <td>1135290</td>\n",
       "    </tr>\n",
       "    <tr>\n",
       "      <th>5</th>\n",
       "      <td>5</td>\n",
       "      <td>272760213</td>\n",
       "      <td>6979884</td>\n",
       "      <td>1044289</td>\n",
       "    </tr>\n",
       "    <tr>\n",
       "      <th>6</th>\n",
       "      <td>6</td>\n",
       "      <td>256610815</td>\n",
       "      <td>6803716</td>\n",
       "      <td>1011923</td>\n",
       "    </tr>\n",
       "    <tr>\n",
       "      <th>7</th>\n",
       "      <td>7</td>\n",
       "      <td>287453647</td>\n",
       "      <td>7682144</td>\n",
       "      <td>1093280</td>\n",
       "    </tr>\n",
       "    <tr>\n",
       "      <th>8</th>\n",
       "      <td>8</td>\n",
       "      <td>335766798</td>\n",
       "      <td>9772560</td>\n",
       "      <td>1267423</td>\n",
       "    </tr>\n",
       "    <tr>\n",
       "      <th>9</th>\n",
       "      <td>9</td>\n",
       "      <td>386046074</td>\n",
       "      <td>10607873</td>\n",
       "      <td>1434724</td>\n",
       "    </tr>\n",
       "    <tr>\n",
       "      <th>10</th>\n",
       "      <td>10</td>\n",
       "      <td>448877692</td>\n",
       "      <td>11918045</td>\n",
       "      <td>1571222</td>\n",
       "    </tr>\n",
       "    <tr>\n",
       "      <th>11</th>\n",
       "      <td>11</td>\n",
       "      <td>491089731</td>\n",
       "      <td>13374275</td>\n",
       "      <td>1720602</td>\n",
       "    </tr>\n",
       "    <tr>\n",
       "      <th>12</th>\n",
       "      <td>12</td>\n",
       "      <td>565612615</td>\n",
       "      <td>14815432</td>\n",
       "      <td>1868544</td>\n",
       "    </tr>\n",
       "    <tr>\n",
       "      <th>13</th>\n",
       "      <td>13</td>\n",
       "      <td>599232625</td>\n",
       "      <td>15565669</td>\n",
       "      <td>2025569</td>\n",
       "    </tr>\n",
       "    <tr>\n",
       "      <th>14</th>\n",
       "      <td>14</td>\n",
       "      <td>638222355</td>\n",
       "      <td>17087322</td>\n",
       "      <td>2158976</td>\n",
       "    </tr>\n",
       "    <tr>\n",
       "      <th>15</th>\n",
       "      <td>15</td>\n",
       "      <td>658908516</td>\n",
       "      <td>17105888</td>\n",
       "      <td>2263009</td>\n",
       "    </tr>\n",
       "    <tr>\n",
       "      <th>16</th>\n",
       "      <td>16</td>\n",
       "      <td>711298124</td>\n",
       "      <td>17887884</td>\n",
       "      <td>2341052</td>\n",
       "    </tr>\n",
       "    <tr>\n",
       "      <th>17</th>\n",
       "      <td>17</td>\n",
       "      <td>714858128</td>\n",
       "      <td>19154967</td>\n",
       "      <td>2423768</td>\n",
       "    </tr>\n",
       "    <tr>\n",
       "      <th>18</th>\n",
       "      <td>18</td>\n",
       "      <td>766064473</td>\n",
       "      <td>20332932</td>\n",
       "      <td>2486381</td>\n",
       "    </tr>\n",
       "    <tr>\n",
       "      <th>19</th>\n",
       "      <td>19</td>\n",
       "      <td>747502598</td>\n",
       "      <td>20050197</td>\n",
       "      <td>2499758</td>\n",
       "    </tr>\n",
       "    <tr>\n",
       "      <th>20</th>\n",
       "      <td>20</td>\n",
       "      <td>721190637</td>\n",
       "      <td>20257035</td>\n",
       "      <td>2495269</td>\n",
       "    </tr>\n",
       "    <tr>\n",
       "      <th>21</th>\n",
       "      <td>21</td>\n",
       "      <td>674444616</td>\n",
       "      <td>18261984</td>\n",
       "      <td>2414932</td>\n",
       "    </tr>\n",
       "    <tr>\n",
       "      <th>22</th>\n",
       "      <td>22</td>\n",
       "      <td>564970890</td>\n",
       "      <td>14997954</td>\n",
       "      <td>2167378</td>\n",
       "    </tr>\n",
       "    <tr>\n",
       "      <th>23</th>\n",
       "      <td>23</td>\n",
       "      <td>500491047</td>\n",
       "      <td>12785727</td>\n",
       "      <td>1838215</td>\n",
       "    </tr>\n",
       "  </tbody>\n",
       "</table>\n",
       "</div>"
      ],
      "text/plain": [
       "    hour  numbr_likes  number_comments      cts\n",
       "0      0    405531147         11424195  1547036\n",
       "1      1    366904343         10573403  1376147\n",
       "2      2    359792815         10030327  1290434\n",
       "3      3    334536136          9022103  1231644\n",
       "4      4    299011417          7868252  1135290\n",
       "5      5    272760213          6979884  1044289\n",
       "6      6    256610815          6803716  1011923\n",
       "7      7    287453647          7682144  1093280\n",
       "8      8    335766798          9772560  1267423\n",
       "9      9    386046074         10607873  1434724\n",
       "10    10    448877692         11918045  1571222\n",
       "11    11    491089731         13374275  1720602\n",
       "12    12    565612615         14815432  1868544\n",
       "13    13    599232625         15565669  2025569\n",
       "14    14    638222355         17087322  2158976\n",
       "15    15    658908516         17105888  2263009\n",
       "16    16    711298124         17887884  2341052\n",
       "17    17    714858128         19154967  2423768\n",
       "18    18    766064473         20332932  2486381\n",
       "19    19    747502598         20050197  2499758\n",
       "20    20    721190637         20257035  2495269\n",
       "21    21    674444616         18261984  2414932\n",
       "22    22    564970890         14997954  2167378\n",
       "23    23    500491047         12785727  1838215"
      ]
     },
     "execution_count": 141,
     "metadata": {},
     "output_type": "execute_result"
    }
   ],
   "source": [
    "# group the data by hour (hour, total #likes, total #comments, number of posts for each hour)\n",
    "df_grouped = df_small.groupby('hour').agg({'numbr_likes': 'sum',\n",
    "                             'number_comments': 'sum',\n",
    "                             'cts': 'count'}).reset_index()\n",
    "df_grouped"
   ]
  },
  {
   "cell_type": "code",
   "execution_count": 146,
   "id": "f40bd8f6",
   "metadata": {},
   "outputs": [],
   "source": [
    "# calculate the total # likes and average # comments for each of the time intervals\n",
    "\n",
    "# empty list where we'll store the total number of likes & comments for the time intervals\n",
    "# there are 7 time intervals\n",
    "likes_comm = np.zeros((7,2))\n",
    "\n",
    "for i, row in df_grouped.iterrows():\n",
    "    if (6<=row['hour']) and (row['hour']<=10):\n",
    "        likes_comm[0][0] += row['numbr_likes']\n",
    "        likes_comm[0][1] += row['number_comments']\n",
    "    elif (11<=row['hour']) and (row['hour']<=13):\n",
    "        likes_comm[1][0] += row['numbr_likes']\n",
    "        likes_comm[1][1] += row['number_comments']\n",
    "    elif (14<=row['hour']) and (row['hour']<=16):\n",
    "        likes_comm[2][0] += row['numbr_likes']\n",
    "        likes_comm[2][1] += row['number_comments']\n",
    "    elif (17<=row['hour']) and (row['hour']<=19):\n",
    "        likes_comm[3][0] += row['numbr_likes']\n",
    "        likes_comm[3][1] += row['number_comments']\n",
    "    elif (20<=row['hour']) and (row['hour']<=23):\n",
    "        likes_comm[4][0] += row['numbr_likes']\n",
    "        likes_comm[4][1] += row['number_comments']\n",
    "    elif (0<=row['hour']) and (row['hour']<=2):\n",
    "        likes_comm[5][0] += row['numbr_likes']\n",
    "        likes_comm[5][1] += row['number_comments']\n",
    "    else:\n",
    "        likes_comm[6][0] += row['numbr_likes']\n",
    "        likes_comm[6][1] += row['number_comments']\n"
   ]
  },
  {
   "cell_type": "code",
   "execution_count": 147,
   "id": "7d6a0dbe",
   "metadata": {},
   "outputs": [
    {
     "data": {
      "text/html": [
       "<div>\n",
       "<style scoped>\n",
       "    .dataframe tbody tr th:only-of-type {\n",
       "        vertical-align: middle;\n",
       "    }\n",
       "\n",
       "    .dataframe tbody tr th {\n",
       "        vertical-align: top;\n",
       "    }\n",
       "\n",
       "    .dataframe thead th {\n",
       "        text-align: right;\n",
       "    }\n",
       "</style>\n",
       "<table border=\"1\" class=\"dataframe\">\n",
       "  <thead>\n",
       "    <tr style=\"text-align: right;\">\n",
       "      <th></th>\n",
       "      <th>sum_likes</th>\n",
       "      <th>sum_comm</th>\n",
       "      <th>time_int</th>\n",
       "      <th>numb_posts</th>\n",
       "    </tr>\n",
       "  </thead>\n",
       "  <tbody>\n",
       "    <tr>\n",
       "      <th>0</th>\n",
       "      <td>1714755026</td>\n",
       "      <td>46784338</td>\n",
       "      <td>(6, 10)</td>\n",
       "      <td>6378572</td>\n",
       "    </tr>\n",
       "    <tr>\n",
       "      <th>1</th>\n",
       "      <td>1655934971</td>\n",
       "      <td>43755376</td>\n",
       "      <td>(11, 13)</td>\n",
       "      <td>5614715</td>\n",
       "    </tr>\n",
       "    <tr>\n",
       "      <th>2</th>\n",
       "      <td>2008428995</td>\n",
       "      <td>52081094</td>\n",
       "      <td>(14, 16)</td>\n",
       "      <td>6763037</td>\n",
       "    </tr>\n",
       "    <tr>\n",
       "      <th>3</th>\n",
       "      <td>2228425199</td>\n",
       "      <td>59538096</td>\n",
       "      <td>(17, 19)</td>\n",
       "      <td>7409907</td>\n",
       "    </tr>\n",
       "    <tr>\n",
       "      <th>4</th>\n",
       "      <td>2461097190</td>\n",
       "      <td>66302700</td>\n",
       "      <td>(20, 23)</td>\n",
       "      <td>8915794</td>\n",
       "    </tr>\n",
       "    <tr>\n",
       "      <th>5</th>\n",
       "      <td>1132228305</td>\n",
       "      <td>32027925</td>\n",
       "      <td>(0, 2)</td>\n",
       "      <td>4213617</td>\n",
       "    </tr>\n",
       "    <tr>\n",
       "      <th>6</th>\n",
       "      <td>906307766</td>\n",
       "      <td>23870239</td>\n",
       "      <td>(3, 5)</td>\n",
       "      <td>3411223</td>\n",
       "    </tr>\n",
       "  </tbody>\n",
       "</table>\n",
       "</div>"
      ],
      "text/plain": [
       "   sum_likes  sum_comm  time_int  numb_posts\n",
       "0 1714755026  46784338   (6, 10)     6378572\n",
       "1 1655934971  43755376  (11, 13)     5614715\n",
       "2 2008428995  52081094  (14, 16)     6763037\n",
       "3 2228425199  59538096  (17, 19)     7409907\n",
       "4 2461097190  66302700  (20, 23)     8915794\n",
       "5 1132228305  32027925    (0, 2)     4213617\n",
       "6  906307766  23870239    (3, 5)     3411223"
      ]
     },
     "execution_count": 147,
     "metadata": {},
     "output_type": "execute_result"
    }
   ],
   "source": [
    "# create a dataframe with each row corresponding to one time interval\n",
    "\n",
    "df_avg = pd.DataFrame(likes_comm, columns=['sum_likes','sum_comm'])\n",
    "df_avg['time_int'] = [k for k,v in likes_time_int.items()]\n",
    "df_avg['numb_posts'] = [v for k,v in likes_time_int.items()]\n",
    "df_avg"
   ]
  },
  {
   "cell_type": "code",
   "execution_count": 148,
   "id": "8b426a1b",
   "metadata": {},
   "outputs": [],
   "source": [
    "pd.options.display.float_format = '{:.3f}'.format"
   ]
  },
  {
   "cell_type": "code",
   "execution_count": 149,
   "id": "8e4877e8",
   "metadata": {},
   "outputs": [
    {
     "data": {
      "text/html": [
       "<div>\n",
       "<style scoped>\n",
       "    .dataframe tbody tr th:only-of-type {\n",
       "        vertical-align: middle;\n",
       "    }\n",
       "\n",
       "    .dataframe tbody tr th {\n",
       "        vertical-align: top;\n",
       "    }\n",
       "\n",
       "    .dataframe thead th {\n",
       "        text-align: right;\n",
       "    }\n",
       "</style>\n",
       "<table border=\"1\" class=\"dataframe\">\n",
       "  <thead>\n",
       "    <tr style=\"text-align: right;\">\n",
       "      <th></th>\n",
       "      <th>sum_likes</th>\n",
       "      <th>sum_comm</th>\n",
       "      <th>time_int</th>\n",
       "      <th>numb_posts</th>\n",
       "      <th>avg_likes</th>\n",
       "      <th>avg_comm</th>\n",
       "    </tr>\n",
       "  </thead>\n",
       "  <tbody>\n",
       "    <tr>\n",
       "      <th>0</th>\n",
       "      <td>1714755026.000</td>\n",
       "      <td>46784338.000</td>\n",
       "      <td>(6, 10)</td>\n",
       "      <td>6378572</td>\n",
       "      <td>268.831</td>\n",
       "      <td>7.335</td>\n",
       "    </tr>\n",
       "    <tr>\n",
       "      <th>1</th>\n",
       "      <td>1655934971.000</td>\n",
       "      <td>43755376.000</td>\n",
       "      <td>(11, 13)</td>\n",
       "      <td>5614715</td>\n",
       "      <td>294.928</td>\n",
       "      <td>7.793</td>\n",
       "    </tr>\n",
       "    <tr>\n",
       "      <th>2</th>\n",
       "      <td>2008428995.000</td>\n",
       "      <td>52081094.000</td>\n",
       "      <td>(14, 16)</td>\n",
       "      <td>6763037</td>\n",
       "      <td>296.971</td>\n",
       "      <td>7.701</td>\n",
       "    </tr>\n",
       "    <tr>\n",
       "      <th>3</th>\n",
       "      <td>2228425199.000</td>\n",
       "      <td>59538096.000</td>\n",
       "      <td>(17, 19)</td>\n",
       "      <td>7409907</td>\n",
       "      <td>300.736</td>\n",
       "      <td>8.035</td>\n",
       "    </tr>\n",
       "    <tr>\n",
       "      <th>4</th>\n",
       "      <td>2461097190.000</td>\n",
       "      <td>66302700.000</td>\n",
       "      <td>(20, 23)</td>\n",
       "      <td>8915794</td>\n",
       "      <td>276.038</td>\n",
       "      <td>7.437</td>\n",
       "    </tr>\n",
       "    <tr>\n",
       "      <th>5</th>\n",
       "      <td>1132228305.000</td>\n",
       "      <td>32027925.000</td>\n",
       "      <td>(0, 2)</td>\n",
       "      <td>4213617</td>\n",
       "      <td>268.707</td>\n",
       "      <td>7.601</td>\n",
       "    </tr>\n",
       "    <tr>\n",
       "      <th>6</th>\n",
       "      <td>906307766.000</td>\n",
       "      <td>23870239.000</td>\n",
       "      <td>(3, 5)</td>\n",
       "      <td>3411223</td>\n",
       "      <td>265.684</td>\n",
       "      <td>6.998</td>\n",
       "    </tr>\n",
       "  </tbody>\n",
       "</table>\n",
       "</div>"
      ],
      "text/plain": [
       "       sum_likes     sum_comm  time_int  numb_posts  avg_likes  avg_comm\n",
       "0 1714755026.000 46784338.000   (6, 10)     6378572    268.831     7.335\n",
       "1 1655934971.000 43755376.000  (11, 13)     5614715    294.928     7.793\n",
       "2 2008428995.000 52081094.000  (14, 16)     6763037    296.971     7.701\n",
       "3 2228425199.000 59538096.000  (17, 19)     7409907    300.736     8.035\n",
       "4 2461097190.000 66302700.000  (20, 23)     8915794    276.038     7.437\n",
       "5 1132228305.000 32027925.000    (0, 2)     4213617    268.707     7.601\n",
       "6  906307766.000 23870239.000    (3, 5)     3411223    265.684     6.998"
      ]
     },
     "execution_count": 149,
     "metadata": {},
     "output_type": "execute_result"
    }
   ],
   "source": [
    "# calculate the average number of likes and comments for each time interval\n",
    "df_avg['avg_likes'] = df_avg['sum_likes'] / df_avg['numb_posts']\n",
    "df_avg['avg_comm'] = df_avg['sum_comm'] / df_avg['numb_posts']\n",
    "df_avg"
   ]
  },
  {
   "cell_type": "code",
   "execution_count": 150,
   "id": "750fa98c",
   "metadata": {},
   "outputs": [
    {
     "data": {
      "image/png": "[encoded data removed]",
      "text/plain": [
       "<Figure size 720x360 with 1 Axes>"
      ]
     },
     "metadata": {},
     "output_type": "display_data"
    }
   ],
   "source": [
    "# plot the average likes and comments for each time interval\n",
    "labels = df_avg['time_int']\n",
    "\n",
    "x = np.arange(df_avg.shape[0])  # label locations\n",
    "width = 0.35  # width of the bars\n",
    "\n",
    "fig, ax = plt.subplots(figsize=(10, 5))\n",
    "\n",
    "# plot the avg # likes\n",
    "h1 = ax.bar(x - width/2, df_avg['avg_likes'], width, label = 'Avg Likes')\n",
    "\n",
    "# plot the avg # comments\n",
    "h2 = ax.bar(x + width/2, df_avg['avg_comm'], width, label = 'Avg Comments')\n",
    "\n",
    "ax.set_xticks(x, labels)\n",
    "\n",
    "ax.set_title('Average Likes & Comments per Time Interval')\n",
    "ax.set_xlabel('Time Intervals')\n",
    "ax.set_ylabel('Average Likes & Comments')\n",
    "\n",
    "ax.bar_label(h1, padding=3)\n",
    "ax.bar_label(h2, padding=3)\n",
    "\n",
    "ax.legend()\n",
    "\n",
    "plt.show()"
   ]
  },
  {
   "cell_type": "markdown",
   "id": "461538e1",
   "metadata": {},
   "source": [
    "The time interval with highest average number of likes is (17,19).\n",
    "\n",
    "The time interval with highest average number of comments is the same time interval (17,19)."
   ]
  },
  {
   "cell_type": "code",
   "execution_count": null,
   "id": "52795684",
   "metadata": {},
   "outputs": [],
   "source": []
  },
  {
   "cell_type": "markdown",
   "id": "74e4e80f",
   "metadata": {},
   "source": [
    "# RQ 7"
   ]
  },
  {
   "cell_type": "markdown",
   "id": "8ba76b23",
   "metadata": {},
   "source": [
    "#### What's the probability that a post receives more than 20% \"likes\" of the number of followers a user has?\n"
   ]
  },
  {
   "cell_type": "code",
   "execution_count": 151,
   "id": "7b519a93",
   "metadata": {},
   "outputs": [],
   "source": [
    "num_fol = pd.read_csv('instagram_profiles.csv', delimiter='\\t', usecols=['profile_id','followers'], low_memory=True)"
   ]
  },
  {
   "cell_type": "code",
   "execution_count": 152,
   "id": "921e5d0b",
   "metadata": {},
   "outputs": [],
   "source": [
    "num_fol = num_fol[num_fol['profile_id'].notna() & num_fol['followers'].notna()] # remove the NAs\n",
    "num_fol = num_fol.drop_duplicates(keep='first')  #remove the duplicates\n",
    "num_fol['profile_id'] = num_fol['profile_id'].astype('int64')   # reduce used memory "
   ]
  },
  {
   "cell_type": "code",
   "execution_count": 153,
   "id": "a8a86fb7",
   "metadata": {},
   "outputs": [
    {
     "data": {
      "text/plain": [
       "27"
      ]
     },
     "execution_count": 153,
     "metadata": {},
     "output_type": "execute_result"
    }
   ],
   "source": [
    "# there are 27 profile_id duplicates!!!\n",
    "num_fol['profile_id'].duplicated().sum()"
   ]
  },
  {
   "cell_type": "code",
   "execution_count": 154,
   "id": "dd74ef7d",
   "metadata": {},
   "outputs": [
    {
     "data": {
      "text/html": [
       "<div>\n",
       "<style scoped>\n",
       "    .dataframe tbody tr th:only-of-type {\n",
       "        vertical-align: middle;\n",
       "    }\n",
       "\n",
       "    .dataframe tbody tr th {\n",
       "        vertical-align: top;\n",
       "    }\n",
       "\n",
       "    .dataframe thead th {\n",
       "        text-align: right;\n",
       "    }\n",
       "</style>\n",
       "<table border=\"1\" class=\"dataframe\">\n",
       "  <thead>\n",
       "    <tr style=\"text-align: right;\">\n",
       "      <th></th>\n",
       "      <th>profile_id</th>\n",
       "      <th>followers</th>\n",
       "    </tr>\n",
       "  </thead>\n",
       "  <tbody>\n",
       "    <tr>\n",
       "      <th>0</th>\n",
       "      <td>4721049632</td>\n",
       "      <td>146.000</td>\n",
       "    </tr>\n",
       "    <tr>\n",
       "      <th>1</th>\n",
       "      <td>590583002</td>\n",
       "      <td>1145.000</td>\n",
       "    </tr>\n",
       "    <tr>\n",
       "      <th>2</th>\n",
       "      <td>1074146658</td>\n",
       "      <td>324.000</td>\n",
       "    </tr>\n",
       "    <tr>\n",
       "      <th>5</th>\n",
       "      <td>145064167</td>\n",
       "      <td>192.000</td>\n",
       "    </tr>\n",
       "    <tr>\n",
       "      <th>6</th>\n",
       "      <td>2061867521</td>\n",
       "      <td>4137.000</td>\n",
       "    </tr>\n",
       "  </tbody>\n",
       "</table>\n",
       "</div>"
      ],
      "text/plain": [
       "   profile_id  followers\n",
       "0  4721049632    146.000\n",
       "1   590583002   1145.000\n",
       "2  1074146658    324.000\n",
       "5   145064167    192.000\n",
       "6  2061867521   4137.000"
      ]
     },
     "execution_count": 154,
     "metadata": {},
     "output_type": "execute_result"
    }
   ],
   "source": [
    "num_fol.head()"
   ]
  },
  {
   "cell_type": "markdown",
   "id": "301750f5",
   "metadata": {},
   "source": [
    "27 in 3447151 accounts could be negligible. So, we decided to keep the duplicates.\n",
    "\n",
    "Duplicates might come from the fact that a person has deleted his/her account and another person created a new account that has the same id."
   ]
  },
  {
   "cell_type": "code",
   "execution_count": 155,
   "id": "b2816d79",
   "metadata": {},
   "outputs": [
    {
     "name": "stderr",
     "output_type": "stream",
     "text": [
      "143it [04:38,  1.95s/it]\n"
     ]
    }
   ],
   "source": [
    "from tqdm import tqdm\n",
    "\n",
    "som = 0\n",
    "for chunk in tqdm(pd.read_csv('instagram_posts.csv', delimiter='\\t', usecols=['profile_id','numbr_likes'], low_memory=True, chunksize=300000)):\n",
    "    chunk = chunk[chunk['profile_id'].notna() & chunk['numbr_likes'].notna()] # remove na\n",
    "    a = chunk.merge(num_fol,right_on='profile_id',left_on='profile_id')       # merge the dataframe num_fol with current chunk \n",
    "    som += a[a['followers']/5 < a['numbr_likes']]['profile_id'].count()                     # count posts for which likes > 20% user's followers"
   ]
  },
  {
   "cell_type": "code",
   "execution_count": 156,
   "id": "06c78099",
   "metadata": {},
   "outputs": [
    {
     "data": {
      "text/plain": [
       "3882567"
      ]
     },
     "execution_count": 156,
     "metadata": {},
     "output_type": "execute_result"
    }
   ],
   "source": [
    "som"
   ]
  },
  {
   "cell_type": "code",
   "execution_count": 157,
   "id": "a4f7583f",
   "metadata": {},
   "outputs": [],
   "source": [
    "# shape[0] gives us the total number of posts\n",
    "post = pd.read_csv('instagram_posts.csv', delimiter='\\t', usecols=['post_id'], low_memory=True)"
   ]
  },
  {
   "cell_type": "code",
   "execution_count": 158,
   "id": "ac447d7f",
   "metadata": {},
   "outputs": [
    {
     "name": "stdout",
     "output_type": "stream",
     "text": [
      "The probab. that a post receives > 20% \"likes\" of the #followers a user has:  0.09090491902905529\n"
     ]
    }
   ],
   "source": [
    "# to calculate the probability we take the number of posts that have > 20% likes of the number of followers\n",
    "# and divide by the total number of posts\n",
    "\n",
    "print('The probab. that a post receives > 20% \"likes\" of the #followers a user has: ', som/post.shape[0])"
   ]
  },
  {
   "cell_type": "markdown",
   "id": "247c2caa",
   "metadata": {},
   "source": [
    "#### Do users usually return to locations? Extract the probability that a user returns to a site after having posted it in the past. Does that probability make sense to you? Explain why or why not."
   ]
  },
  {
   "cell_type": "code",
   "execution_count": 159,
   "id": "aaca8367",
   "metadata": {},
   "outputs": [],
   "source": [
    "df_proloc = pd.read_csv('instagram_posts.csv', delimiter='\\t', usecols=['profile_id', 'location_id'], low_memory=True)"
   ]
  },
  {
   "cell_type": "code",
   "execution_count": 160,
   "id": "e5d73ab7",
   "metadata": {},
   "outputs": [],
   "source": [
    "df_proloc = df_proloc[df_proloc['profile_id'].notna() & df_proloc['location_id'].notna()] # remove na"
   ]
  },
  {
   "cell_type": "code",
   "execution_count": 161,
   "id": "00541908",
   "metadata": {},
   "outputs": [
    {
     "data": {
      "text/plain": [
       "21         8492416500.000\n",
       "46          176274494.000\n",
       "50         1012018282.000\n",
       "60           46330013.000\n",
       "105        2359183323.000\n",
       "                ...      \n",
       "42710097   8944852162.000\n",
       "42710121   1270982581.000\n",
       "42710136   7618508812.000\n",
       "42710154   9184891156.000\n",
       "42710169   5671250088.000\n",
       "Name: profile_id, Length: 2190057, dtype: float64"
      ]
     },
     "execution_count": 161,
     "metadata": {},
     "output_type": "execute_result"
    }
   ],
   "source": [
    "df_proloc[df_proloc.duplicated()]['profile_id'].drop_duplicates(keep='first') # cerco quanti in proloc hanno duplicati, \n",
    "                                                                              # poi conto solo i profile_id diversi: sono 2190057\n",
    "                                                                              # quindi 2190057 profili_id sono \n",
    "                                                                              # tornati in un posto già visitato:\n",
    "                                                                              # ora basta fare 2190057/(tot_profili_id)"
   ]
  },
  {
   "cell_type": "markdown",
   "id": "679811fa",
   "metadata": {},
   "source": [
    "There are users who return to locations that they have already visited.\n",
    "\n",
    "We count the number of duplicates in the posts dataset based on proile id and location id. Then we count the number of different profile ids: there are 2190057 unique profile ids (in the duplicated observations). This means that 2190057 profiles_id have returned to a previously visited place.\n",
    "\n",
    "To find the probability we divide the number of unique ids 2190057 by the total number of profiles that have visited a location more than once (tot_profil_id)"
   ]
  },
  {
   "cell_type": "code",
   "execution_count": 163,
   "id": "d1350ff0",
   "metadata": {},
   "outputs": [],
   "source": [
    "pd.options.display.float_format = '{:.6f}'.format"
   ]
  },
  {
   "cell_type": "code",
   "execution_count": 164,
   "id": "86e623f0",
   "metadata": {},
   "outputs": [
    {
     "data": {
      "text/plain": [
       "0          0.000979\n",
       "1          0.000393\n",
       "2          0.006987\n",
       "3          0.001192\n",
       "4          0.001935\n",
       "             ...   \n",
       "42710186   0.000394\n",
       "42710190   0.000312\n",
       "42710191   0.000318\n",
       "42710192   0.000394\n",
       "42710194   0.000666\n",
       "Name: profile_id, Length: 11331493, dtype: float64"
      ]
     },
     "execution_count": 164,
     "metadata": {},
     "output_type": "execute_result"
    }
   ],
   "source": [
    "2190057/(df_proloc['profile_id'].drop_duplicates(keep='first'))"
   ]
  },
  {
   "cell_type": "markdown",
   "id": "85f3a231",
   "metadata": {},
   "source": [
    "This probability may not make sense because a lot of people tend to post at their homes or in their offices several times. \n",
    "\n",
    "In this case we are more interested if the users have visited some place and have returned to it. Instead, here, we also count the number of times a user has posted for example from home."
   ]
  },
  {
   "cell_type": "code",
   "execution_count": null,
   "id": "84206141",
   "metadata": {},
   "outputs": [],
   "source": []
  },
  {
   "cell_type": "markdown",
   "id": "90a9c80b",
   "metadata": {},
   "source": [
    "# RQ 8"
   ]
  },
  {
   "cell_type": "code",
   "execution_count": 165,
   "id": "07fc8565",
   "metadata": {},
   "outputs": [],
   "source": [
    "import seaborn as sns\n",
    "from scipy import stats\n",
    "from statistics import mode\n",
    "\n",
    "from matplotlib import pyplot as plt\n",
    "from sklearn.linear_model import LinearRegression"
   ]
  },
  {
   "cell_type": "markdown",
   "id": "7d2b5ba3",
   "metadata": {},
   "source": [
    "#### Does more “likes” also mean more comments? Plot a scatter plot of “likes” vs comments for posts."
   ]
  },
  {
   "cell_type": "code",
   "execution_count": 166,
   "id": "b80be5bc",
   "metadata": {},
   "outputs": [],
   "source": [
    "post=pd.read_csv('instagram_posts.csv', delimiter='\\t', usecols=['numbr_likes','number_comments'], low_memory=True)"
   ]
  },
  {
   "cell_type": "code",
   "execution_count": 167,
   "id": "a367b674",
   "metadata": {},
   "outputs": [],
   "source": [
    "post1 = post.copy()"
   ]
  },
  {
   "cell_type": "code",
   "execution_count": 168,
   "id": "f38fdcf5",
   "metadata": {},
   "outputs": [],
   "source": [
    "#We use logaritmic scale for a meaningful plot\n",
    "post['numbr_likes'] = post['numbr_likes'].apply(lambda x: np.log(x+1))\n"
   ]
  },
  {
   "cell_type": "code",
   "execution_count": 169,
   "id": "818d2eef",
   "metadata": {},
   "outputs": [
    {
     "data": {
      "text/html": [
       "<div>\n",
       "<style scoped>\n",
       "    .dataframe tbody tr th:only-of-type {\n",
       "        vertical-align: middle;\n",
       "    }\n",
       "\n",
       "    .dataframe tbody tr th {\n",
       "        vertical-align: top;\n",
       "    }\n",
       "\n",
       "    .dataframe thead th {\n",
       "        text-align: right;\n",
       "    }\n",
       "</style>\n",
       "<table border=\"1\" class=\"dataframe\">\n",
       "  <thead>\n",
       "    <tr style=\"text-align: right;\">\n",
       "      <th></th>\n",
       "      <th>numbr_likes</th>\n",
       "      <th>number_comments</th>\n",
       "    </tr>\n",
       "  </thead>\n",
       "  <tbody>\n",
       "    <tr>\n",
       "      <th>0</th>\n",
       "      <td>4.394449</td>\n",
       "      <td>0.000000</td>\n",
       "    </tr>\n",
       "    <tr>\n",
       "      <th>1</th>\n",
       "      <td>3.258097</td>\n",
       "      <td>1.000000</td>\n",
       "    </tr>\n",
       "    <tr>\n",
       "      <th>2</th>\n",
       "      <td>2.302585</td>\n",
       "      <td>0.000000</td>\n",
       "    </tr>\n",
       "    <tr>\n",
       "      <th>3</th>\n",
       "      <td>1.609438</td>\n",
       "      <td>0.000000</td>\n",
       "    </tr>\n",
       "    <tr>\n",
       "      <th>4</th>\n",
       "      <td>2.197225</td>\n",
       "      <td>0.000000</td>\n",
       "    </tr>\n",
       "    <tr>\n",
       "      <th>...</th>\n",
       "      <td>...</td>\n",
       "      <td>...</td>\n",
       "    </tr>\n",
       "    <tr>\n",
       "      <th>42710192</th>\n",
       "      <td>4.317488</td>\n",
       "      <td>0.000000</td>\n",
       "    </tr>\n",
       "    <tr>\n",
       "      <th>42710193</th>\n",
       "      <td>3.912023</td>\n",
       "      <td>0.000000</td>\n",
       "    </tr>\n",
       "    <tr>\n",
       "      <th>42710194</th>\n",
       "      <td>2.944439</td>\n",
       "      <td>0.000000</td>\n",
       "    </tr>\n",
       "    <tr>\n",
       "      <th>42710195</th>\n",
       "      <td>3.332205</td>\n",
       "      <td>1.000000</td>\n",
       "    </tr>\n",
       "    <tr>\n",
       "      <th>42710196</th>\n",
       "      <td>7.509335</td>\n",
       "      <td>49.000000</td>\n",
       "    </tr>\n",
       "  </tbody>\n",
       "</table>\n",
       "<p>42710197 rows × 2 columns</p>\n",
       "</div>"
      ],
      "text/plain": [
       "          numbr_likes  number_comments\n",
       "0            4.394449         0.000000\n",
       "1            3.258097         1.000000\n",
       "2            2.302585         0.000000\n",
       "3            1.609438         0.000000\n",
       "4            2.197225         0.000000\n",
       "...               ...              ...\n",
       "42710192     4.317488         0.000000\n",
       "42710193     3.912023         0.000000\n",
       "42710194     2.944439         0.000000\n",
       "42710195     3.332205         1.000000\n",
       "42710196     7.509335        49.000000\n",
       "\n",
       "[42710197 rows x 2 columns]"
      ]
     },
     "execution_count": 169,
     "metadata": {},
     "output_type": "execute_result"
    }
   ],
   "source": [
    "post"
   ]
  },
  {
   "cell_type": "code",
   "execution_count": 170,
   "id": "f89571b1",
   "metadata": {},
   "outputs": [],
   "source": [
    "# take only the posts that have a value for number of likes and comments\n",
    "post = post[post['numbr_likes'].notna() & post['number_comments'].notna()]"
   ]
  },
  {
   "cell_type": "code",
   "execution_count": 171,
   "id": "1b03bef3",
   "metadata": {},
   "outputs": [
    {
     "data": {
      "text/plain": [
       "<AxesSubplot:xlabel='numbr_likes', ylabel='number_comments'>"
      ]
     },
     "execution_count": 171,
     "metadata": {},
     "output_type": "execute_result"
    },
    {
     "data": {
      "image/png": "[encoded data removed]",
      "text/plain": [
       "<Figure size 1080x504 with 1 Axes>"
      ]
     },
     "metadata": {},
     "output_type": "display_data"
    }
   ],
   "source": [
    "sns.scatterplot(data=post, x='numbr_likes', y='number_comments')"
   ]
  },
  {
   "cell_type": "markdown",
   "id": "2a1324f3",
   "metadata": {},
   "source": [
    "We can see that as the number of likes increases the number of comments also tend to increase."
   ]
  },
  {
   "cell_type": "markdown",
   "id": "eccc10c8",
   "metadata": {},
   "source": [
    "#### Can you find any significant relationship between the time a user publishes a post and the number of comments and “likes”?  Use an appropriate statistical test or technique and support your choice."
   ]
  },
  {
   "cell_type": "code",
   "execution_count": 172,
   "id": "6b41f4b7",
   "metadata": {},
   "outputs": [],
   "source": [
    "import scipy"
   ]
  },
  {
   "cell_type": "code",
   "execution_count": 173,
   "id": "1d65b1ff",
   "metadata": {},
   "outputs": [],
   "source": [
    "df_tlc = pd.read_csv('instagram_posts.csv', delimiter='\\t', usecols=['numbr_likes','number_comments','cts'], low_memory=True)"
   ]
  },
  {
   "cell_type": "code",
   "execution_count": 174,
   "id": "3a19423e",
   "metadata": {},
   "outputs": [],
   "source": [
    "# drop observations with missing values\n",
    "df_tlc = df_tlc[df_tlc['numbr_likes'].notna() & df_tlc['number_comments'].notna() & df_tlc['cts'].notna()]"
   ]
  },
  {
   "cell_type": "code",
   "execution_count": 175,
   "id": "620a8449",
   "metadata": {},
   "outputs": [],
   "source": [
    "df_tlc['numbr_likes'] = df_tlc['numbr_likes'].astype('int32')\n",
    "df_tlc['number_comments'] = df_tlc['number_comments'].astype('int32')\n",
    "df_tlc.cts = pd.to_datetime(df_tlc.cts)"
   ]
  },
  {
   "cell_type": "code",
   "execution_count": 176,
   "id": "378a5377",
   "metadata": {},
   "outputs": [
    {
     "data": {
      "text/plain": [
       "(0.001153675463218047, 4.72399662013337e-14)"
      ]
     },
     "execution_count": 176,
     "metadata": {},
     "output_type": "execute_result"
    }
   ],
   "source": [
    "# calculate the Pearson correlation\n",
    "scipy.stats.pearsonr(df_tlc.cts.dt.hour, df_tlc['numbr_likes']) #(pearson coef. , p-value)"
   ]
  },
  {
   "cell_type": "code",
   "execution_count": 177,
   "id": "7fca2695",
   "metadata": {},
   "outputs": [
    {
     "data": {
      "text/plain": [
       "(0.0005060504676036676, 0.0009427911225358622)"
      ]
     },
     "execution_count": 177,
     "metadata": {},
     "output_type": "execute_result"
    }
   ],
   "source": [
    "scipy.stats.pearsonr(df_tlc.cts.dt.hour, df_tlc['number_comments']) #(pearson coef. , p-value)"
   ]
  },
  {
   "cell_type": "markdown",
   "id": "19468370",
   "metadata": {},
   "source": [
    "We use a function that gives us the Pearson's coefficient and the p-value. In both cases, the Pearson's coef. is near 0. The p-value is less than 0.05 which means that the Pearson coeff. is statistically significant. Therefore, we can trust the Pearson coefficient and conclude that there is no relationship between the number of likes and the time the post was published and between the number of comments and the time the post was published."
   ]
  },
  {
   "cell_type": "markdown",
   "id": "4705fbeb",
   "metadata": {},
   "source": [
    "#### What’s the distribution of followers? Plot the empirical distribution of followers amongst all users and extract the mean, mode, and quantiles. Interpret those figures."
   ]
  },
  {
   "cell_type": "code",
   "execution_count": 178,
   "id": "ce3141d3",
   "metadata": {},
   "outputs": [],
   "source": [
    "fol = pd.read_csv('instagram_profiles.csv', delimiter='\\t', usecols=['profile_id','followers'], low_memory=True)\n",
    "fol = fol.drop_duplicates(keep='first')\n",
    "fol = fol[fol['followers'].notna()]\n"
   ]
  },
  {
   "cell_type": "code",
   "execution_count": 179,
   "id": "c6782250",
   "metadata": {},
   "outputs": [],
   "source": [
    "fol['followers'] = fol['followers'].astype('int32')"
   ]
  },
  {
   "cell_type": "code",
   "execution_count": 180,
   "id": "01a7bab8",
   "metadata": {},
   "outputs": [
    {
     "data": {
      "text/plain": [
       "(3448803, 2)"
      ]
     },
     "execution_count": 180,
     "metadata": {},
     "output_type": "execute_result"
    }
   ],
   "source": [
    "fol.shape"
   ]
  },
  {
   "cell_type": "code",
   "execution_count": 181,
   "id": "bb56681f",
   "metadata": {},
   "outputs": [],
   "source": [
    "foll = (fol['followers']+1).copy() / fol['followers'].sum()"
   ]
  },
  {
   "cell_type": "code",
   "execution_count": 182,
   "id": "18e150de",
   "metadata": {},
   "outputs": [
    {
     "data": {
      "text/plain": [
       "<AxesSubplot:xlabel='followers', ylabel='Count'>"
      ]
     },
     "execution_count": 182,
     "metadata": {},
     "output_type": "execute_result"
    },
    {
     "data": {
      "image/png": "[encoded data removed]",
      "text/plain": [
       "<Figure size 1080x504 with 1 Axes>"
      ]
     },
     "metadata": {},
     "output_type": "display_data"
    }
   ],
   "source": [
    "sns.histplot(data=foll,bins=100, log_scale=10)"
   ]
  },
  {
   "cell_type": "markdown",
   "id": "8ec652c6",
   "metadata": {},
   "source": [
    "##### Mean"
   ]
  },
  {
   "cell_type": "code",
   "execution_count": 183,
   "id": "aa2d75b9",
   "metadata": {},
   "outputs": [
    {
     "data": {
      "text/plain": [
       "4744.477709512546"
      ]
     },
     "execution_count": 183,
     "metadata": {},
     "output_type": "execute_result"
    }
   ],
   "source": [
    "np.mean(fol['followers'])"
   ]
  },
  {
   "cell_type": "markdown",
   "id": "a0c14d72",
   "metadata": {},
   "source": [
    "##### Mode"
   ]
  },
  {
   "cell_type": "code",
   "execution_count": 184,
   "id": "66ef0242",
   "metadata": {},
   "outputs": [
    {
     "data": {
      "text/plain": [
       "0"
      ]
     },
     "execution_count": 184,
     "metadata": {},
     "output_type": "execute_result"
    }
   ],
   "source": [
    "mode(fol['followers'])"
   ]
  },
  {
   "cell_type": "code",
   "execution_count": 185,
   "id": "766f2f4f",
   "metadata": {},
   "outputs": [
    {
     "data": {
      "text/plain": [
       "0     22017\n",
       "1      9040\n",
       "50     6548\n",
       "49     6455\n",
       "51     6370\n",
       "Name: followers, dtype: int64"
      ]
     },
     "execution_count": 185,
     "metadata": {},
     "output_type": "execute_result"
    }
   ],
   "source": [
    "fol['followers'].value_counts().sort_values(ascending=False).head()"
   ]
  },
  {
   "cell_type": "markdown",
   "id": "81b8e85b",
   "metadata": {},
   "source": [
    "##### Quantiles"
   ]
  },
  {
   "cell_type": "code",
   "execution_count": 186,
   "id": "c8580a51",
   "metadata": {},
   "outputs": [],
   "source": [
    "a = np.quantile(fol['followers'], np.linspace(0,0.98,100))"
   ]
  },
  {
   "cell_type": "code",
   "execution_count": 187,
   "id": "bec254e9",
   "metadata": {},
   "outputs": [
    {
     "data": {
      "text/plain": [
       "<AxesSubplot:>"
      ]
     },
     "execution_count": 187,
     "metadata": {},
     "output_type": "execute_result"
    },
    {
     "data": {
      "image/png": "[encoded data removed]",
      "text/plain": [
       "<Figure size 1080x504 with 1 Axes>"
      ]
     },
     "metadata": {},
     "output_type": "display_data"
    }
   ],
   "source": [
    "sns.lineplot(x=np.linspace(0,0.98,100), y=a)"
   ]
  },
  {
   "cell_type": "markdown",
   "id": "3b283361",
   "metadata": {},
   "source": [
    "As we can see the quantile function grows very fast because 98% of the users have less than 20000 followers and there are only a few users with more followers."
   ]
  },
  {
   "cell_type": "markdown",
   "id": "80d7a18e",
   "metadata": {},
   "source": [
    "#### What are histograms, bar plots, scatterplots and pie charts used for?"
   ]
  },
  {
   "cell_type": "markdown",
   "id": "c36c8796",
   "metadata": {},
   "source": [
    "* A **histogram** is a grah used to represent the frequency distribution of some data points of a variable. For example, histogram  could represent student test scores. Student scores are classified into different ranges. The height of each bar represents the number of students who scored in that range.\n",
    "\n",
    "* A **bar plot** is a chart/graph that presents categorical data with rectangular bars with heights or lengths proportional to the values that they represent. Categorical data is a grouping of data into discrete groups, such as months of the year, age group, shoe sizes, and animals. These categories are usually qualitative. Bar charts have a discrete domain of categories.\n",
    "\n",
    "* A **scatterplot** is a type of plot or mathematical diagram using Cartesian coordinates to display values for typically two variables for a set of data. It could be used to measure the correlation between two variables. The data are displayed as a collection of points, each having the value of one variable determining the position on the horizontal axis and the value of the other variable determining the position on the vertical axis.\n",
    "\n",
    "* A **pie chart** has the same use of a bar plot: it represents categorical data with a circular statistical graphic, which is divided into slices to illustrate numerical proportion."
   ]
  },
  {
   "cell_type": "markdown",
   "id": "18aab640",
   "metadata": {},
   "source": [
    "#### What insights can you extract from a Box Plot?"
   ]
  },
  {
   "cell_type": "markdown",
   "id": "b374de49",
   "metadata": {},
   "source": [
    "A boxplot provides a visual summary of the data enabling researchers to quickly identify mean values, outliers, the dispersion of the data set, and signs of skewness. It gives a complete image of the probability.\n",
    "\n",
    "It contains the minimum, first quartile, median, third quartile, and maximum."
   ]
  },
  {
   "cell_type": "code",
   "execution_count": null,
   "id": "ca04d6e8",
   "metadata": {},
   "outputs": [],
   "source": []
  },
  {
   "cell_type": "markdown",
   "id": "8fc59e10",
   "metadata": {},
   "source": [
    "# Bonus Question"
   ]
  },
  {
   "cell_type": "code",
   "execution_count": null,
   "id": "17c20474",
   "metadata": {},
   "outputs": [],
   "source": [
    "import math\n",
    "import seaborn as sns\n",
    "from collections import defaultdict\n",
    "import datetime"
   ]
  },
  {
   "cell_type": "markdown",
   "id": "e071c18a",
   "metadata": {},
   "source": [
    "#### a. Sort the users in terms of number of followers and divide them into two groups: for the first group, take only the top 10% regarding \"followers\", and for the second one, take the rest. Now compare the mean of time intervals between posts for the two categories. Do you notice something relevant?"
   ]
  },
  {
   "cell_type": "code",
   "execution_count": 188,
   "id": "0bd0fb52",
   "metadata": {},
   "outputs": [],
   "source": [
    "DF_profiles=pd.read_csv('instagram_profiles.csv', delimiter='\\t',usecols = ['profile_id','followers'],low_memory=True)"
   ]
  },
  {
   "cell_type": "code",
   "execution_count": 189,
   "id": "9fff9b0b",
   "metadata": {},
   "outputs": [],
   "source": [
    "DF_posts=pd.read_csv('instagram_posts.csv', delimiter='\\t',usecols = ['profile_id','cts'],low_memory=True)\n",
    "DF_posts.cts = pd.to_datetime(DF_posts.cts)"
   ]
  },
  {
   "cell_type": "code",
   "execution_count": 192,
   "id": "8d7154ef",
   "metadata": {},
   "outputs": [],
   "source": [
    "DF_profiles_sorted = DF_profiles.sort_values(by='followers', ascending = False) #Sorting the dataframe by 'followers' col\n",
    "DF_profiles_sorted_10=DF_profiles_sorted.head(int(np.ceil(0.1*DF_profiles.shape[0]))) #From the sorted dataframe we take only the top 10%\n",
    "DF_profiles_90=DF_profiles.drop(DF_profiles_sorted_10.index) #From the main dataframe we drop we index of users in the 10%"
   ]
  },
  {
   "cell_type": "code",
   "execution_count": 193,
   "id": "b761c142",
   "metadata": {},
   "outputs": [],
   "source": [
    "#From instangram_posts.csv dividing the users in top 10% and not in 10%\n",
    "ids_unique_10 = DF_profiles_sorted_10['profile_id'].unique()\n",
    "ids_unique_90=DF_profiles_90['profile_id'].unique()\n",
    "DF_average_times_10 = DF_posts[DF_posts['profile_id'].isin(ids_unique_10)]\n",
    "DF_average_times_90=DF_posts[DF_posts['profile_id'].isin(ids_unique_90)]"
   ]
  },
  {
   "cell_type": "code",
   "execution_count": 194,
   "id": "5eca4b48",
   "metadata": {},
   "outputs": [],
   "source": [
    "#Dropping NaT results\n",
    "DF_average_times_10=DF_average_times_10.dropna()\n",
    "DF_average_times_90=DF_average_times_90.dropna()\n"
   ]
  },
  {
   "cell_type": "code",
   "execution_count": 195,
   "id": "1e42f26a",
   "metadata": {},
   "outputs": [],
   "source": [
    "#Computing the averages times between posts in the top 10%, and not top 10%, datasets \n",
    "Average_10=(DF_average_times_10['cts'].max()-DF_average_times_10['cts'].min())/(DF_average_times_10.shape[0]-1)\n",
    "Average_90=(DF_average_times_90['cts'].max()-DF_average_times_90['cts'].min())/(DF_average_times_90.shape[0]-1)"
   ]
  },
  {
   "cell_type": "code",
   "execution_count": 196,
   "id": "4dbb634d",
   "metadata": {},
   "outputs": [
    {
     "name": "stdout",
     "output_type": "stream",
     "text": [
      "Averages times in the top 10% (1st group) users is: 0 days 00:00:56.089334402\n",
      "Averages times for the rest (2nd group): 0 days 00:00:14.019993790\n"
     ]
    }
   ],
   "source": [
    "print('Averages times in the top 10% (1st group) users is:',Average_10)\n",
    "print('Averages times for the rest (2nd group):',Average_90)"
   ]
  },
  {
   "cell_type": "markdown",
   "id": "efa81210",
   "metadata": {},
   "source": [
    "The number of users in the 2nd group is 9 times more than the number of people in the 1st group. Therefore, we expect the average time between posts of the 2nd group to be 9 times less than the average time between posts of the 1st group.\n",
    "\n",
    "For example, if group 1 has only 1 user and group 2 has 9 users, we can expect the mean time between the posts of the 2nd group to be 9 times smaller than the mean time between posts of group 1.\n",
    "\n",
    "From the averages computed above, we can see that the 1st group has an average time of 56 seconds and the 2nd group has an average time of 14 seconds. We can see that the mean time of the bigger group (the 2nd one) is 4 times less than the average time between posts of the 1st group not 9 times less. Therefore, the 1st group posts more often than the 2nd one.\n",
    "\n",
    "\n",
    "The 2nd group post more (more number of posts) in absolute value. However, they post less often proportionally to the 1st group."
   ]
  },
  {
   "cell_type": "markdown",
   "id": "bf400b6e",
   "metadata": {},
   "source": [
    "#### b. Assume users publish their posts the same day pictures or videos are taken: Are there users that have visited the same location on the same day? How about the same week? Extract the results and explain them."
   ]
  },
  {
   "cell_type": "code",
   "execution_count": 197,
   "id": "6f5c710a",
   "metadata": {},
   "outputs": [],
   "source": [
    "df_posts=pd.read_csv('instagram_posts.csv', delimiter='\\t',usecols = ['profile_id','location_id','cts'],low_memory=True)"
   ]
  },
  {
   "cell_type": "code",
   "execution_count": 198,
   "id": "94f2d098",
   "metadata": {},
   "outputs": [],
   "source": [
    "df_posts.cts = pd.to_datetime(df_posts.cts)"
   ]
  },
  {
   "cell_type": "code",
   "execution_count": 199,
   "id": "bd678336",
   "metadata": {},
   "outputs": [],
   "source": [
    "df_posts['day']=df_posts.cts.dt.date"
   ]
  },
  {
   "cell_type": "code",
   "execution_count": 200,
   "id": "7cb86cb7",
   "metadata": {},
   "outputs": [],
   "source": [
    "df_posts_1=df_posts[['profile_id','location_id','day']]"
   ]
  },
  {
   "cell_type": "code",
   "execution_count": 201,
   "id": "4ffbdf32",
   "metadata": {},
   "outputs": [],
   "source": [
    "df_posts_1=df_posts_1.drop_duplicates()"
   ]
  },
  {
   "cell_type": "code",
   "execution_count": 202,
   "id": "3f0eb7a7",
   "metadata": {},
   "outputs": [],
   "source": [
    "df_posts_1=df_posts_1[['location_id','day']]"
   ]
  },
  {
   "cell_type": "code",
   "execution_count": 203,
   "id": "1fe4d07b",
   "metadata": {},
   "outputs": [
    {
     "data": {
      "text/plain": [
       "17178169"
      ]
     },
     "execution_count": 203,
     "metadata": {},
     "output_type": "execute_result"
    }
   ],
   "source": [
    "df_posts_1.duplicated().sum()"
   ]
  },
  {
   "cell_type": "markdown",
   "id": "8e70eb46",
   "metadata": {},
   "source": [
    "Because there are duplicates there are users that have posts in the same location on the same day. Those are around 17 milion"
   ]
  },
  {
   "cell_type": "code",
   "execution_count": 204,
   "id": "3a482050",
   "metadata": {},
   "outputs": [
    {
     "data": {
      "text/html": [
       "<div>\n",
       "<style scoped>\n",
       "    .dataframe tbody tr th:only-of-type {\n",
       "        vertical-align: middle;\n",
       "    }\n",
       "\n",
       "    .dataframe tbody tr th {\n",
       "        vertical-align: top;\n",
       "    }\n",
       "\n",
       "    .dataframe thead th {\n",
       "        text-align: right;\n",
       "    }\n",
       "</style>\n",
       "<table border=\"1\" class=\"dataframe\">\n",
       "  <thead>\n",
       "    <tr style=\"text-align: right;\">\n",
       "      <th></th>\n",
       "      <th>profile_id</th>\n",
       "      <th>location_id</th>\n",
       "      <th>cts</th>\n",
       "      <th>day</th>\n",
       "    </tr>\n",
       "  </thead>\n",
       "  <tbody>\n",
       "    <tr>\n",
       "      <th>0</th>\n",
       "      <td>2237947779.000000</td>\n",
       "      <td>1022366247837915.000000</td>\n",
       "      <td>2017-08-06 20:06:57</td>\n",
       "      <td>2017-08-06</td>\n",
       "    </tr>\n",
       "    <tr>\n",
       "      <th>1</th>\n",
       "      <td>5579335020.000000</td>\n",
       "      <td>457426771112991.000000</td>\n",
       "      <td>2017-06-19 09:31:16</td>\n",
       "      <td>2017-06-19</td>\n",
       "    </tr>\n",
       "    <tr>\n",
       "      <th>2</th>\n",
       "      <td>313429634.000000</td>\n",
       "      <td>457426771112991.000000</td>\n",
       "      <td>2017-03-11 20:05:03</td>\n",
       "      <td>2017-03-11</td>\n",
       "    </tr>\n",
       "    <tr>\n",
       "      <th>3</th>\n",
       "      <td>1837592700.000000</td>\n",
       "      <td>457426771112991.000000</td>\n",
       "      <td>2016-09-13 16:27:16</td>\n",
       "      <td>2016-09-13</td>\n",
       "    </tr>\n",
       "    <tr>\n",
       "      <th>4</th>\n",
       "      <td>1131527143.000000</td>\n",
       "      <td>457426771112991.000000</td>\n",
       "      <td>2015-10-18 10:19:27</td>\n",
       "      <td>2015-10-18</td>\n",
       "    </tr>\n",
       "  </tbody>\n",
       "</table>\n",
       "</div>"
      ],
      "text/plain": [
       "         profile_id             location_id                 cts         day\n",
       "0 2237947779.000000 1022366247837915.000000 2017-08-06 20:06:57  2017-08-06\n",
       "1 5579335020.000000  457426771112991.000000 2017-06-19 09:31:16  2017-06-19\n",
       "2  313429634.000000  457426771112991.000000 2017-03-11 20:05:03  2017-03-11\n",
       "3 1837592700.000000  457426771112991.000000 2016-09-13 16:27:16  2016-09-13\n",
       "4 1131527143.000000  457426771112991.000000 2015-10-18 10:19:27  2015-10-18"
      ]
     },
     "execution_count": 204,
     "metadata": {},
     "output_type": "execute_result"
    }
   ],
   "source": [
    "df_posts.head()"
   ]
  },
  {
   "cell_type": "code",
   "execution_count": 205,
   "id": "8622fb84",
   "metadata": {},
   "outputs": [],
   "source": [
    "df_posts['week']= df_posts.cts.dt.isocalendar().week\n",
    "df_posts['year']= df_posts.cts.dt.year"
   ]
  },
  {
   "cell_type": "code",
   "execution_count": 206,
   "id": "a9ab42d3",
   "metadata": {},
   "outputs": [
    {
     "data": {
      "text/html": [
       "<div>\n",
       "<style scoped>\n",
       "    .dataframe tbody tr th:only-of-type {\n",
       "        vertical-align: middle;\n",
       "    }\n",
       "\n",
       "    .dataframe tbody tr th {\n",
       "        vertical-align: top;\n",
       "    }\n",
       "\n",
       "    .dataframe thead th {\n",
       "        text-align: right;\n",
       "    }\n",
       "</style>\n",
       "<table border=\"1\" class=\"dataframe\">\n",
       "  <thead>\n",
       "    <tr style=\"text-align: right;\">\n",
       "      <th></th>\n",
       "      <th>profile_id</th>\n",
       "      <th>location_id</th>\n",
       "      <th>cts</th>\n",
       "      <th>day</th>\n",
       "      <th>week</th>\n",
       "      <th>year</th>\n",
       "    </tr>\n",
       "  </thead>\n",
       "  <tbody>\n",
       "    <tr>\n",
       "      <th>0</th>\n",
       "      <td>2237947779.000000</td>\n",
       "      <td>1022366247837915.000000</td>\n",
       "      <td>2017-08-06 20:06:57</td>\n",
       "      <td>2017-08-06</td>\n",
       "      <td>31</td>\n",
       "      <td>2017.000000</td>\n",
       "    </tr>\n",
       "    <tr>\n",
       "      <th>1</th>\n",
       "      <td>5579335020.000000</td>\n",
       "      <td>457426771112991.000000</td>\n",
       "      <td>2017-06-19 09:31:16</td>\n",
       "      <td>2017-06-19</td>\n",
       "      <td>25</td>\n",
       "      <td>2017.000000</td>\n",
       "    </tr>\n",
       "    <tr>\n",
       "      <th>2</th>\n",
       "      <td>313429634.000000</td>\n",
       "      <td>457426771112991.000000</td>\n",
       "      <td>2017-03-11 20:05:03</td>\n",
       "      <td>2017-03-11</td>\n",
       "      <td>10</td>\n",
       "      <td>2017.000000</td>\n",
       "    </tr>\n",
       "    <tr>\n",
       "      <th>3</th>\n",
       "      <td>1837592700.000000</td>\n",
       "      <td>457426771112991.000000</td>\n",
       "      <td>2016-09-13 16:27:16</td>\n",
       "      <td>2016-09-13</td>\n",
       "      <td>37</td>\n",
       "      <td>2016.000000</td>\n",
       "    </tr>\n",
       "    <tr>\n",
       "      <th>4</th>\n",
       "      <td>1131527143.000000</td>\n",
       "      <td>457426771112991.000000</td>\n",
       "      <td>2015-10-18 10:19:27</td>\n",
       "      <td>2015-10-18</td>\n",
       "      <td>42</td>\n",
       "      <td>2015.000000</td>\n",
       "    </tr>\n",
       "  </tbody>\n",
       "</table>\n",
       "</div>"
      ],
      "text/plain": [
       "         profile_id             location_id                 cts         day  \\\n",
       "0 2237947779.000000 1022366247837915.000000 2017-08-06 20:06:57  2017-08-06   \n",
       "1 5579335020.000000  457426771112991.000000 2017-06-19 09:31:16  2017-06-19   \n",
       "2  313429634.000000  457426771112991.000000 2017-03-11 20:05:03  2017-03-11   \n",
       "3 1837592700.000000  457426771112991.000000 2016-09-13 16:27:16  2016-09-13   \n",
       "4 1131527143.000000  457426771112991.000000 2015-10-18 10:19:27  2015-10-18   \n",
       "\n",
       "   week        year  \n",
       "0    31 2017.000000  \n",
       "1    25 2017.000000  \n",
       "2    10 2017.000000  \n",
       "3    37 2016.000000  \n",
       "4    42 2015.000000  "
      ]
     },
     "execution_count": 206,
     "metadata": {},
     "output_type": "execute_result"
    }
   ],
   "source": [
    "df_posts.head()"
   ]
  },
  {
   "cell_type": "code",
   "execution_count": 207,
   "id": "926b1282",
   "metadata": {},
   "outputs": [],
   "source": [
    "df_posts_2 = df_posts[['profile_id','location_id','year', 'week']]"
   ]
  },
  {
   "cell_type": "code",
   "execution_count": 208,
   "id": "d7a27d43",
   "metadata": {},
   "outputs": [],
   "source": [
    "df_posts_2 = df_posts_2.drop_duplicates()"
   ]
  },
  {
   "cell_type": "code",
   "execution_count": 209,
   "id": "255ef54c",
   "metadata": {},
   "outputs": [],
   "source": [
    "df_posts_3 = df_posts_2[['location_id','year', 'week']]"
   ]
  },
  {
   "cell_type": "code",
   "execution_count": 210,
   "id": "1ecb009e",
   "metadata": {},
   "outputs": [
    {
     "data": {
      "text/plain": [
       "19356240"
      ]
     },
     "execution_count": 210,
     "metadata": {},
     "output_type": "execute_result"
    }
   ],
   "source": [
    "df_posts_3.duplicated().sum()"
   ]
  },
  {
   "cell_type": "markdown",
   "id": "c0eada17",
   "metadata": {},
   "source": [
    "Doing the same things as before we can say that there are users that have visited the same location in the same week"
   ]
  },
  {
   "cell_type": "markdown",
   "id": "bafae8b5",
   "metadata": {},
   "source": [
    "#### c. Implement a text data analysis (also known as text mining) of the field \"description\" from instagram_posts.csv for descriptions written in English. Use appropriate visualizations and statistics to highlight the words (and probably the topics) provided for the users in that field."
   ]
  },
  {
   "cell_type": "code",
   "execution_count": 211,
   "id": "2d5f8f41",
   "metadata": {},
   "outputs": [
    {
     "name": "stdout",
     "output_type": "stream",
     "text": [
      "Collecting langdetect\n",
      "  Downloading langdetect-1.0.9.tar.gz (981 kB)\n",
      "Requirement already satisfied: six in c:\\users\\yoann\\anaconda3\\lib\\site-packages (from langdetect) (1.16.0)\n",
      "Building wheels for collected packages: langdetect\n",
      "  Building wheel for langdetect (setup.py): started\n",
      "  Building wheel for langdetect (setup.py): finished with status 'done'\n",
      "  Created wheel for langdetect: filename=langdetect-1.0.9-py3-none-any.whl size=993242 sha256=8dd580396a463737f8d33ce33cedf3c3e0058a6958e686d90633c01d2aafdf20\n",
      "  Stored in directory: c:\\users\\yoann\\appdata\\local\\pip\\cache\\wheels\\d1\\c1\\d9\\7e068de779d863bc8f8fc9467d85e25cfe47fa5051fff1a1bb\n",
      "Successfully built langdetect\n",
      "Installing collected packages: langdetect\n",
      "Successfully installed langdetect-1.0.9\n"
     ]
    }
   ],
   "source": [
    "!pip install langdetect\n",
    "from langdetect import detect\n",
    "import collections"
   ]
  },
  {
   "cell_type": "code",
   "execution_count": 212,
   "id": "039bd33f",
   "metadata": {},
   "outputs": [
    {
     "name": "stderr",
     "output_type": "stream",
     "text": [
      "[nltk_data] Downloading package stopwords to\n",
      "[nltk_data]     C:\\Users\\yoann\\AppData\\Roaming\\nltk_data...\n",
      "[nltk_data]   Unzipping corpora\\stopwords.zip.\n"
     ]
    }
   ],
   "source": [
    "from langdetect import detect\n",
    "import collections\n",
    "import nltk\n",
    "nltk.download('stopwords')\n",
    "from nltk.corpus import stopwords"
   ]
  },
  {
   "cell_type": "code",
   "execution_count": 213,
   "id": "a8dace03",
   "metadata": {},
   "outputs": [],
   "source": [
    "stop_words = stopwords.words('english')"
   ]
  },
  {
   "cell_type": "code",
   "execution_count": 214,
   "id": "33653aca",
   "metadata": {},
   "outputs": [],
   "source": [
    "#We get some constraints on the number of rows just to make it fast\n",
    "chunksize = 10**3\n",
    "rows=10**5\n",
    "df_detect = pd.DataFrame()\n",
    "for chunk in pd.read_csv('instagram_posts.csv', delimiter=\"\\t\", usecols = ['description'], low_memory = True,nrows=rows, chunksize=chunksize):\n",
    "\n",
    "    if detect(str(chunk['description']))=='en':\n",
    "        df_detect = pd.concat([df_detect, chunk], ignore_index=True, ) \n",
    "        \n",
    "df_detect=df_detect.dropna() \n",
    "df_detect['description'] = df_detect['description'].apply(lambda x: ' '.join([word for word in x.split() if word not in (stop_words)]))\n",
    "r1 = df_detect['description']\n",
    "w=dict(collections.Counter([y for x in r1.values.flatten() for y in x.split()])) "
   ]
  },
  {
   "cell_type": "code",
   "execution_count": 215,
   "id": "b2c8c3e9",
   "metadata": {},
   "outputs": [
    {
     "data": {
      "text/plain": [
       "339171"
      ]
     },
     "execution_count": 215,
     "metadata": {},
     "output_type": "execute_result"
    }
   ],
   "source": [
    "#Since the detect function have a high rate of error we have to clean a bit the dict\n",
    "w_keys=list(w.keys())\n",
    "L=len(w_keys)\n",
    "En_alpha=['a', 'b', 'c', 'd', 'e', 'f', 'g', 'h', 'i', 'j', 'k', 'l', 'm', 'n', 'o', 'p', 'q', 'r', 's', 't', 'u', 'v', 'w', 'x', 'y', 'z','A', 'B', 'C', 'D', 'E', 'F', 'G', 'H', 'I', 'J', 'K', 'L', 'M', 'N', 'O', 'P', 'Q', 'R', 'S', 'T', 'U', 'V', 'W', 'X', 'Y', 'Z']\n",
    "for i in range(L):\n",
    "    if w_keys[i].isalpha() and w_keys[i][0] in En_alpha:\n",
    "        0\n",
    "    else:\n",
    "        w.pop(w_keys[i],0) \n",
    "newL=len(list(w.keys()))\n",
    "L-newL #number of undetected words that we have cleaned from our dict\n",
    "#even if we cleaned the dict we may find some words that are not english!"
   ]
  },
  {
   "cell_type": "code",
   "execution_count": 216,
   "id": "a658d49b",
   "metadata": {},
   "outputs": [],
   "source": [
    "#creating a DataFrame to apply easly some constraints on the words\n",
    "DF_w=pd.DataFrame.from_dict(w,orient='index',columns=['repetitions'])\n",
    "DF_w=DF_w.sort_values(by = 'repetitions', ascending = False)"
   ]
  },
  {
   "cell_type": "code",
   "execution_count": 217,
   "id": "f65ff497",
   "metadata": {},
   "outputs": [],
   "source": [
    "#dropping values that might be meaningless (usually the words that appear very often and the one that appears very few times) \n",
    "M=0.03\n",
    "m=0.001\n",
    "DF_w=DF_w.drop(DF_w[(DF_w.repetitions>(M*DF_w.shape[0])) | (DF_w.repetitions<(m*DF_w.shape[0]))].index)"
   ]
  },
  {
   "cell_type": "code",
   "execution_count": 218,
   "id": "a2acc47b",
   "metadata": {
    "scrolled": true
   },
   "outputs": [
    {
     "data": {
      "text/html": [
       "<div>\n",
       "<style scoped>\n",
       "    .dataframe tbody tr th:only-of-type {\n",
       "        vertical-align: middle;\n",
       "    }\n",
       "\n",
       "    .dataframe tbody tr th {\n",
       "        vertical-align: top;\n",
       "    }\n",
       "\n",
       "    .dataframe thead th {\n",
       "        text-align: right;\n",
       "    }\n",
       "</style>\n",
       "<table border=\"1\" class=\"dataframe\">\n",
       "  <thead>\n",
       "    <tr style=\"text-align: right;\">\n",
       "      <th></th>\n",
       "      <th>repetitions</th>\n",
       "    </tr>\n",
       "  </thead>\n",
       "  <tbody>\n",
       "    <tr>\n",
       "      <th>vibes</th>\n",
       "      <td>82</td>\n",
       "    </tr>\n",
       "    <tr>\n",
       "      <th>tan</th>\n",
       "      <td>81</td>\n",
       "    </tr>\n",
       "    <tr>\n",
       "      <th>cho</th>\n",
       "      <td>81</td>\n",
       "    </tr>\n",
       "    <tr>\n",
       "      <th>của</th>\n",
       "      <td>81</td>\n",
       "    </tr>\n",
       "    <tr>\n",
       "      <th>amor</th>\n",
       "      <td>81</td>\n",
       "    </tr>\n",
       "    <tr>\n",
       "      <th>Los</th>\n",
       "      <td>81</td>\n",
       "    </tr>\n",
       "    <tr>\n",
       "      <th>City</th>\n",
       "      <td>81</td>\n",
       "    </tr>\n",
       "    <tr>\n",
       "      <th>fabulous</th>\n",
       "      <td>81</td>\n",
       "    </tr>\n",
       "    <tr>\n",
       "      <th>due</th>\n",
       "      <td>81</td>\n",
       "    </tr>\n",
       "    <tr>\n",
       "      <th>Still</th>\n",
       "      <td>81</td>\n",
       "    </tr>\n",
       "    <tr>\n",
       "      <th>talk</th>\n",
       "      <td>81</td>\n",
       "    </tr>\n",
       "    <tr>\n",
       "      <th>car</th>\n",
       "      <td>80</td>\n",
       "    </tr>\n",
       "    <tr>\n",
       "      <th>Looking</th>\n",
       "      <td>80</td>\n",
       "    </tr>\n",
       "    <tr>\n",
       "      <th>dem</th>\n",
       "      <td>80</td>\n",
       "    </tr>\n",
       "    <tr>\n",
       "      <th>personal</th>\n",
       "      <td>80</td>\n",
       "    </tr>\n",
       "    <tr>\n",
       "      <th>staff</th>\n",
       "      <td>80</td>\n",
       "    </tr>\n",
       "    <tr>\n",
       "      <th>Super</th>\n",
       "      <td>80</td>\n",
       "    </tr>\n",
       "    <tr>\n",
       "      <th>stunning</th>\n",
       "      <td>80</td>\n",
       "    </tr>\n",
       "    <tr>\n",
       "      <th>Sometimes</th>\n",
       "      <td>79</td>\n",
       "    </tr>\n",
       "    <tr>\n",
       "      <th>takes</th>\n",
       "      <td>79</td>\n",
       "    </tr>\n",
       "    <tr>\n",
       "      <th>Nice</th>\n",
       "      <td>79</td>\n",
       "    </tr>\n",
       "    <tr>\n",
       "      <th>treat</th>\n",
       "      <td>79</td>\n",
       "    </tr>\n",
       "    <tr>\n",
       "      <th>M</th>\n",
       "      <td>79</td>\n",
       "    </tr>\n",
       "    <tr>\n",
       "      <th>decided</th>\n",
       "      <td>79</td>\n",
       "    </tr>\n",
       "    <tr>\n",
       "      <th>LA</th>\n",
       "      <td>79</td>\n",
       "    </tr>\n",
       "    <tr>\n",
       "      <th>health</th>\n",
       "      <td>79</td>\n",
       "    </tr>\n",
       "    <tr>\n",
       "      <th>create</th>\n",
       "      <td>79</td>\n",
       "    </tr>\n",
       "    <tr>\n",
       "      <th>Call</th>\n",
       "      <td>79</td>\n",
       "    </tr>\n",
       "    <tr>\n",
       "      <th>artist</th>\n",
       "      <td>79</td>\n",
       "    </tr>\n",
       "    <tr>\n",
       "      <th>turn</th>\n",
       "      <td>79</td>\n",
       "    </tr>\n",
       "    <tr>\n",
       "      <th>Free</th>\n",
       "      <td>79</td>\n",
       "    </tr>\n",
       "    <tr>\n",
       "      <th>needs</th>\n",
       "      <td>79</td>\n",
       "    </tr>\n",
       "    <tr>\n",
       "      <th>Tuesday</th>\n",
       "      <td>79</td>\n",
       "    </tr>\n",
       "    <tr>\n",
       "      <th>London</th>\n",
       "      <td>79</td>\n",
       "    </tr>\n",
       "    <tr>\n",
       "      <th>South</th>\n",
       "      <td>78</td>\n",
       "    </tr>\n",
       "    <tr>\n",
       "      <th>dress</th>\n",
       "      <td>78</td>\n",
       "    </tr>\n",
       "    <tr>\n",
       "      <th>info</th>\n",
       "      <td>78</td>\n",
       "    </tr>\n",
       "    <tr>\n",
       "      <th>Well</th>\n",
       "      <td>78</td>\n",
       "    </tr>\n",
       "    <tr>\n",
       "      <th>others</th>\n",
       "      <td>78</td>\n",
       "    </tr>\n",
       "    <tr>\n",
       "      <th>brought</th>\n",
       "      <td>78</td>\n",
       "    </tr>\n",
       "    <tr>\n",
       "      <th>bạn</th>\n",
       "      <td>78</td>\n",
       "    </tr>\n",
       "    <tr>\n",
       "      <th>turned</th>\n",
       "      <td>78</td>\n",
       "    </tr>\n",
       "    <tr>\n",
       "      <th>lost</th>\n",
       "      <td>77</td>\n",
       "    </tr>\n",
       "    <tr>\n",
       "      <th>told</th>\n",
       "      <td>77</td>\n",
       "    </tr>\n",
       "    <tr>\n",
       "      <th>Out</th>\n",
       "      <td>77</td>\n",
       "    </tr>\n",
       "    <tr>\n",
       "      <th>starts</th>\n",
       "      <td>77</td>\n",
       "    </tr>\n",
       "    <tr>\n",
       "      <th>minutes</th>\n",
       "      <td>77</td>\n",
       "    </tr>\n",
       "    <tr>\n",
       "      <th>makeup</th>\n",
       "      <td>77</td>\n",
       "    </tr>\n",
       "    <tr>\n",
       "      <th>plan</th>\n",
       "      <td>77</td>\n",
       "    </tr>\n",
       "    <tr>\n",
       "      <th>entre</th>\n",
       "      <td>77</td>\n",
       "    </tr>\n",
       "  </tbody>\n",
       "</table>\n",
       "</div>"
      ],
      "text/plain": [
       "           repetitions\n",
       "vibes               82\n",
       "tan                 81\n",
       "cho                 81\n",
       "của                 81\n",
       "amor                81\n",
       "Los                 81\n",
       "City                81\n",
       "fabulous            81\n",
       "due                 81\n",
       "Still               81\n",
       "talk                81\n",
       "car                 80\n",
       "Looking             80\n",
       "dem                 80\n",
       "personal            80\n",
       "staff               80\n",
       "Super               80\n",
       "stunning            80\n",
       "Sometimes           79\n",
       "takes               79\n",
       "Nice                79\n",
       "treat               79\n",
       "M                   79\n",
       "decided             79\n",
       "LA                  79\n",
       "health              79\n",
       "create              79\n",
       "Call                79\n",
       "artist              79\n",
       "turn                79\n",
       "Free                79\n",
       "needs               79\n",
       "Tuesday             79\n",
       "London              79\n",
       "South               78\n",
       "dress               78\n",
       "info                78\n",
       "Well                78\n",
       "others              78\n",
       "brought             78\n",
       "bạn                 78\n",
       "turned              78\n",
       "lost                77\n",
       "told                77\n",
       "Out                 77\n",
       "starts              77\n",
       "minutes             77\n",
       "makeup              77\n",
       "plan                77\n",
       "entre               77"
      ]
     },
     "execution_count": 218,
     "metadata": {},
     "output_type": "execute_result"
    }
   ],
   "source": [
    "#We have now some keywords\n",
    "DF_w.tail(50)"
   ]
  },
  {
   "cell_type": "code",
   "execution_count": null,
   "id": "5ebcab31",
   "metadata": {},
   "outputs": [],
   "source": []
  },
  {
   "cell_type": "markdown",
   "id": "2107c2b7",
   "metadata": {},
   "source": [
    "# Algorithmic Question"
   ]
  },
  {
   "cell_type": "markdown",
   "id": "0244520e",
   "metadata": {},
   "source": [
    "# AQ 1"
   ]
  },
  {
   "cell_type": "code",
   "execution_count": 219,
   "id": "c3476a52",
   "metadata": {},
   "outputs": [
    {
     "data": {
      "text/plain": [
       "'Input: \\n    N : an integer \\n    List : array of characters of length N without repetition\\n    \\nfunction f1(sequence, end): \\n    For i=0 To end:\\n        OUTPUT sequence[i]\\n    EndFor\\n    Output \"\\n\"\\n    \\nfunction f2(sequence, start, end): \\n    If start = end: \\n        f1(sequence, end)\\n    Else\\n        For i=start To end: \\n            temp <-- sequence[start]\\n            sequence[start] <-- sequence[i]\\n            sequence[i] <-- temp\\n            f2(sequence, start+1, end)\\n            temp <-- sequence[start]\\n            sequence[start] <-- sequence[i]\\n            sequence[i] <-- temp\\nf2(List, 0, N) '"
      ]
     },
     "execution_count": 219,
     "metadata": {},
     "output_type": "execute_result"
    }
   ],
   "source": [
    "'''Input: \n",
    "    N : an integer \n",
    "    List : array of characters of length N without repetition\n",
    "    \n",
    "function f1(sequence, end): \n",
    "    For i=0 To end:\n",
    "        OUTPUT sequence[i]\n",
    "    EndFor\n",
    "    Output \"\\n\"\n",
    "    \n",
    "function f2(sequence, start, end): \n",
    "    If start = end: \n",
    "        f1(sequence, end)\n",
    "    Else\n",
    "        For i=start To end: \n",
    "            temp <-- sequence[start]\n",
    "            sequence[start] <-- sequence[i]\n",
    "            sequence[i] <-- temp\n",
    "            f2(sequence, start+1, end)\n",
    "            temp <-- sequence[start]\n",
    "            sequence[start] <-- sequence[i]\n",
    "            sequence[i] <-- temp\n",
    "f2(List, 0, N) '''"
   ]
  },
  {
   "cell_type": "markdown",
   "id": "160ab588",
   "metadata": {},
   "source": [
    "#### What is the output of this algorithm? Describe the mechanism of the algorithm in detail . We do not want to know only its final result. (Describe one example on your own)"
   ]
  },
  {
   "cell_type": "markdown",
   "id": "85b9d181",
   "metadata": {},
   "source": [
    "This algorithm aims to permute a sequence of length N.\n",
    "Using for example the sequence 0,1,2 starting from 0 and ending to 3, the \"temp\" stores the value seq[0] (our starting point), in the second iteration the f2 function takes in input the same sequence but starting+1 point and the same ending point in this case the first element of the sequence become seq[1] \n",
    "\n",
    "(1), in the next iteration the first element of the sequence become seq[2]\n",
    "\n",
    "(2). At this point the start == end and the f1 print the first sequence (0,1,2). in this way we continue this recursive algorithm using temporary variable until compute the first permutation (0,2,1) and so on."
   ]
  },
  {
   "cell_type": "code",
   "execution_count": 38,
   "id": "b6e890ae",
   "metadata": {},
   "outputs": [
    {
     "name": "stdout",
     "output_type": "stream",
     "text": [
      "0\n",
      "1\n",
      "2\n",
      "\n",
      "\n",
      "0\n",
      "2\n",
      "1\n",
      "\n",
      "\n",
      "1\n",
      "0\n",
      "2\n",
      "\n",
      "\n",
      "1\n",
      "2\n",
      "0\n",
      "\n",
      "\n",
      "2\n",
      "1\n",
      "0\n",
      "\n",
      "\n",
      "2\n",
      "0\n",
      "1\n",
      "\n",
      "\n"
     ]
    }
   ],
   "source": [
    "\n",
    "def f1(seq,end):\n",
    "    for i in range(end):\n",
    "        print(seq[i])        \n",
    "    return(print('\\n'))\n",
    "                 \n",
    "def f2(sequence, start, end):\n",
    "    if start == end:\n",
    "        f1(seq,end)\n",
    "    else:\n",
    "        for i in range(start,end):\n",
    "            temp = sequence[start]\n",
    "            sequence[start] = sequence[i]\n",
    "            sequence[i] = temp\n",
    "            f2(sequence, start+1, end)\n",
    "            temp = sequence[start] \n",
    "            sequence[start] = sequence[i]\n",
    "            sequence[i] = temp\n",
    "           \n",
    "N=3\n",
    "seq=[i for i in range(N)]\n",
    "f2(seq,0,N)\n"
   ]
  },
  {
   "cell_type": "markdown",
   "id": "e840bd7c",
   "metadata": {},
   "source": [
    "#### What is asymptotically (i.e., we are asking for big-O complexity) the algorithm's running time as a function of N?"
   ]
  },
  {
   "cell_type": "markdown",
   "id": "0188b3b4",
   "metadata": {},
   "source": [
    "f1 have complexity N since it only prints the sequence elementwise,but f2 is a recursive algorithm and have a running time of:\n",
    "$$T(N)=N(K+T(N-1))=N(K+(N-1)(K+T(N-2))=....=\\sum_{i=i}^{N}\\frac{N!}{(N-i)!}k+N!T(0)$$\n",
    "\n",
    "Where T(0) has the complexity of f1 which is N, so the big-O complexity is $\\Theta(NN!)$ which is extremely expansive.\n",
    "\n",
    "\n"
   ]
  },
  {
   "cell_type": "markdown",
   "id": "f6fbbd0e",
   "metadata": {},
   "source": [
    "#### Is this algorithm the optimal one to produce this output? If not, can you suggest a better algorithm to perform the same task?"
   ]
  },
  {
   "cell_type": "markdown",
   "id": "0fa2ba48",
   "metadata": {},
   "source": [
    "Since the number of permutations for a sequence of N element is N!, an algorithm has to compute at least N! operations."
   ]
  },
  {
   "cell_type": "markdown",
   "id": "739f7346",
   "metadata": {},
   "source": [
    "# AQ 2"
   ]
  },
  {
   "cell_type": "markdown",
   "id": "55df2621",
   "metadata": {},
   "source": [
    "#### Implement a recursive algorithm to help Alex find the maximum possible value after multiplying the length of the pieces. Explain your algorithm in detail."
   ]
  },
  {
   "cell_type": "code",
   "execution_count": 83,
   "id": "e6b8cff4",
   "metadata": {},
   "outputs": [
    {
     "data": {
      "text/plain": [
       "8748"
      ]
     },
     "execution_count": 83,
     "metadata": {},
     "output_type": "execute_result"
    }
   ],
   "source": [
    "def MUL(k,D=0):   \n",
    "    A=(k//2)*((k+1)//2) #calculate the max product with only one cut \n",
    "    D=max(D,k,A)        #the max of the previous max and the product of one cut (we add 'k' because if k=3, k>A=2)\n",
    "    for i in range(1,(k+1)//2): \n",
    "        D=max(D,MUL(i,0)*MUL(k-i,0))  # in this line we recall the function\n",
    "    return D  \n",
    "\n",
    "def ribbon_exp(n):\n",
    "    if n in [2,3]:    # we have to esclude the case n=2,3 \n",
    "        return n-1\n",
    "    else:\n",
    "        return MUL(n,0)\n",
    "ribbon_exp(25)"
   ]
  },
  {
   "cell_type": "markdown",
   "id": "b867a243",
   "metadata": {},
   "source": [
    "#### Show that the algorithm has exponential running time."
   ]
  },
  {
   "cell_type": "markdown",
   "id": "cf38b2e5-25a9-4994-8998-49fab302d9b7",
   "metadata": {},
   "source": [
    "$T(k)=\\sum_{i=1}^k T(i)+T(k-i)$\n",
    "\n",
    "$\\sum_{i=1}^k C+ T(k-i)\\le T(k)$, we minimize $T(i)$ with $T(0)$, that is costant. \n",
    "\n",
    "First we evaluete the cost of $\\sum_{i=1}^k T(k-i)$\n",
    "\n",
    "$T(k)=\\sum_{i=1}^{k} T(k-i)=T(k-1)+\\dots+T(0)$\n",
    "\n",
    "$\\sum_{i=1}^k T(k-i)=T(k)+T(k-1)+\\dots+T(0)=T(k)+\\sum_{i=1}^{k-1} T(k-i)=2 \\sum_{i=1}^{k-1} T(k-i)=2(2\\sum_{i=1}^{k-2} T(k-i))=\\dots=2^kT(0)$\n",
    "\n",
    "This is an exponential cost.\n"
   ]
  },
  {
   "cell_type": "markdown",
   "id": "f6ff58e4",
   "metadata": {},
   "source": [
    "#### Now provide a polynomial solution, based on dynamic programming, and compute its running-time complexity."
   ]
  },
  {
   "cell_type": "code",
   "execution_count": 84,
   "id": "aee10d07",
   "metadata": {},
   "outputs": [
    {
     "data": {
      "text/plain": [
       "8748"
      ]
     },
     "execution_count": 84,
     "metadata": {},
     "output_type": "execute_result"
    }
   ],
   "source": [
    "import numpy as np\n",
    "def ribbon_pol(N):\n",
    "    p=[1]\n",
    "    if N==1:\n",
    "        return 1\n",
    "    M=[0]\n",
    "    for i in range(2,N+1):\n",
    "       \n",
    "        I=i-1\n",
    "        P=int(np.floor(i/2)*(np.floor(i/2)+i%2))\n",
    "        p.append(P)\n",
    "        k=1\n",
    "        j=0\n",
    "        while k!=I:\n",
    "            if p[I-k]*k<=p[I]:\n",
    "                k+=1\n",
    "            elif p[I-k]*k>p[I]:\n",
    "                M.append(p[I-k]*k)\n",
    "                k+=1\n",
    "        if len(M)>1:\n",
    "            \n",
    "            p[I]=max(M)\n",
    "            M=[0]\n",
    "    return p[N-1]\n",
    "\n",
    "ribbon_pol(25)\n",
    "              "
   ]
  },
  {
   "cell_type": "markdown",
   "id": "3ec42a78-dd0f-48ca-b537-efda38b44554",
   "metadata": {},
   "source": [
    "This algorithm have complexity $$T(N)=(N-1)(k+Nj)=N(k-j)+N^2j-k \\hspace{1cm} \\text{where k,j are constants}$$\n",
    "\n",
    "So we have that the big-O complexity is $\\Theta (N^2)$."
   ]
  },
  {
   "cell_type": "markdown",
   "id": "ee2ee342",
   "metadata": {},
   "source": [
    "#### Evaluate the running time of your algorithm for the sizes (Ns) in the range of [2, 25], plot the results, and interpret it (if you have implemented two algorithms, please include both in the plot and compare them)."
   ]
  },
  {
   "cell_type": "code",
   "execution_count": 103,
   "id": "b89e263d",
   "metadata": {},
   "outputs": [
    {
     "data": {
      "image/png": "[encoded data removed]",
      "text/plain": [
       "<Figure size 640x480 with 1 Axes>"
      ]
     },
     "metadata": {},
     "output_type": "display_data"
    },
    {
     "data": {
      "image/png": "[encoded data removed]",
      "text/plain": [
       "<Figure size 640x480 with 1 Axes>"
      ]
     },
     "metadata": {},
     "output_type": "display_data"
    }
   ],
   "source": [
    "import timeit\n",
    "import matplotlib.pyplot as plt\n",
    "Ns= np.arange(2,26)\n",
    "time_pol=[]\n",
    "time_exp=[]\n",
    "\n",
    "for i in range(Ns.shape[0]):\n",
    "    start = timeit.default_timer()\n",
    "    ribbon_pol(int(Ns[i]))\n",
    "    stop = timeit.default_timer()\n",
    "    t=stop-start\n",
    "    time_pol.append(t)\n",
    "    \n",
    "    Start = timeit.default_timer()\n",
    "    ribbon_exp(int(Ns[i]))\n",
    "    Stop = timeit.default_timer()\n",
    "    T=Stop-Start\n",
    "    time_exp.append(T)\n",
    "\n",
    "plt.subplot(121)\n",
    "plt.title('Poly times')\n",
    "plt.bar(Ns,time_pol)\n",
    "plt.show()\n",
    "plt.subplot(122)\n",
    "plt.title('Exp times')\n",
    "plt.bar(Ns,time_exp)\n",
    "plt.show()\n"
   ]
  },
  {
   "cell_type": "markdown",
   "id": "242d66d0-75cf-491b-a4ca-bf04a92a56b6",
   "metadata": {},
   "source": [
    "Looking at the plots we can easily see a polynomial graphic and an exponential one.\n",
    "\n",
    "Times magnitude are really different, for the poly one we have around milliseconds rather then seconds,like  in the exponential one."
   ]
  },
  {
   "cell_type": "markdown",
   "id": "85d69aaf",
   "metadata": {},
   "source": [
    "#### (Optional, mini bonus) Is the algorithm of question 3 optimal? If you belive it, can you prove it? If not, can you find a faster algorithm? In case you found a faster algorithm implement it and explain your algorithm in detail."
   ]
  },
  {
   "cell_type": "markdown",
   "id": "c18b1474",
   "metadata": {},
   "source": [
    "If we divide the ribbon of length N into (N/M)*M pieces, the product would be $M^{(N/M)}$ and considering it as a continous problem we could compute the derivative and find the roots of it, doing so we would find the number $e$ and since the closer integer are 2 and 3, we should divide the ribbon into 2 or 3 chunkies; reiterating it and considering some examples like 10=5+5=(3+2)+(3+2)=3+3+4, we notice that we have to add as many 3 as needed to have the last number being in {4,3,2} so rethinking this problem into a mod problem we reach the following algorithm that has constant running time."
   ]
  },
  {
   "cell_type": "code",
   "execution_count": 105,
   "id": "8a82c4b7",
   "metadata": {},
   "outputs": [
    {
     "name": "stdout",
     "output_type": "stream",
     "text": [
      "18\n"
     ]
    }
   ],
   "source": [
    "import numpy as np\n",
    "def ribbon(N):\n",
    "    i=N%3\n",
    "    if i==0:\n",
    "        return int((3**(N/3)))\n",
    "    if i==1:\n",
    "        return int((3**(np.floor(N/3)-1)*4))\n",
    "    if i==2:\n",
    "        return int((3**(np.floor(N/3))*2))\n",
    "print(ribbon(8))\n"
   ]
  },
  {
   "cell_type": "code",
   "execution_count": 110,
   "id": "e03ffc83-87da-4cf2-bc18-58a644e75ad8",
   "metadata": {},
   "outputs": [
    {
     "data": {
      "image/png": "[encoded data removed]",
      "text/plain": [
       "<Figure size 640x480 with 1 Axes>"
      ]
     },
     "metadata": {},
     "output_type": "display_data"
    }
   ],
   "source": [
    "import matplotlib.pyplot as plt\n",
    "\n",
    "Ns= np.arange(2,260)\n",
    "time_const=[]\n",
    "\n",
    "for i in range(Ns.shape[0]):\n",
    "    start = timeit.default_timer()\n",
    "    ribbon(int(Ns[i]))\n",
    "    stop = timeit.default_timer()\n",
    "    t=stop-start\n",
    "    time_const.append(t)\n",
    "\n",
    "\n",
    "\n",
    "plt.title('Const times')\n",
    "plt.bar(Ns,time_const)\n",
    "plt.show()\n",
    "\n"
   ]
  },
  {
   "cell_type": "markdown",
   "id": "524d1f3d-9412-4144-a018-bb080453fbf0",
   "metadata": {},
   "source": [
    "As we can see in the plot, the running time is constant"
   ]
  },
  {
   "cell_type": "code",
   "execution_count": null,
   "id": "5f498970-9ced-458a-995f-96ccfc90bc58",
   "metadata": {},
   "outputs": [],
   "source": []
  }
 ],
 "metadata": {
  "kernelspec": {
   "display_name": "Python 3 (ipykernel)",
   "language": "python",
   "name": "python3"
  },
  "language_info": {
   "codemirror_mode": {
    "name": "ipython",
    "version": 3
   },
   "file_extension": ".py",
   "mimetype": "text/x-python",
   "name": "python",
   "nbconvert_exporter": "python",
   "pygments_lexer": "ipython3",
   "version": "3.9.12"
  }
 },
 "nbformat": 4,
 "nbformat_minor": 5
}
